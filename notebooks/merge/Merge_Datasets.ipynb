{
 "cells": [
  {
   "cell_type": "markdown",
   "metadata": {},
   "source": [
    "# Merging the datasets of publications related to COVID-19"
   ]
  },
  {
   "cell_type": "code",
   "execution_count": 1,
   "metadata": {},
   "outputs": [],
   "source": [
    "# Importing the required libraries.\n",
    "import csv, re, pandas as pd, numpy as np\n",
    "from string import punctuation"
   ]
  },
  {
   "cell_type": "markdown",
   "metadata": {},
   "source": [
    "## 1. Defining the required functions"
   ]
  },
  {
   "cell_type": "code",
   "execution_count": 2,
   "metadata": {},
   "outputs": [],
   "source": [
    "# Defining the function \"clean_title\".\n",
    "def clean_title(title):\n",
    "    if len(title) == 1 and title in punctuation:\n",
    "        return None\n",
    "    if title[0] in punctuation:\n",
    "        title = title[1:]\n",
    "    if title[-1] in punctuation:\n",
    "        title = title[:-1]\n",
    "    return re.sub(r\"\\s+\", \" \", title).lower()"
   ]
  },
  {
   "cell_type": "markdown",
   "metadata": {},
   "source": [
    "## 2. Getting and preprocessing the datasets"
   ]
  },
  {
   "cell_type": "markdown",
   "metadata": {},
   "source": [
    "### 2.1. arXiv"
   ]
  },
  {
   "cell_type": "code",
   "execution_count": 3,
   "metadata": {},
   "outputs": [],
   "source": [
    "# Getting the data.\n",
    "df_arxiv = pd.read_csv(\"../../data/prepared/arxiv_covid_19.csv\", header=0, dtype={\"id\": \"str\"})"
   ]
  },
  {
   "cell_type": "code",
   "execution_count": 4,
   "metadata": {},
   "outputs": [
    {
     "output_type": "execute_result",
     "data": {
      "text/plain": "           id                                      subject_areas  \\\n0  2005.13653           ('Biomolecules', 'Quantitative Methods')   \n1  2005.13523  ('Signal Processing', 'Human-Computer Interact...   \n2  2005.13519  ('Populations and Evolution', 'Physics and Soc...   \n3  2005.13516  ('Populations and Evolution', 'Quantitative Me...   \n4  2005.13466  ('Social and Information Networks', 'Cryptogra...   \n\n                                               title  \\\n0  Unveiling the molecular mechanism of SARS-CoV-...   \n1  Emotion-robust EEG Classification for Motor Im...   \n2  Estimates of the proportion of SARS-CoV-2 infe...   \n3  A mathematical epidemic model using genetic fi...   \n4  On the Detection of Disinformation Campaign Ac...   \n\n                                             authors  \\\n0  ({'name': 'Duc D Nguyen'}, {'name': 'Kaifu Gao...   \n1                         ({'name': 'Abdul Moeed'},)   \n2  ({'name': 'Henrik Hult'}, {'name': 'Martina Fa...   \n3  ({'name': 'Mohamed Taha Rouabah'}, {'name': 'A...   \n4  ({'name': 'Luis Vargas'}, {'name': 'Patrick Em...   \n\n                                            abstract publication_date  \n0  Currently, there is no effective antiviral dru...       2020-05-27  \n1  Developments in Brain Computer Interfaces (BCI...       2020-05-23  \n2  In this paper a Bayesian SEIR model is studied...       2020-05-25  \n3  A compartmental epidemic model based on geneti...       2020-06-24  \n4  Online manipulation of information has become ...       2020-05-27  ",
      "text/html": "<div>\n<style scoped>\n    .dataframe tbody tr th:only-of-type {\n        vertical-align: middle;\n    }\n\n    .dataframe tbody tr th {\n        vertical-align: top;\n    }\n\n    .dataframe thead th {\n        text-align: right;\n    }\n</style>\n<table border=\"1\" class=\"dataframe\">\n  <thead>\n    <tr style=\"text-align: right;\">\n      <th></th>\n      <th>id</th>\n      <th>subject_areas</th>\n      <th>title</th>\n      <th>authors</th>\n      <th>abstract</th>\n      <th>publication_date</th>\n    </tr>\n  </thead>\n  <tbody>\n    <tr>\n      <th>0</th>\n      <td>2005.13653</td>\n      <td>('Biomolecules', 'Quantitative Methods')</td>\n      <td>Unveiling the molecular mechanism of SARS-CoV-...</td>\n      <td>({'name': 'Duc D Nguyen'}, {'name': 'Kaifu Gao...</td>\n      <td>Currently, there is no effective antiviral dru...</td>\n      <td>2020-05-27</td>\n    </tr>\n    <tr>\n      <th>1</th>\n      <td>2005.13523</td>\n      <td>('Signal Processing', 'Human-Computer Interact...</td>\n      <td>Emotion-robust EEG Classification for Motor Im...</td>\n      <td>({'name': 'Abdul Moeed'},)</td>\n      <td>Developments in Brain Computer Interfaces (BCI...</td>\n      <td>2020-05-23</td>\n    </tr>\n    <tr>\n      <th>2</th>\n      <td>2005.13519</td>\n      <td>('Populations and Evolution', 'Physics and Soc...</td>\n      <td>Estimates of the proportion of SARS-CoV-2 infe...</td>\n      <td>({'name': 'Henrik Hult'}, {'name': 'Martina Fa...</td>\n      <td>In this paper a Bayesian SEIR model is studied...</td>\n      <td>2020-05-25</td>\n    </tr>\n    <tr>\n      <th>3</th>\n      <td>2005.13516</td>\n      <td>('Populations and Evolution', 'Quantitative Me...</td>\n      <td>A mathematical epidemic model using genetic fi...</td>\n      <td>({'name': 'Mohamed Taha Rouabah'}, {'name': 'A...</td>\n      <td>A compartmental epidemic model based on geneti...</td>\n      <td>2020-06-24</td>\n    </tr>\n    <tr>\n      <th>4</th>\n      <td>2005.13466</td>\n      <td>('Social and Information Networks', 'Cryptogra...</td>\n      <td>On the Detection of Disinformation Campaign Ac...</td>\n      <td>({'name': 'Luis Vargas'}, {'name': 'Patrick Em...</td>\n      <td>Online manipulation of information has become ...</td>\n      <td>2020-05-27</td>\n    </tr>\n  </tbody>\n</table>\n</div>"
     },
     "metadata": {},
     "execution_count": 4
    }
   ],
   "source": [
    "# Checking the dataframe.\n",
    "df_arxiv.head()"
   ]
  },
  {
   "cell_type": "code",
   "execution_count": 5,
   "metadata": {
    "tags": []
   },
   "outputs": [
    {
     "output_type": "stream",
     "name": "stdout",
     "text": "<class 'pandas.core.frame.DataFrame'>\nRangeIndex: 1000 entries, 0 to 999\nData columns (total 6 columns):\n #   Column            Non-Null Count  Dtype \n---  ------            --------------  ----- \n 0   id                1000 non-null   object\n 1   subject_areas     1000 non-null   object\n 2   title             1000 non-null   object\n 3   authors           1000 non-null   object\n 4   abstract          1000 non-null   object\n 5   publication_date  1000 non-null   object\ndtypes: object(6)\nmemory usage: 47.0+ KB\n"
    }
   ],
   "source": [
    "# Visualizing the information of dataset.\n",
    "df_arxiv.info()"
   ]
  },
  {
   "cell_type": "code",
   "execution_count": 6,
   "metadata": {},
   "outputs": [],
   "source": [
    "# Changing the type of features.\n",
    "df_arxiv.loc[:, [\"subject_areas\", \"authors\"]] = df_arxiv.loc[:, [\"subject_areas\", \"authors\"]].apply(\n",
    "    lambda x: x.apply(eval))\n",
    "df_arxiv.publication_date = pd.to_datetime(df_arxiv.publication_date)"
   ]
  },
  {
   "cell_type": "code",
   "execution_count": 7,
   "metadata": {},
   "outputs": [],
   "source": [
    "# Defining the feature \"source\".\n",
    "df_arxiv[\"source\"] = \"arXiv\""
   ]
  },
  {
   "cell_type": "code",
   "execution_count": 8,
   "metadata": {},
   "outputs": [],
   "source": [
    "# Normalizing the feature \"title\".\n",
    "df_arxiv.title = df_arxiv.title.apply(clean_title)"
   ]
  },
  {
   "cell_type": "code",
   "execution_count": 9,
   "metadata": {},
   "outputs": [
    {
     "output_type": "execute_result",
     "data": {
      "text/plain": "           id                                      subject_areas  \\\n0  2005.13653               (Biomolecules, Quantitative Methods)   \n1  2005.13523  (Signal Processing, Human-Computer Interaction...   \n2  2005.13519   (Populations and Evolution, Physics and Society)   \n3  2005.13516  (Populations and Evolution, Quantitative Methods)   \n4  2005.13466  (Social and Information Networks, Cryptography...   \n\n                                               title  \\\n0  unveiling the molecular mechanism of sars-cov-...   \n1  emotion-robust eeg classification for motor im...   \n2  estimates of the proportion of sars-cov-2 infe...   \n3  a mathematical epidemic model using genetic fi...   \n4  on the detection of disinformation campaign ac...   \n\n                                             authors  \\\n0  ({'name': 'Duc D Nguyen'}, {'name': 'Kaifu Gao...   \n1                         ({'name': 'Abdul Moeed'},)   \n2  ({'name': 'Henrik Hult'}, {'name': 'Martina Fa...   \n3  ({'name': 'Mohamed Taha Rouabah'}, {'name': 'A...   \n4  ({'name': 'Luis Vargas'}, {'name': 'Patrick Em...   \n\n                                            abstract publication_date source  \n0  Currently, there is no effective antiviral dru...       2020-05-27  arXiv  \n1  Developments in Brain Computer Interfaces (BCI...       2020-05-23  arXiv  \n2  In this paper a Bayesian SEIR model is studied...       2020-05-25  arXiv  \n3  A compartmental epidemic model based on geneti...       2020-06-24  arXiv  \n4  Online manipulation of information has become ...       2020-05-27  arXiv  ",
      "text/html": "<div>\n<style scoped>\n    .dataframe tbody tr th:only-of-type {\n        vertical-align: middle;\n    }\n\n    .dataframe tbody tr th {\n        vertical-align: top;\n    }\n\n    .dataframe thead th {\n        text-align: right;\n    }\n</style>\n<table border=\"1\" class=\"dataframe\">\n  <thead>\n    <tr style=\"text-align: right;\">\n      <th></th>\n      <th>id</th>\n      <th>subject_areas</th>\n      <th>title</th>\n      <th>authors</th>\n      <th>abstract</th>\n      <th>publication_date</th>\n      <th>source</th>\n    </tr>\n  </thead>\n  <tbody>\n    <tr>\n      <th>0</th>\n      <td>2005.13653</td>\n      <td>(Biomolecules, Quantitative Methods)</td>\n      <td>unveiling the molecular mechanism of sars-cov-...</td>\n      <td>({'name': 'Duc D Nguyen'}, {'name': 'Kaifu Gao...</td>\n      <td>Currently, there is no effective antiviral dru...</td>\n      <td>2020-05-27</td>\n      <td>arXiv</td>\n    </tr>\n    <tr>\n      <th>1</th>\n      <td>2005.13523</td>\n      <td>(Signal Processing, Human-Computer Interaction...</td>\n      <td>emotion-robust eeg classification for motor im...</td>\n      <td>({'name': 'Abdul Moeed'},)</td>\n      <td>Developments in Brain Computer Interfaces (BCI...</td>\n      <td>2020-05-23</td>\n      <td>arXiv</td>\n    </tr>\n    <tr>\n      <th>2</th>\n      <td>2005.13519</td>\n      <td>(Populations and Evolution, Physics and Society)</td>\n      <td>estimates of the proportion of sars-cov-2 infe...</td>\n      <td>({'name': 'Henrik Hult'}, {'name': 'Martina Fa...</td>\n      <td>In this paper a Bayesian SEIR model is studied...</td>\n      <td>2020-05-25</td>\n      <td>arXiv</td>\n    </tr>\n    <tr>\n      <th>3</th>\n      <td>2005.13516</td>\n      <td>(Populations and Evolution, Quantitative Methods)</td>\n      <td>a mathematical epidemic model using genetic fi...</td>\n      <td>({'name': 'Mohamed Taha Rouabah'}, {'name': 'A...</td>\n      <td>A compartmental epidemic model based on geneti...</td>\n      <td>2020-06-24</td>\n      <td>arXiv</td>\n    </tr>\n    <tr>\n      <th>4</th>\n      <td>2005.13466</td>\n      <td>(Social and Information Networks, Cryptography...</td>\n      <td>on the detection of disinformation campaign ac...</td>\n      <td>({'name': 'Luis Vargas'}, {'name': 'Patrick Em...</td>\n      <td>Online manipulation of information has become ...</td>\n      <td>2020-05-27</td>\n      <td>arXiv</td>\n    </tr>\n  </tbody>\n</table>\n</div>"
     },
     "metadata": {},
     "execution_count": 9
    }
   ],
   "source": [
    "# Checking the result.\n",
    "df_arxiv.head()"
   ]
  },
  {
   "cell_type": "code",
   "execution_count": 10,
   "metadata": {
    "tags": []
   },
   "outputs": [
    {
     "output_type": "stream",
     "name": "stdout",
     "text": "<class 'pandas.core.frame.DataFrame'>\nRangeIndex: 1000 entries, 0 to 999\nData columns (total 7 columns):\n #   Column            Non-Null Count  Dtype         \n---  ------            --------------  -----         \n 0   id                1000 non-null   object        \n 1   subject_areas     1000 non-null   object        \n 2   title             1000 non-null   object        \n 3   authors           1000 non-null   object        \n 4   abstract          1000 non-null   object        \n 5   publication_date  1000 non-null   datetime64[ns]\n 6   source            1000 non-null   object        \ndtypes: datetime64[ns](1), object(6)\nmemory usage: 54.8+ KB\n"
    }
   ],
   "source": [
    "# Visualizing the information of dataset.\n",
    "df_arxiv.info()"
   ]
  },
  {
   "cell_type": "markdown",
   "metadata": {},
   "source": [
    "### 2.2. bioRxiv"
   ]
  },
  {
   "cell_type": "code",
   "execution_count": 11,
   "metadata": {},
   "outputs": [],
   "source": [
    "# Getting the data.\n",
    "df_biorxiv = pd.read_csv(\"../../data/prepared/biorxiv_covid_19.csv\", header=0, dtype={\"id\": \"str\"})"
   ]
  },
  {
   "cell_type": "code",
   "execution_count": 12,
   "metadata": {},
   "outputs": [
    {
     "output_type": "execute_result",
     "data": {
      "text/plain": "                                               title  \\\n0  Characteristics, outcome and predictors of in-...   \n1  A network-informed analysis of SARS-CoV-2 and ...   \n2  ROX Index Predicts Intubation in Patients with...   \n3  COVID-MATCH65 - A prospectively derived clinic...   \n4  Relative COVID-19 viral persistence and antibo...   \n\n                           doi                   id  \\\n0  10.1101/2020.06.30.20143701  2020.06.30.20143701   \n1  10.1101/2020.07.01.20144121  2020.07.01.20144121   \n2  10.1101/2020.06.30.20143867  2020.06.30.20143867   \n3  10.1101/2020.06.30.20143818  2020.06.30.20143818   \n4  10.1101/2020.07.01.20143917  2020.07.01.20143917   \n\n                                            abstract  \\\n0  Since December 2019, coronavirus disease 2019 ...   \n1  Abnormal coagulation and an increased risk of ...   \n2  Introduction Use of high flow nasal therapy (H...   \n3  Due to the ongoing COVID-19 pandemic and incre...   \n4  Importance: The COVID-19 antibody response is ...   \n\n                                        author_affil publication_date   source  \n0  ({'name': 'ENRICO MARIA TRECARICHI', 'affiliat...       2020-07-02  medrxiv  \n1  ({'name': 'Jun Ding', 'affiliation': 'Computat...       2020-07-02  medrxiv  \n2  ({'name': 'Maulin Patel', 'affiliation': 'Temp...       2020-07-02  medrxiv  \n3  ({'name': 'Jason A Trubiano', 'affiliation': '...       2020-07-02  medrxiv  \n4  ({'name': 'Chung-Guei Huang', 'affiliation': '...       2020-07-02  medrxiv  ",
      "text/html": "<div>\n<style scoped>\n    .dataframe tbody tr th:only-of-type {\n        vertical-align: middle;\n    }\n\n    .dataframe tbody tr th {\n        vertical-align: top;\n    }\n\n    .dataframe thead th {\n        text-align: right;\n    }\n</style>\n<table border=\"1\" class=\"dataframe\">\n  <thead>\n    <tr style=\"text-align: right;\">\n      <th></th>\n      <th>title</th>\n      <th>doi</th>\n      <th>id</th>\n      <th>abstract</th>\n      <th>author_affil</th>\n      <th>publication_date</th>\n      <th>source</th>\n    </tr>\n  </thead>\n  <tbody>\n    <tr>\n      <th>0</th>\n      <td>Characteristics, outcome and predictors of in-...</td>\n      <td>10.1101/2020.06.30.20143701</td>\n      <td>2020.06.30.20143701</td>\n      <td>Since December 2019, coronavirus disease 2019 ...</td>\n      <td>({'name': 'ENRICO MARIA TRECARICHI', 'affiliat...</td>\n      <td>2020-07-02</td>\n      <td>medrxiv</td>\n    </tr>\n    <tr>\n      <th>1</th>\n      <td>A network-informed analysis of SARS-CoV-2 and ...</td>\n      <td>10.1101/2020.07.01.20144121</td>\n      <td>2020.07.01.20144121</td>\n      <td>Abnormal coagulation and an increased risk of ...</td>\n      <td>({'name': 'Jun Ding', 'affiliation': 'Computat...</td>\n      <td>2020-07-02</td>\n      <td>medrxiv</td>\n    </tr>\n    <tr>\n      <th>2</th>\n      <td>ROX Index Predicts Intubation in Patients with...</td>\n      <td>10.1101/2020.06.30.20143867</td>\n      <td>2020.06.30.20143867</td>\n      <td>Introduction Use of high flow nasal therapy (H...</td>\n      <td>({'name': 'Maulin Patel', 'affiliation': 'Temp...</td>\n      <td>2020-07-02</td>\n      <td>medrxiv</td>\n    </tr>\n    <tr>\n      <th>3</th>\n      <td>COVID-MATCH65 - A prospectively derived clinic...</td>\n      <td>10.1101/2020.06.30.20143818</td>\n      <td>2020.06.30.20143818</td>\n      <td>Due to the ongoing COVID-19 pandemic and incre...</td>\n      <td>({'name': 'Jason A Trubiano', 'affiliation': '...</td>\n      <td>2020-07-02</td>\n      <td>medrxiv</td>\n    </tr>\n    <tr>\n      <th>4</th>\n      <td>Relative COVID-19 viral persistence and antibo...</td>\n      <td>10.1101/2020.07.01.20143917</td>\n      <td>2020.07.01.20143917</td>\n      <td>Importance: The COVID-19 antibody response is ...</td>\n      <td>({'name': 'Chung-Guei Huang', 'affiliation': '...</td>\n      <td>2020-07-02</td>\n      <td>medrxiv</td>\n    </tr>\n  </tbody>\n</table>\n</div>"
     },
     "metadata": {},
     "execution_count": 12
    }
   ],
   "source": [
    "# Checking the dataframe.\n",
    "df_biorxiv.head()"
   ]
  },
  {
   "cell_type": "code",
   "execution_count": 13,
   "metadata": {
    "tags": []
   },
   "outputs": [
    {
     "output_type": "stream",
     "name": "stdout",
     "text": "<class 'pandas.core.frame.DataFrame'>\nRangeIndex: 6020 entries, 0 to 6019\nData columns (total 7 columns):\n #   Column            Non-Null Count  Dtype \n---  ------            --------------  ----- \n 0   title             6020 non-null   object\n 1   doi               6020 non-null   object\n 2   id                6020 non-null   object\n 3   abstract          6016 non-null   object\n 4   author_affil      5997 non-null   object\n 5   publication_date  6020 non-null   object\n 6   source            6020 non-null   object\ndtypes: object(7)\nmemory usage: 329.3+ KB\n"
    }
   ],
   "source": [
    "# Visualizing the information of dataset.\n",
    "df_biorxiv.info()"
   ]
  },
  {
   "cell_type": "code",
   "execution_count": 14,
   "metadata": {},
   "outputs": [],
   "source": [
    "# Changing the type of features.\n",
    "df_biorxiv.author_affil.loc[df_biorxiv.author_affil.notnull()] = df_biorxiv.author_affil.loc[\n",
    "    df_biorxiv.author_affil.notnull()].apply(eval)\n",
    "df_biorxiv.publication_date = pd.to_datetime(df_biorxiv.publication_date)"
   ]
  },
  {
   "cell_type": "code",
   "execution_count": 15,
   "metadata": {},
   "outputs": [],
   "source": [
    "# Normalizing the feature \"title\".\n",
    "df_biorxiv.title = df_biorxiv.title.apply(clean_title)"
   ]
  },
  {
   "cell_type": "code",
   "execution_count": 16,
   "metadata": {},
   "outputs": [
    {
     "output_type": "execute_result",
     "data": {
      "text/plain": "                                               title  \\\n0  characteristics, outcome and predictors of in-...   \n1  a network-informed analysis of sars-cov-2 and ...   \n2  rox index predicts intubation in patients with...   \n3  covid-match65 - a prospectively derived clinic...   \n4  relative covid-19 viral persistence and antibo...   \n\n                           doi                   id  \\\n0  10.1101/2020.06.30.20143701  2020.06.30.20143701   \n1  10.1101/2020.07.01.20144121  2020.07.01.20144121   \n2  10.1101/2020.06.30.20143867  2020.06.30.20143867   \n3  10.1101/2020.06.30.20143818  2020.06.30.20143818   \n4  10.1101/2020.07.01.20143917  2020.07.01.20143917   \n\n                                            abstract  \\\n0  Since December 2019, coronavirus disease 2019 ...   \n1  Abnormal coagulation and an increased risk of ...   \n2  Introduction Use of high flow nasal therapy (H...   \n3  Due to the ongoing COVID-19 pandemic and incre...   \n4  Importance: The COVID-19 antibody response is ...   \n\n                                        author_affil publication_date   source  \n0  ({'name': 'ENRICO MARIA TRECARICHI', 'affiliat...       2020-07-02  medrxiv  \n1  ({'name': 'Jun Ding', 'affiliation': 'Computat...       2020-07-02  medrxiv  \n2  ({'name': 'Maulin Patel', 'affiliation': 'Temp...       2020-07-02  medrxiv  \n3  ({'name': 'Jason A Trubiano', 'affiliation': '...       2020-07-02  medrxiv  \n4  ({'name': 'Chung-Guei Huang', 'affiliation': '...       2020-07-02  medrxiv  ",
      "text/html": "<div>\n<style scoped>\n    .dataframe tbody tr th:only-of-type {\n        vertical-align: middle;\n    }\n\n    .dataframe tbody tr th {\n        vertical-align: top;\n    }\n\n    .dataframe thead th {\n        text-align: right;\n    }\n</style>\n<table border=\"1\" class=\"dataframe\">\n  <thead>\n    <tr style=\"text-align: right;\">\n      <th></th>\n      <th>title</th>\n      <th>doi</th>\n      <th>id</th>\n      <th>abstract</th>\n      <th>author_affil</th>\n      <th>publication_date</th>\n      <th>source</th>\n    </tr>\n  </thead>\n  <tbody>\n    <tr>\n      <th>0</th>\n      <td>characteristics, outcome and predictors of in-...</td>\n      <td>10.1101/2020.06.30.20143701</td>\n      <td>2020.06.30.20143701</td>\n      <td>Since December 2019, coronavirus disease 2019 ...</td>\n      <td>({'name': 'ENRICO MARIA TRECARICHI', 'affiliat...</td>\n      <td>2020-07-02</td>\n      <td>medrxiv</td>\n    </tr>\n    <tr>\n      <th>1</th>\n      <td>a network-informed analysis of sars-cov-2 and ...</td>\n      <td>10.1101/2020.07.01.20144121</td>\n      <td>2020.07.01.20144121</td>\n      <td>Abnormal coagulation and an increased risk of ...</td>\n      <td>({'name': 'Jun Ding', 'affiliation': 'Computat...</td>\n      <td>2020-07-02</td>\n      <td>medrxiv</td>\n    </tr>\n    <tr>\n      <th>2</th>\n      <td>rox index predicts intubation in patients with...</td>\n      <td>10.1101/2020.06.30.20143867</td>\n      <td>2020.06.30.20143867</td>\n      <td>Introduction Use of high flow nasal therapy (H...</td>\n      <td>({'name': 'Maulin Patel', 'affiliation': 'Temp...</td>\n      <td>2020-07-02</td>\n      <td>medrxiv</td>\n    </tr>\n    <tr>\n      <th>3</th>\n      <td>covid-match65 - a prospectively derived clinic...</td>\n      <td>10.1101/2020.06.30.20143818</td>\n      <td>2020.06.30.20143818</td>\n      <td>Due to the ongoing COVID-19 pandemic and incre...</td>\n      <td>({'name': 'Jason A Trubiano', 'affiliation': '...</td>\n      <td>2020-07-02</td>\n      <td>medrxiv</td>\n    </tr>\n    <tr>\n      <th>4</th>\n      <td>relative covid-19 viral persistence and antibo...</td>\n      <td>10.1101/2020.07.01.20143917</td>\n      <td>2020.07.01.20143917</td>\n      <td>Importance: The COVID-19 antibody response is ...</td>\n      <td>({'name': 'Chung-Guei Huang', 'affiliation': '...</td>\n      <td>2020-07-02</td>\n      <td>medrxiv</td>\n    </tr>\n  </tbody>\n</table>\n</div>"
     },
     "metadata": {},
     "execution_count": 16
    }
   ],
   "source": [
    "# Checking the dataframe.\n",
    "df_biorxiv.head()"
   ]
  },
  {
   "cell_type": "code",
   "execution_count": 17,
   "metadata": {
    "tags": []
   },
   "outputs": [
    {
     "output_type": "stream",
     "name": "stdout",
     "text": "<class 'pandas.core.frame.DataFrame'>\nRangeIndex: 6020 entries, 0 to 6019\nData columns (total 7 columns):\n #   Column            Non-Null Count  Dtype         \n---  ------            --------------  -----         \n 0   title             6020 non-null   object        \n 1   doi               6020 non-null   object        \n 2   id                6020 non-null   object        \n 3   abstract          6016 non-null   object        \n 4   author_affil      5997 non-null   object        \n 5   publication_date  6020 non-null   datetime64[ns]\n 6   source            6020 non-null   object        \ndtypes: datetime64[ns](1), object(6)\nmemory usage: 329.3+ KB\n"
    }
   ],
   "source": [
    "# Visualizing the information of dataset.\n",
    "df_biorxiv.info()"
   ]
  },
  {
   "cell_type": "markdown",
   "metadata": {},
   "source": [
    "### 2.3. PubMed"
   ]
  },
  {
   "cell_type": "code",
   "execution_count": 18,
   "metadata": {},
   "outputs": [],
   "source": [
    "# Getting the data.\n",
    "df_pubmed = pd.read_csv(\"../../data/prepared/pubmed_covid_19.csv\", header=0, dtype={\"pubmed_id\": \"str\"})"
   ]
  },
  {
   "cell_type": "code",
   "execution_count": 19,
   "metadata": {},
   "outputs": [
    {
     "output_type": "execute_result",
     "data": {
      "text/plain": "  pubmed_id                                              title  \\\n0  32610371  Is BMI higher in younger patients with COVID-1...   \n1  32610364  The association between obesity, type 2 diabet...   \n2  32610350  Rapid Implementation of an Inpatient Telehealt...   \n3  32610334  COVID-19 Infection and Neurological Complicati...   \n4  32610281                Adversity as a Catalyst for Change.   \n\n                                            abstract  \\\n0  Obesity has been found to be a risk factor for...   \n1  To explore the association between obesity, ty...   \n2   Relaxation of laws and regulations around pri...   \n3  The present outbreak caused by SARS-CoV-2, an ...   \n4                                                NaN   \n\n                                       auth_keywords  \\\n0  ('Age', 'COVID-19', 'Diabetes', 'Hypertension'...   \n1  ('COVID-19', 'Hypertension', 'Mexican populati...   \n2                                                NaN   \n3  ('Coronavirus', 'Infection', 'Neurological dis...   \n4                ('COVID-19', 'practice management')   \n\n                         vehicle_name publication_date  \\\n0        Obesity (Silver Spring, Md.)       2020-07-02   \n1        Obesity (Silver Spring, Md.)       2020-07-02   \n2        Applied clinical informatics       2020-07-02   \n3                   Neuroepidemiology       2020-07-02   \n4  The Journal of invasive cardiology       2020-07-02   \n\n                                        author_affil                     doi  \n0  ({'name': 'Ajay Bhasin', 'affiliation': 'Depar...       10.1002/oby.22947  \n1  ({'name': 'Edgar Denova-Gutiérrez', 'affiliati...       10.1002/oby.22946  \n2  ({'name': 'Jonathan D Hron', 'affiliation': \"D...  10.1055/s-0040-1713635  \n3  ({'name': 'Ettore Beghi', 'affiliation': 'Depa...       10.1159/000508991  \n4  ({'name': 'Mayank Dalakoti', 'affiliation': 'N...                     NaN  ",
      "text/html": "<div>\n<style scoped>\n    .dataframe tbody tr th:only-of-type {\n        vertical-align: middle;\n    }\n\n    .dataframe tbody tr th {\n        vertical-align: top;\n    }\n\n    .dataframe thead th {\n        text-align: right;\n    }\n</style>\n<table border=\"1\" class=\"dataframe\">\n  <thead>\n    <tr style=\"text-align: right;\">\n      <th></th>\n      <th>pubmed_id</th>\n      <th>title</th>\n      <th>abstract</th>\n      <th>auth_keywords</th>\n      <th>vehicle_name</th>\n      <th>publication_date</th>\n      <th>author_affil</th>\n      <th>doi</th>\n    </tr>\n  </thead>\n  <tbody>\n    <tr>\n      <th>0</th>\n      <td>32610371</td>\n      <td>Is BMI higher in younger patients with COVID-1...</td>\n      <td>Obesity has been found to be a risk factor for...</td>\n      <td>('Age', 'COVID-19', 'Diabetes', 'Hypertension'...</td>\n      <td>Obesity (Silver Spring, Md.)</td>\n      <td>2020-07-02</td>\n      <td>({'name': 'Ajay Bhasin', 'affiliation': 'Depar...</td>\n      <td>10.1002/oby.22947</td>\n    </tr>\n    <tr>\n      <th>1</th>\n      <td>32610364</td>\n      <td>The association between obesity, type 2 diabet...</td>\n      <td>To explore the association between obesity, ty...</td>\n      <td>('COVID-19', 'Hypertension', 'Mexican populati...</td>\n      <td>Obesity (Silver Spring, Md.)</td>\n      <td>2020-07-02</td>\n      <td>({'name': 'Edgar Denova-Gutiérrez', 'affiliati...</td>\n      <td>10.1002/oby.22946</td>\n    </tr>\n    <tr>\n      <th>2</th>\n      <td>32610350</td>\n      <td>Rapid Implementation of an Inpatient Telehealt...</td>\n      <td>Relaxation of laws and regulations around pri...</td>\n      <td>NaN</td>\n      <td>Applied clinical informatics</td>\n      <td>2020-07-02</td>\n      <td>({'name': 'Jonathan D Hron', 'affiliation': \"D...</td>\n      <td>10.1055/s-0040-1713635</td>\n    </tr>\n    <tr>\n      <th>3</th>\n      <td>32610334</td>\n      <td>COVID-19 Infection and Neurological Complicati...</td>\n      <td>The present outbreak caused by SARS-CoV-2, an ...</td>\n      <td>('Coronavirus', 'Infection', 'Neurological dis...</td>\n      <td>Neuroepidemiology</td>\n      <td>2020-07-02</td>\n      <td>({'name': 'Ettore Beghi', 'affiliation': 'Depa...</td>\n      <td>10.1159/000508991</td>\n    </tr>\n    <tr>\n      <th>4</th>\n      <td>32610281</td>\n      <td>Adversity as a Catalyst for Change.</td>\n      <td>NaN</td>\n      <td>('COVID-19', 'practice management')</td>\n      <td>The Journal of invasive cardiology</td>\n      <td>2020-07-02</td>\n      <td>({'name': 'Mayank Dalakoti', 'affiliation': 'N...</td>\n      <td>NaN</td>\n    </tr>\n  </tbody>\n</table>\n</div>"
     },
     "metadata": {},
     "execution_count": 19
    }
   ],
   "source": [
    "# Checking the dataframe.\n",
    "df_pubmed.head()"
   ]
  },
  {
   "cell_type": "code",
   "execution_count": 20,
   "metadata": {
    "tags": []
   },
   "outputs": [
    {
     "output_type": "stream",
     "name": "stdout",
     "text": "<class 'pandas.core.frame.DataFrame'>\nRangeIndex: 28818 entries, 0 to 28817\nData columns (total 8 columns):\n #   Column            Non-Null Count  Dtype \n---  ------            --------------  ----- \n 0   pubmed_id         28818 non-null  object\n 1   title             28773 non-null  object\n 2   abstract          14799 non-null  object\n 3   auth_keywords     13369 non-null  object\n 4   vehicle_name      28812 non-null  object\n 5   publication_date  28818 non-null  object\n 6   author_affil      28488 non-null  object\n 7   doi               28322 non-null  object\ndtypes: object(8)\nmemory usage: 1.8+ MB\n"
    }
   ],
   "source": [
    "# Visualizing the information of dataset.\n",
    "df_pubmed.info()"
   ]
  },
  {
   "cell_type": "code",
   "execution_count": 21,
   "metadata": {},
   "outputs": [],
   "source": [
    "# Changing the type of features.\n",
    "df_pubmed.auth_keywords.loc[df_pubmed.auth_keywords.notnull()] = df_pubmed.auth_keywords.loc[\n",
    "    df_pubmed.auth_keywords.notnull()].apply(eval)\n",
    "df_pubmed.author_affil.loc[df_pubmed.author_affil.notnull()] = df_pubmed.author_affil.loc[\n",
    "    df_pubmed.author_affil.notnull()].apply(eval)\n",
    "df_pubmed.publication_date = pd.to_datetime(df_pubmed.publication_date)"
   ]
  },
  {
   "cell_type": "code",
   "execution_count": 22,
   "metadata": {},
   "outputs": [],
   "source": [
    "# Defining the feature \"source\".\n",
    "df_pubmed[\"source\"] = \"PubMed\""
   ]
  },
  {
   "cell_type": "code",
   "execution_count": 23,
   "metadata": {},
   "outputs": [],
   "source": [
    "# Normalizing the feature \"title\".\n",
    "df_pubmed.title.loc[df_pubmed.title.notnull()] = df_pubmed.title.loc[\n",
    "    df_pubmed.title.notnull()].apply(clean_title)"
   ]
  },
  {
   "cell_type": "code",
   "execution_count": 24,
   "metadata": {},
   "outputs": [
    {
     "output_type": "execute_result",
     "data": {
      "text/plain": "  pubmed_id                                              title  \\\n0  32610371  is bmi higher in younger patients with covid-1...   \n1  32610364  the association between obesity, type 2 diabet...   \n2  32610350  rapid implementation of an inpatient telehealt...   \n3  32610334  covid-19 infection and neurological complicati...   \n4  32610281                 adversity as a catalyst for change   \n\n                                            abstract  \\\n0  Obesity has been found to be a risk factor for...   \n1  To explore the association between obesity, ty...   \n2   Relaxation of laws and regulations around pri...   \n3  The present outbreak caused by SARS-CoV-2, an ...   \n4                                                NaN   \n\n                                       auth_keywords  \\\n0   (Age, COVID-19, Diabetes, Hypertension, Obesity)   \n1  (COVID-19, Hypertension, Mexican population, O...   \n2                                                NaN   \n3  (Coronavirus, Infection, Neurological disorder...   \n4                    (COVID-19, practice management)   \n\n                         vehicle_name publication_date  \\\n0        Obesity (Silver Spring, Md.)       2020-07-02   \n1        Obesity (Silver Spring, Md.)       2020-07-02   \n2        Applied clinical informatics       2020-07-02   \n3                   Neuroepidemiology       2020-07-02   \n4  The Journal of invasive cardiology       2020-07-02   \n\n                                        author_affil                     doi  \\\n0  ({'name': 'Ajay Bhasin', 'affiliation': 'Depar...       10.1002/oby.22947   \n1  ({'name': 'Edgar Denova-Gutiérrez', 'affiliati...       10.1002/oby.22946   \n2  ({'name': 'Jonathan D Hron', 'affiliation': 'D...  10.1055/s-0040-1713635   \n3  ({'name': 'Ettore Beghi', 'affiliation': 'Depa...       10.1159/000508991   \n4  ({'name': 'Mayank Dalakoti', 'affiliation': 'N...                     NaN   \n\n   source  \n0  PubMed  \n1  PubMed  \n2  PubMed  \n3  PubMed  \n4  PubMed  ",
      "text/html": "<div>\n<style scoped>\n    .dataframe tbody tr th:only-of-type {\n        vertical-align: middle;\n    }\n\n    .dataframe tbody tr th {\n        vertical-align: top;\n    }\n\n    .dataframe thead th {\n        text-align: right;\n    }\n</style>\n<table border=\"1\" class=\"dataframe\">\n  <thead>\n    <tr style=\"text-align: right;\">\n      <th></th>\n      <th>pubmed_id</th>\n      <th>title</th>\n      <th>abstract</th>\n      <th>auth_keywords</th>\n      <th>vehicle_name</th>\n      <th>publication_date</th>\n      <th>author_affil</th>\n      <th>doi</th>\n      <th>source</th>\n    </tr>\n  </thead>\n  <tbody>\n    <tr>\n      <th>0</th>\n      <td>32610371</td>\n      <td>is bmi higher in younger patients with covid-1...</td>\n      <td>Obesity has been found to be a risk factor for...</td>\n      <td>(Age, COVID-19, Diabetes, Hypertension, Obesity)</td>\n      <td>Obesity (Silver Spring, Md.)</td>\n      <td>2020-07-02</td>\n      <td>({'name': 'Ajay Bhasin', 'affiliation': 'Depar...</td>\n      <td>10.1002/oby.22947</td>\n      <td>PubMed</td>\n    </tr>\n    <tr>\n      <th>1</th>\n      <td>32610364</td>\n      <td>the association between obesity, type 2 diabet...</td>\n      <td>To explore the association between obesity, ty...</td>\n      <td>(COVID-19, Hypertension, Mexican population, O...</td>\n      <td>Obesity (Silver Spring, Md.)</td>\n      <td>2020-07-02</td>\n      <td>({'name': 'Edgar Denova-Gutiérrez', 'affiliati...</td>\n      <td>10.1002/oby.22946</td>\n      <td>PubMed</td>\n    </tr>\n    <tr>\n      <th>2</th>\n      <td>32610350</td>\n      <td>rapid implementation of an inpatient telehealt...</td>\n      <td>Relaxation of laws and regulations around pri...</td>\n      <td>NaN</td>\n      <td>Applied clinical informatics</td>\n      <td>2020-07-02</td>\n      <td>({'name': 'Jonathan D Hron', 'affiliation': 'D...</td>\n      <td>10.1055/s-0040-1713635</td>\n      <td>PubMed</td>\n    </tr>\n    <tr>\n      <th>3</th>\n      <td>32610334</td>\n      <td>covid-19 infection and neurological complicati...</td>\n      <td>The present outbreak caused by SARS-CoV-2, an ...</td>\n      <td>(Coronavirus, Infection, Neurological disorder...</td>\n      <td>Neuroepidemiology</td>\n      <td>2020-07-02</td>\n      <td>({'name': 'Ettore Beghi', 'affiliation': 'Depa...</td>\n      <td>10.1159/000508991</td>\n      <td>PubMed</td>\n    </tr>\n    <tr>\n      <th>4</th>\n      <td>32610281</td>\n      <td>adversity as a catalyst for change</td>\n      <td>NaN</td>\n      <td>(COVID-19, practice management)</td>\n      <td>The Journal of invasive cardiology</td>\n      <td>2020-07-02</td>\n      <td>({'name': 'Mayank Dalakoti', 'affiliation': 'N...</td>\n      <td>NaN</td>\n      <td>PubMed</td>\n    </tr>\n  </tbody>\n</table>\n</div>"
     },
     "metadata": {},
     "execution_count": 24
    }
   ],
   "source": [
    "# Checking the dataframe.\n",
    "df_pubmed.head()"
   ]
  },
  {
   "cell_type": "code",
   "execution_count": 25,
   "metadata": {
    "tags": []
   },
   "outputs": [
    {
     "output_type": "stream",
     "name": "stdout",
     "text": "<class 'pandas.core.frame.DataFrame'>\nRangeIndex: 28818 entries, 0 to 28817\nData columns (total 9 columns):\n #   Column            Non-Null Count  Dtype         \n---  ------            --------------  -----         \n 0   pubmed_id         28818 non-null  object        \n 1   title             28772 non-null  object        \n 2   abstract          14799 non-null  object        \n 3   auth_keywords     13369 non-null  object        \n 4   vehicle_name      28812 non-null  object        \n 5   publication_date  28818 non-null  datetime64[ns]\n 6   author_affil      28488 non-null  object        \n 7   doi               28322 non-null  object        \n 8   source            28818 non-null  object        \ndtypes: datetime64[ns](1), object(8)\nmemory usage: 2.0+ MB\n"
    }
   ],
   "source": [
    "# Visualizing the information of dataset.\n",
    "df_pubmed.info()"
   ]
  },
  {
   "cell_type": "markdown",
   "metadata": {},
   "source": [
    "### 2.4. Scopus"
   ]
  },
  {
   "cell_type": "code",
   "execution_count": 26,
   "metadata": {},
   "outputs": [],
   "source": [
    "# Getting the data.\n",
    "df_scopus = pd.read_csv(\"../../data/prepared/scopus_covid_19.csv\", header=0,\n",
    "    dtype={\"id\": \"str\", \"eid\": \"str\", \"pii\": \"str\", \"pubmed_id\": \"str\"})"
   ]
  },
  {
   "cell_type": "code",
   "execution_count": 27,
   "metadata": {},
   "outputs": [
    {
     "output_type": "execute_result",
     "data": {
      "text/plain": "            id                            doi pubmed_id  \\\n0  85084625311  10.1080/16549716.2020.1760490  32404043   \n1  85084466053  10.1080/20008198.2020.1752504       NaN   \n2  85084248154  10.1080/13814788.2020.1757312  32349550   \n3  85082549986  10.1080/20964129.2020.1741325       NaN   \n4  85086878414      10.1016/j.ces.2020.115918       NaN   \n\n                                               title  \\\n0  Eco-epidemiological assessment of the COVID-19...   \n1  Screening for consequences of trauma–an update...   \n2  Family medicine in times of ‘COVID-19’: A gene...   \n3  Regulating wildlife conservation and food safe...   \n4  Analogies between SARS-CoV-2 infection dynamic...   \n\n                                            abstract publication_date  \\\n0  © 2020, © 2020 The Author(s). Published by Inf...       2020-12-31   \n1  © 2020, © 2020 The Author(s). Published by Inf...       2020-12-31   \n2                                                NaN       2020-12-16   \n3  © 2020, © 2020 The Author(s). Published by Tay...       2020-12-16   \n4  © 2020 Elsevier LtdThe pandemic infection of S...       2020-12-14   \n\n   citation_num language production_type source_type  ...  \\\n0             0      eng         Journal           j  ...   \n1             0      eng         Journal           j  ...   \n2             0      eng         Journal           j  ...   \n3             4      eng         Journal           j  ...   \n4             0      eng         Journal           j  ...   \n\n                                         index_terms               issn  \\\n0  ('Betacoronavirus', 'China', 'Coronavirus', 'C...           16549880   \n1                                                NaN  20008066 20008198   \n2  ('Adaptation, Psychological', 'Coronavirus Inf...  17511402 13814788   \n3                                                NaN  23328878 20964129   \n4                                                NaN           00092509   \n\n                             vehicle_name                publisher  \\\n0                    Global Health Action  Taylor and Francis Ltd.   \n1  European Journal of Psychotraumatology  Taylor and Francis Ltd.   \n2    European Journal of General Practice   Taylor and Francis Ltd   \n3     Ecosystem Health and Sustainability  Taylor and Francis Ltd.   \n4            Chemical Engineering Science             Elsevier Ltd   \n\n                                        affiliations  \\\n0  ({'id': '60031040', 'affiliation': 'Umeå Unive...   \n1  ({'id': '60030118', 'affiliation': \"The Childr...   \n2  ({'id': '60018869', 'affiliation': 'Maastricht...   \n3  ({'id': '60027363', 'affiliation': 'University...   \n4  ({'id': '60027245', 'affiliation': 'Universite...   \n\n                                       subject_areas  \\\n0  ('Health Policy', 'Public Health, Environmenta...   \n1                  ('Psychiatry and Mental Health',)   \n2                               ('Family Practice',)   \n3  ('Ecology, Evolution, Behavior and Systematics...   \n4  ('Chemistry (all)', 'Chemical Engineering (all...   \n\n                                             authors  \\\n0     ({'id': '7006527895', 'name': 'Peter Byass'},)   \n1  ({'id': '56230641000', 'name': 'Miranda Olff'}...   \n2  ({'id': '6507333381', 'name': 'An de Sutter'},...   \n3  ({'id': '57216083373', 'name': 'Jingjing Yuan'...   \n4  ({'id': '23470382500', 'name': 'F. Manenti'}, ...   \n\n                                        author_affil ref_count  \\\n0  ({'id': '7006527895', 'name': 'Peter Byass', '...        19   \n1  ({'id': '56230641000', 'name': 'Miranda Olff',...        31   \n2  ({'id': '6507333381', 'name': 'An de Sutter', ...         0   \n3  ({'id': '57216083373', 'name': 'Jingjing Yuan'...        17   \n4  ({'id': '23470382500', 'name': 'F. Manenti', '...        36   \n\n                                          references  \n0  ({'id': '85056407012', 'title': 'The calendar ...  \n1  ({'id': '85075168775', 'title': 'Trauma-relate...  \n2                                                NaN  \n3  ({'id': '85074624653', 'title': 'A New Twenty-...  \n4  ({'id': '85071770137', 'title': 'A dynamic neu...  \n\n[5 rows x 21 columns]",
      "text/html": "<div>\n<style scoped>\n    .dataframe tbody tr th:only-of-type {\n        vertical-align: middle;\n    }\n\n    .dataframe tbody tr th {\n        vertical-align: top;\n    }\n\n    .dataframe thead th {\n        text-align: right;\n    }\n</style>\n<table border=\"1\" class=\"dataframe\">\n  <thead>\n    <tr style=\"text-align: right;\">\n      <th></th>\n      <th>id</th>\n      <th>doi</th>\n      <th>pubmed_id</th>\n      <th>title</th>\n      <th>abstract</th>\n      <th>publication_date</th>\n      <th>citation_num</th>\n      <th>language</th>\n      <th>production_type</th>\n      <th>source_type</th>\n      <th>...</th>\n      <th>index_terms</th>\n      <th>issn</th>\n      <th>vehicle_name</th>\n      <th>publisher</th>\n      <th>affiliations</th>\n      <th>subject_areas</th>\n      <th>authors</th>\n      <th>author_affil</th>\n      <th>ref_count</th>\n      <th>references</th>\n    </tr>\n  </thead>\n  <tbody>\n    <tr>\n      <th>0</th>\n      <td>85084625311</td>\n      <td>10.1080/16549716.2020.1760490</td>\n      <td>32404043</td>\n      <td>Eco-epidemiological assessment of the COVID-19...</td>\n      <td>© 2020, © 2020 The Author(s). Published by Inf...</td>\n      <td>2020-12-31</td>\n      <td>0</td>\n      <td>eng</td>\n      <td>Journal</td>\n      <td>j</td>\n      <td>...</td>\n      <td>('Betacoronavirus', 'China', 'Coronavirus', 'C...</td>\n      <td>16549880</td>\n      <td>Global Health Action</td>\n      <td>Taylor and Francis Ltd.</td>\n      <td>({'id': '60031040', 'affiliation': 'Umeå Unive...</td>\n      <td>('Health Policy', 'Public Health, Environmenta...</td>\n      <td>({'id': '7006527895', 'name': 'Peter Byass'},)</td>\n      <td>({'id': '7006527895', 'name': 'Peter Byass', '...</td>\n      <td>19</td>\n      <td>({'id': '85056407012', 'title': 'The calendar ...</td>\n    </tr>\n    <tr>\n      <th>1</th>\n      <td>85084466053</td>\n      <td>10.1080/20008198.2020.1752504</td>\n      <td>NaN</td>\n      <td>Screening for consequences of trauma–an update...</td>\n      <td>© 2020, © 2020 The Author(s). Published by Inf...</td>\n      <td>2020-12-31</td>\n      <td>0</td>\n      <td>eng</td>\n      <td>Journal</td>\n      <td>j</td>\n      <td>...</td>\n      <td>NaN</td>\n      <td>20008066 20008198</td>\n      <td>European Journal of Psychotraumatology</td>\n      <td>Taylor and Francis Ltd.</td>\n      <td>({'id': '60030118', 'affiliation': \"The Childr...</td>\n      <td>('Psychiatry and Mental Health',)</td>\n      <td>({'id': '56230641000', 'name': 'Miranda Olff'}...</td>\n      <td>({'id': '56230641000', 'name': 'Miranda Olff',...</td>\n      <td>31</td>\n      <td>({'id': '85075168775', 'title': 'Trauma-relate...</td>\n    </tr>\n    <tr>\n      <th>2</th>\n      <td>85084248154</td>\n      <td>10.1080/13814788.2020.1757312</td>\n      <td>32349550</td>\n      <td>Family medicine in times of ‘COVID-19’: A gene...</td>\n      <td>NaN</td>\n      <td>2020-12-16</td>\n      <td>0</td>\n      <td>eng</td>\n      <td>Journal</td>\n      <td>j</td>\n      <td>...</td>\n      <td>('Adaptation, Psychological', 'Coronavirus Inf...</td>\n      <td>17511402 13814788</td>\n      <td>European Journal of General Practice</td>\n      <td>Taylor and Francis Ltd</td>\n      <td>({'id': '60018869', 'affiliation': 'Maastricht...</td>\n      <td>('Family Practice',)</td>\n      <td>({'id': '6507333381', 'name': 'An de Sutter'},...</td>\n      <td>({'id': '6507333381', 'name': 'An de Sutter', ...</td>\n      <td>0</td>\n      <td>NaN</td>\n    </tr>\n    <tr>\n      <th>3</th>\n      <td>85082549986</td>\n      <td>10.1080/20964129.2020.1741325</td>\n      <td>NaN</td>\n      <td>Regulating wildlife conservation and food safe...</td>\n      <td>© 2020, © 2020 The Author(s). Published by Tay...</td>\n      <td>2020-12-16</td>\n      <td>4</td>\n      <td>eng</td>\n      <td>Journal</td>\n      <td>j</td>\n      <td>...</td>\n      <td>NaN</td>\n      <td>23328878 20964129</td>\n      <td>Ecosystem Health and Sustainability</td>\n      <td>Taylor and Francis Ltd.</td>\n      <td>({'id': '60027363', 'affiliation': 'University...</td>\n      <td>('Ecology, Evolution, Behavior and Systematics...</td>\n      <td>({'id': '57216083373', 'name': 'Jingjing Yuan'...</td>\n      <td>({'id': '57216083373', 'name': 'Jingjing Yuan'...</td>\n      <td>17</td>\n      <td>({'id': '85074624653', 'title': 'A New Twenty-...</td>\n    </tr>\n    <tr>\n      <th>4</th>\n      <td>85086878414</td>\n      <td>10.1016/j.ces.2020.115918</td>\n      <td>NaN</td>\n      <td>Analogies between SARS-CoV-2 infection dynamic...</td>\n      <td>© 2020 Elsevier LtdThe pandemic infection of S...</td>\n      <td>2020-12-14</td>\n      <td>0</td>\n      <td>eng</td>\n      <td>Journal</td>\n      <td>j</td>\n      <td>...</td>\n      <td>NaN</td>\n      <td>00092509</td>\n      <td>Chemical Engineering Science</td>\n      <td>Elsevier Ltd</td>\n      <td>({'id': '60027245', 'affiliation': 'Universite...</td>\n      <td>('Chemistry (all)', 'Chemical Engineering (all...</td>\n      <td>({'id': '23470382500', 'name': 'F. Manenti'}, ...</td>\n      <td>({'id': '23470382500', 'name': 'F. Manenti', '...</td>\n      <td>36</td>\n      <td>({'id': '85071770137', 'title': 'A dynamic neu...</td>\n    </tr>\n  </tbody>\n</table>\n<p>5 rows × 21 columns</p>\n</div>"
     },
     "metadata": {},
     "execution_count": 27
    }
   ],
   "source": [
    "# Checking the dataframe.\n",
    "df_scopus.head()"
   ]
  },
  {
   "cell_type": "code",
   "execution_count": 28,
   "metadata": {
    "tags": []
   },
   "outputs": [
    {
     "output_type": "stream",
     "name": "stdout",
     "text": "<class 'pandas.core.frame.DataFrame'>\nRangeIndex: 25029 entries, 0 to 25028\nData columns (total 21 columns):\n #   Column            Non-Null Count  Dtype \n---  ------            --------------  ----- \n 0   id                25029 non-null  object\n 1   doi               24462 non-null  object\n 2   pubmed_id         17416 non-null  object\n 3   title             25029 non-null  object\n 4   abstract          12810 non-null  object\n 5   publication_date  25029 non-null  object\n 6   citation_num      25029 non-null  int64 \n 7   language          24886 non-null  object\n 8   production_type   25029 non-null  object\n 9   source_type       25029 non-null  object\n 10  auth_keywords     11935 non-null  object\n 11  index_terms       7548 non-null   object\n 12  issn              25006 non-null  object\n 13  vehicle_name      25029 non-null  object\n 14  publisher         25029 non-null  object\n 15  affiliations      22857 non-null  object\n 16  subject_areas     24975 non-null  object\n 17  authors           24636 non-null  object\n 18  author_affil      24685 non-null  object\n 19  ref_count         25029 non-null  int64 \n 20  references        18768 non-null  object\ndtypes: int64(2), object(19)\nmemory usage: 4.0+ MB\n"
    }
   ],
   "source": [
    "# Visualizing the information of dataset.\n",
    "df_scopus.info()"
   ]
  },
  {
   "cell_type": "code",
   "execution_count": 29,
   "metadata": {},
   "outputs": [],
   "source": [
    "# Changing the type of features.\n",
    "df_scopus.auth_keywords.loc[df_scopus.auth_keywords.notnull()] = df_scopus.auth_keywords.loc[\n",
    "    df_scopus.auth_keywords.notnull()].apply(eval)\n",
    "df_scopus.index_terms.loc[df_scopus.index_terms.notnull()] = df_scopus.index_terms.loc[\n",
    "    df_scopus.index_terms.notnull()].apply(eval)\n",
    "df_scopus.affiliations.loc[df_scopus.affiliations.notnull()] = df_scopus.affiliations.loc[\n",
    "    df_scopus.affiliations.notnull()].apply(eval)\n",
    "df_scopus.subject_areas.loc[df_scopus.subject_areas.notnull()] = df_scopus.subject_areas.loc[\n",
    "    df_scopus.subject_areas.notnull()].apply(eval)\n",
    "df_scopus.authors.loc[df_scopus.authors.notnull()] = df_scopus.authors.loc[\n",
    "    df_scopus.authors.notnull()].apply(eval)\n",
    "df_scopus.author_affil.loc[df_scopus.author_affil.notnull()] = df_scopus.author_affil.loc[\n",
    "    df_scopus.author_affil.notnull()].apply(eval)\n",
    "df_scopus.references.loc[df_scopus.references.notnull()] = df_scopus.references.loc[\n",
    "    df_scopus.references.notnull()].apply(eval)\n",
    "df_scopus.publication_date = pd.to_datetime(df_scopus.publication_date)"
   ]
  },
  {
   "cell_type": "code",
   "execution_count": 30,
   "metadata": {},
   "outputs": [],
   "source": [
    "# Defining the feature \"source\".\n",
    "df_scopus[\"source\"] = \"Scopus\""
   ]
  },
  {
   "cell_type": "code",
   "execution_count": 31,
   "metadata": {},
   "outputs": [],
   "source": [
    "# Normalizing the feature \"title\".\n",
    "df_scopus.title = df_scopus.title.apply(clean_title)"
   ]
  },
  {
   "cell_type": "code",
   "execution_count": 32,
   "metadata": {},
   "outputs": [
    {
     "output_type": "execute_result",
     "data": {
      "text/plain": "            id                            doi pubmed_id  \\\n0  85084625311  10.1080/16549716.2020.1760490  32404043   \n1  85084466053  10.1080/20008198.2020.1752504       NaN   \n2  85084248154  10.1080/13814788.2020.1757312  32349550   \n3  85082549986  10.1080/20964129.2020.1741325       NaN   \n4  85086878414      10.1016/j.ces.2020.115918       NaN   \n\n                                               title  \\\n0  eco-epidemiological assessment of the covid-19...   \n1  screening for consequences of trauma–an update...   \n2  family medicine in times of ‘covid-19’: a gene...   \n3  regulating wildlife conservation and food safe...   \n4  analogies between sars-cov-2 infection dynamic...   \n\n                                            abstract publication_date  \\\n0  © 2020, © 2020 The Author(s). Published by Inf...       2020-12-31   \n1  © 2020, © 2020 The Author(s). Published by Inf...       2020-12-31   \n2                                                NaN       2020-12-16   \n3  © 2020, © 2020 The Author(s). Published by Tay...       2020-12-16   \n4  © 2020 Elsevier LtdThe pandemic infection of S...       2020-12-14   \n\n   citation_num language production_type source_type  ...               issn  \\\n0             0      eng         Journal           j  ...           16549880   \n1             0      eng         Journal           j  ...  20008066 20008198   \n2             0      eng         Journal           j  ...  17511402 13814788   \n3             4      eng         Journal           j  ...  23328878 20964129   \n4             0      eng         Journal           j  ...           00092509   \n\n                             vehicle_name                publisher  \\\n0                    Global Health Action  Taylor and Francis Ltd.   \n1  European Journal of Psychotraumatology  Taylor and Francis Ltd.   \n2    European Journal of General Practice   Taylor and Francis Ltd   \n3     Ecosystem Health and Sustainability  Taylor and Francis Ltd.   \n4            Chemical Engineering Science             Elsevier Ltd   \n\n                                        affiliations  \\\n0  ({'id': '60031040', 'affiliation': 'Umeå Unive...   \n1  ({'id': '60030118', 'affiliation': 'The Childr...   \n2  ({'id': '60018869', 'affiliation': 'Maastricht...   \n3  ({'id': '60027363', 'affiliation': 'University...   \n4  ({'id': '60027245', 'affiliation': 'Universite...   \n\n                                       subject_areas  \\\n0  (Health Policy, Public Health, Environmental a...   \n1                    (Psychiatry and Mental Health,)   \n2                                 (Family Practice,)   \n3  (Ecology, Evolution, Behavior and Systematics,...   \n4  (Chemistry (all), Chemical Engineering (all), ...   \n\n                                             authors  \\\n0     ({'id': '7006527895', 'name': 'Peter Byass'},)   \n1  ({'id': '56230641000', 'name': 'Miranda Olff'}...   \n2  ({'id': '6507333381', 'name': 'An de Sutter'},...   \n3  ({'id': '57216083373', 'name': 'Jingjing Yuan'...   \n4  ({'id': '23470382500', 'name': 'F. Manenti'}, ...   \n\n                                        author_affil ref_count  \\\n0  ({'id': '7006527895', 'name': 'Peter Byass', '...        19   \n1  ({'id': '56230641000', 'name': 'Miranda Olff',...        31   \n2  ({'id': '6507333381', 'name': 'An de Sutter', ...         0   \n3  ({'id': '57216083373', 'name': 'Jingjing Yuan'...        17   \n4  ({'id': '23470382500', 'name': 'F. Manenti', '...        36   \n\n                                          references  source  \n0  ({'id': '85056407012', 'title': 'The calendar ...  Scopus  \n1  ({'id': '85075168775', 'title': 'Trauma-relate...  Scopus  \n2                                                NaN  Scopus  \n3  ({'id': '85074624653', 'title': 'A New Twenty-...  Scopus  \n4  ({'id': '85071770137', 'title': 'A dynamic neu...  Scopus  \n\n[5 rows x 22 columns]",
      "text/html": "<div>\n<style scoped>\n    .dataframe tbody tr th:only-of-type {\n        vertical-align: middle;\n    }\n\n    .dataframe tbody tr th {\n        vertical-align: top;\n    }\n\n    .dataframe thead th {\n        text-align: right;\n    }\n</style>\n<table border=\"1\" class=\"dataframe\">\n  <thead>\n    <tr style=\"text-align: right;\">\n      <th></th>\n      <th>id</th>\n      <th>doi</th>\n      <th>pubmed_id</th>\n      <th>title</th>\n      <th>abstract</th>\n      <th>publication_date</th>\n      <th>citation_num</th>\n      <th>language</th>\n      <th>production_type</th>\n      <th>source_type</th>\n      <th>...</th>\n      <th>issn</th>\n      <th>vehicle_name</th>\n      <th>publisher</th>\n      <th>affiliations</th>\n      <th>subject_areas</th>\n      <th>authors</th>\n      <th>author_affil</th>\n      <th>ref_count</th>\n      <th>references</th>\n      <th>source</th>\n    </tr>\n  </thead>\n  <tbody>\n    <tr>\n      <th>0</th>\n      <td>85084625311</td>\n      <td>10.1080/16549716.2020.1760490</td>\n      <td>32404043</td>\n      <td>eco-epidemiological assessment of the covid-19...</td>\n      <td>© 2020, © 2020 The Author(s). Published by Inf...</td>\n      <td>2020-12-31</td>\n      <td>0</td>\n      <td>eng</td>\n      <td>Journal</td>\n      <td>j</td>\n      <td>...</td>\n      <td>16549880</td>\n      <td>Global Health Action</td>\n      <td>Taylor and Francis Ltd.</td>\n      <td>({'id': '60031040', 'affiliation': 'Umeå Unive...</td>\n      <td>(Health Policy, Public Health, Environmental a...</td>\n      <td>({'id': '7006527895', 'name': 'Peter Byass'},)</td>\n      <td>({'id': '7006527895', 'name': 'Peter Byass', '...</td>\n      <td>19</td>\n      <td>({'id': '85056407012', 'title': 'The calendar ...</td>\n      <td>Scopus</td>\n    </tr>\n    <tr>\n      <th>1</th>\n      <td>85084466053</td>\n      <td>10.1080/20008198.2020.1752504</td>\n      <td>NaN</td>\n      <td>screening for consequences of trauma–an update...</td>\n      <td>© 2020, © 2020 The Author(s). Published by Inf...</td>\n      <td>2020-12-31</td>\n      <td>0</td>\n      <td>eng</td>\n      <td>Journal</td>\n      <td>j</td>\n      <td>...</td>\n      <td>20008066 20008198</td>\n      <td>European Journal of Psychotraumatology</td>\n      <td>Taylor and Francis Ltd.</td>\n      <td>({'id': '60030118', 'affiliation': 'The Childr...</td>\n      <td>(Psychiatry and Mental Health,)</td>\n      <td>({'id': '56230641000', 'name': 'Miranda Olff'}...</td>\n      <td>({'id': '56230641000', 'name': 'Miranda Olff',...</td>\n      <td>31</td>\n      <td>({'id': '85075168775', 'title': 'Trauma-relate...</td>\n      <td>Scopus</td>\n    </tr>\n    <tr>\n      <th>2</th>\n      <td>85084248154</td>\n      <td>10.1080/13814788.2020.1757312</td>\n      <td>32349550</td>\n      <td>family medicine in times of ‘covid-19’: a gene...</td>\n      <td>NaN</td>\n      <td>2020-12-16</td>\n      <td>0</td>\n      <td>eng</td>\n      <td>Journal</td>\n      <td>j</td>\n      <td>...</td>\n      <td>17511402 13814788</td>\n      <td>European Journal of General Practice</td>\n      <td>Taylor and Francis Ltd</td>\n      <td>({'id': '60018869', 'affiliation': 'Maastricht...</td>\n      <td>(Family Practice,)</td>\n      <td>({'id': '6507333381', 'name': 'An de Sutter'},...</td>\n      <td>({'id': '6507333381', 'name': 'An de Sutter', ...</td>\n      <td>0</td>\n      <td>NaN</td>\n      <td>Scopus</td>\n    </tr>\n    <tr>\n      <th>3</th>\n      <td>85082549986</td>\n      <td>10.1080/20964129.2020.1741325</td>\n      <td>NaN</td>\n      <td>regulating wildlife conservation and food safe...</td>\n      <td>© 2020, © 2020 The Author(s). Published by Tay...</td>\n      <td>2020-12-16</td>\n      <td>4</td>\n      <td>eng</td>\n      <td>Journal</td>\n      <td>j</td>\n      <td>...</td>\n      <td>23328878 20964129</td>\n      <td>Ecosystem Health and Sustainability</td>\n      <td>Taylor and Francis Ltd.</td>\n      <td>({'id': '60027363', 'affiliation': 'University...</td>\n      <td>(Ecology, Evolution, Behavior and Systematics,...</td>\n      <td>({'id': '57216083373', 'name': 'Jingjing Yuan'...</td>\n      <td>({'id': '57216083373', 'name': 'Jingjing Yuan'...</td>\n      <td>17</td>\n      <td>({'id': '85074624653', 'title': 'A New Twenty-...</td>\n      <td>Scopus</td>\n    </tr>\n    <tr>\n      <th>4</th>\n      <td>85086878414</td>\n      <td>10.1016/j.ces.2020.115918</td>\n      <td>NaN</td>\n      <td>analogies between sars-cov-2 infection dynamic...</td>\n      <td>© 2020 Elsevier LtdThe pandemic infection of S...</td>\n      <td>2020-12-14</td>\n      <td>0</td>\n      <td>eng</td>\n      <td>Journal</td>\n      <td>j</td>\n      <td>...</td>\n      <td>00092509</td>\n      <td>Chemical Engineering Science</td>\n      <td>Elsevier Ltd</td>\n      <td>({'id': '60027245', 'affiliation': 'Universite...</td>\n      <td>(Chemistry (all), Chemical Engineering (all), ...</td>\n      <td>({'id': '23470382500', 'name': 'F. Manenti'}, ...</td>\n      <td>({'id': '23470382500', 'name': 'F. Manenti', '...</td>\n      <td>36</td>\n      <td>({'id': '85071770137', 'title': 'A dynamic neu...</td>\n      <td>Scopus</td>\n    </tr>\n  </tbody>\n</table>\n<p>5 rows × 22 columns</p>\n</div>"
     },
     "metadata": {},
     "execution_count": 32
    }
   ],
   "source": [
    "# Checking the dataframe.\n",
    "df_scopus.head()"
   ]
  },
  {
   "cell_type": "code",
   "execution_count": 33,
   "metadata": {
    "tags": []
   },
   "outputs": [
    {
     "output_type": "stream",
     "name": "stdout",
     "text": "<class 'pandas.core.frame.DataFrame'>\nRangeIndex: 25029 entries, 0 to 25028\nData columns (total 22 columns):\n #   Column            Non-Null Count  Dtype         \n---  ------            --------------  -----         \n 0   id                25029 non-null  object        \n 1   doi               24462 non-null  object        \n 2   pubmed_id         17416 non-null  object        \n 3   title             25029 non-null  object        \n 4   abstract          12810 non-null  object        \n 5   publication_date  25029 non-null  datetime64[ns]\n 6   citation_num      25029 non-null  int64         \n 7   language          24886 non-null  object        \n 8   production_type   25029 non-null  object        \n 9   source_type       25029 non-null  object        \n 10  auth_keywords     11935 non-null  object        \n 11  index_terms       7548 non-null   object        \n 12  issn              25006 non-null  object        \n 13  vehicle_name      25029 non-null  object        \n 14  publisher         25029 non-null  object        \n 15  affiliations      22857 non-null  object        \n 16  subject_areas     24975 non-null  object        \n 17  authors           24636 non-null  object        \n 18  author_affil      24685 non-null  object        \n 19  ref_count         25029 non-null  int64         \n 20  references        18768 non-null  object        \n 21  source            25029 non-null  object        \ndtypes: datetime64[ns](1), int64(2), object(19)\nmemory usage: 4.2+ MB\n"
    }
   ],
   "source": [
    "# Visualizing the information of dataset.\n",
    "df_scopus.info()"
   ]
  },
  {
   "cell_type": "markdown",
   "metadata": {},
   "source": [
    "## 3. Merging/Joining the datasets"
   ]
  },
  {
   "cell_type": "code",
   "execution_count": 34,
   "metadata": {},
   "outputs": [
    {
     "output_type": "execute_result",
     "data": {
      "text/plain": "26"
     },
     "metadata": {},
     "execution_count": 34
    }
   ],
   "source": [
    "# Checking the duplicated records between arXiv and Scopus.\n",
    "df_scopus.id[df_scopus.title.isin(df_arxiv.title)].size"
   ]
  },
  {
   "cell_type": "code",
   "execution_count": 35,
   "metadata": {},
   "outputs": [
    {
     "output_type": "execute_result",
     "data": {
      "text/plain": "206"
     },
     "metadata": {},
     "execution_count": 35
    }
   ],
   "source": [
    "# Checking the duplicated records between bioRxiv and Scopus.\n",
    "df_scopus.id[df_scopus.title.isin(df_biorxiv.title)].size"
   ]
  },
  {
   "cell_type": "code",
   "execution_count": 36,
   "metadata": {},
   "outputs": [
    {
     "output_type": "execute_result",
     "data": {
      "text/plain": "14411"
     },
     "metadata": {},
     "execution_count": 36
    }
   ],
   "source": [
    "# Checking the duplicated records between PubMed and Scopus by the features \"title\" and \"pubmed_id\".\n",
    "df_scopus.id[df_scopus.pubmed_id.isin(df_pubmed.pubmed_id) & df_scopus.title.isin(df_pubmed.title)].size"
   ]
  },
  {
   "cell_type": "code",
   "execution_count": 37,
   "metadata": {},
   "outputs": [
    {
     "output_type": "execute_result",
     "data": {
      "text/plain": "2074"
     },
     "metadata": {},
     "execution_count": 37
    }
   ],
   "source": [
    "# Checking the duplicated records between PubMed and Scopus by only the feature \"pubmed_id\".\n",
    "df_scopus.id[df_scopus.pubmed_id.isin(df_pubmed.pubmed_id) & ~df_scopus.title.isin(df_pubmed.title)].size"
   ]
  },
  {
   "cell_type": "code",
   "execution_count": 38,
   "metadata": {},
   "outputs": [
    {
     "output_type": "execute_result",
     "data": {
      "text/plain": "3937"
     },
     "metadata": {},
     "execution_count": 38
    }
   ],
   "source": [
    "# Checking the duplicated records between PubMed and Scopus by only the feature \"title\".\n",
    "df_scopus.id[~df_scopus.pubmed_id.isin(df_pubmed.pubmed_id) & df_scopus.title.isin(df_pubmed.title)].size"
   ]
  },
  {
   "cell_type": "code",
   "execution_count": 39,
   "metadata": {},
   "outputs": [],
   "source": [
    "# Removing the duplicated records between arXiv and Scopus.\n",
    "df_arxiv = df_arxiv[~df_arxiv.title.isin(df_scopus.title)]"
   ]
  },
  {
   "cell_type": "code",
   "execution_count": 40,
   "metadata": {},
   "outputs": [],
   "source": [
    "# Removing the duplicated records between bioRxiv and Scopus.\n",
    "df_biorxiv = df_biorxiv[~df_biorxiv.title.isin(df_scopus.title)]"
   ]
  },
  {
   "cell_type": "code",
   "execution_count": 41,
   "metadata": {},
   "outputs": [],
   "source": [
    "# Removing the duplicated records between PubMed and Scopus.\n",
    "idx_removed = df_pubmed.pubmed_id[df_pubmed.pubmed_id.isin(df_scopus.pubmed_id) &\n",
    "                                  df_pubmed.title.isin(df_scopus.title)].index.to_list()\n",
    "idx_removed += df_pubmed.pubmed_id[~df_pubmed.pubmed_id.isin(df_scopus.pubmed_id) &\n",
    "                                   df_pubmed.title.isin(df_scopus.title)].index.to_list()\n",
    "idx_removed += df_pubmed.pubmed_id[df_pubmed.pubmed_id.isin(df_scopus.pubmed_id) &\n",
    "                                   ~df_pubmed.title.isin(df_scopus.title)].index.to_list()\n",
    "df_pubmed = df_pubmed[~df_pubmed.index.isin(list(set(idx_removed)))]"
   ]
  },
  {
   "cell_type": "code",
   "execution_count": 42,
   "metadata": {
    "tags": []
   },
   "outputs": [
    {
     "output_type": "stream",
     "name": "stdout",
     "text": "arXiv: 974\nbioRxiv: 5815\nPubMed: 8400\nScopus: 25029\nExpected total number of records for the final dataset: 40218\n"
    }
   ],
   "source": [
    "# Visualizing the final number of records for each dataset.\n",
    "print(\"arXiv:\", df_arxiv.id.size)\n",
    "print(\"bioRxiv:\", df_biorxiv.id.size)\n",
    "print(\"PubMed:\", df_pubmed.pubmed_id.size)\n",
    "print(\"Scopus:\", df_scopus.id.size)\n",
    "print(\"Expected total number of records for the final dataset:\",\n",
    "      (df_arxiv.id.size + df_biorxiv.id.size + df_pubmed.pubmed_id.size + df_scopus.id.size))"
   ]
  },
  {
   "cell_type": "code",
   "execution_count": 43,
   "metadata": {
    "tags": []
   },
   "outputs": [],
   "source": [
    "# Merging/Joining the datasets.\n",
    "df_final = pd.concat([df_arxiv, df_biorxiv, df_pubmed, df_scopus], ignore_index=True)"
   ]
  },
  {
   "cell_type": "code",
   "execution_count": 44,
   "metadata": {},
   "outputs": [],
   "source": [
    "# Defining the \"None\" value for the \"NaN\" values.\n",
    "df_final.replace({np.nan: None}, inplace=True)"
   ]
  },
  {
   "cell_type": "code",
   "execution_count": 45,
   "metadata": {},
   "outputs": [],
   "source": [
    "# Renaming the feature \"source\".\n",
    "df_final.rename(columns={\"source\": \"data_source\"}, inplace=True)"
   ]
  },
  {
   "cell_type": "code",
   "execution_count": 46,
   "metadata": {},
   "outputs": [
    {
     "output_type": "execute_result",
     "data": {
      "text/plain": "           id                                      subject_areas  \\\n0  2005.13653               (Biomolecules, Quantitative Methods)   \n1  2005.13523  (Signal Processing, Human-Computer Interaction...   \n2  2005.13519   (Populations and Evolution, Physics and Society)   \n3  2005.13516  (Populations and Evolution, Quantitative Methods)   \n4  2005.13466  (Social and Information Networks, Cryptography...   \n\n                                               title  \\\n0  unveiling the molecular mechanism of sars-cov-...   \n1  emotion-robust eeg classification for motor im...   \n2  estimates of the proportion of sars-cov-2 infe...   \n3  a mathematical epidemic model using genetic fi...   \n4  on the detection of disinformation campaign ac...   \n\n                                             authors  \\\n0  ({'name': 'Duc D Nguyen'}, {'name': 'Kaifu Gao...   \n1                         ({'name': 'Abdul Moeed'},)   \n2  ({'name': 'Henrik Hult'}, {'name': 'Martina Fa...   \n3  ({'name': 'Mohamed Taha Rouabah'}, {'name': 'A...   \n4  ({'name': 'Luis Vargas'}, {'name': 'Patrick Em...   \n\n                                            abstract publication_date  \\\n0  Currently, there is no effective antiviral dru...       2020-05-27   \n1  Developments in Brain Computer Interfaces (BCI...       2020-05-23   \n2  In this paper a Bayesian SEIR model is studied...       2020-05-25   \n3  A compartmental epidemic model based on geneti...       2020-06-24   \n4  Online manipulation of information has become ...       2020-05-27   \n\n  data_source   doi author_affil pubmed_id  ... citation_num language  \\\n0       arXiv  None         None      None  ...         None     None   \n1       arXiv  None         None      None  ...         None     None   \n2       arXiv  None         None      None  ...         None     None   \n3       arXiv  None         None      None  ...         None     None   \n4       arXiv  None         None      None  ...         None     None   \n\n  production_type source_type index_terms  issn publisher affiliations  \\\n0            None        None        None  None      None         None   \n1            None        None        None  None      None         None   \n2            None        None        None  None      None         None   \n3            None        None        None  None      None         None   \n4            None        None        None  None      None         None   \n\n  ref_count references  \n0      None       None  \n1      None       None  \n2      None       None  \n3      None       None  \n4      None       None  \n\n[5 rows x 22 columns]",
      "text/html": "<div>\n<style scoped>\n    .dataframe tbody tr th:only-of-type {\n        vertical-align: middle;\n    }\n\n    .dataframe tbody tr th {\n        vertical-align: top;\n    }\n\n    .dataframe thead th {\n        text-align: right;\n    }\n</style>\n<table border=\"1\" class=\"dataframe\">\n  <thead>\n    <tr style=\"text-align: right;\">\n      <th></th>\n      <th>id</th>\n      <th>subject_areas</th>\n      <th>title</th>\n      <th>authors</th>\n      <th>abstract</th>\n      <th>publication_date</th>\n      <th>data_source</th>\n      <th>doi</th>\n      <th>author_affil</th>\n      <th>pubmed_id</th>\n      <th>...</th>\n      <th>citation_num</th>\n      <th>language</th>\n      <th>production_type</th>\n      <th>source_type</th>\n      <th>index_terms</th>\n      <th>issn</th>\n      <th>publisher</th>\n      <th>affiliations</th>\n      <th>ref_count</th>\n      <th>references</th>\n    </tr>\n  </thead>\n  <tbody>\n    <tr>\n      <th>0</th>\n      <td>2005.13653</td>\n      <td>(Biomolecules, Quantitative Methods)</td>\n      <td>unveiling the molecular mechanism of sars-cov-...</td>\n      <td>({'name': 'Duc D Nguyen'}, {'name': 'Kaifu Gao...</td>\n      <td>Currently, there is no effective antiviral dru...</td>\n      <td>2020-05-27</td>\n      <td>arXiv</td>\n      <td>None</td>\n      <td>None</td>\n      <td>None</td>\n      <td>...</td>\n      <td>None</td>\n      <td>None</td>\n      <td>None</td>\n      <td>None</td>\n      <td>None</td>\n      <td>None</td>\n      <td>None</td>\n      <td>None</td>\n      <td>None</td>\n      <td>None</td>\n    </tr>\n    <tr>\n      <th>1</th>\n      <td>2005.13523</td>\n      <td>(Signal Processing, Human-Computer Interaction...</td>\n      <td>emotion-robust eeg classification for motor im...</td>\n      <td>({'name': 'Abdul Moeed'},)</td>\n      <td>Developments in Brain Computer Interfaces (BCI...</td>\n      <td>2020-05-23</td>\n      <td>arXiv</td>\n      <td>None</td>\n      <td>None</td>\n      <td>None</td>\n      <td>...</td>\n      <td>None</td>\n      <td>None</td>\n      <td>None</td>\n      <td>None</td>\n      <td>None</td>\n      <td>None</td>\n      <td>None</td>\n      <td>None</td>\n      <td>None</td>\n      <td>None</td>\n    </tr>\n    <tr>\n      <th>2</th>\n      <td>2005.13519</td>\n      <td>(Populations and Evolution, Physics and Society)</td>\n      <td>estimates of the proportion of sars-cov-2 infe...</td>\n      <td>({'name': 'Henrik Hult'}, {'name': 'Martina Fa...</td>\n      <td>In this paper a Bayesian SEIR model is studied...</td>\n      <td>2020-05-25</td>\n      <td>arXiv</td>\n      <td>None</td>\n      <td>None</td>\n      <td>None</td>\n      <td>...</td>\n      <td>None</td>\n      <td>None</td>\n      <td>None</td>\n      <td>None</td>\n      <td>None</td>\n      <td>None</td>\n      <td>None</td>\n      <td>None</td>\n      <td>None</td>\n      <td>None</td>\n    </tr>\n    <tr>\n      <th>3</th>\n      <td>2005.13516</td>\n      <td>(Populations and Evolution, Quantitative Methods)</td>\n      <td>a mathematical epidemic model using genetic fi...</td>\n      <td>({'name': 'Mohamed Taha Rouabah'}, {'name': 'A...</td>\n      <td>A compartmental epidemic model based on geneti...</td>\n      <td>2020-06-24</td>\n      <td>arXiv</td>\n      <td>None</td>\n      <td>None</td>\n      <td>None</td>\n      <td>...</td>\n      <td>None</td>\n      <td>None</td>\n      <td>None</td>\n      <td>None</td>\n      <td>None</td>\n      <td>None</td>\n      <td>None</td>\n      <td>None</td>\n      <td>None</td>\n      <td>None</td>\n    </tr>\n    <tr>\n      <th>4</th>\n      <td>2005.13466</td>\n      <td>(Social and Information Networks, Cryptography...</td>\n      <td>on the detection of disinformation campaign ac...</td>\n      <td>({'name': 'Luis Vargas'}, {'name': 'Patrick Em...</td>\n      <td>Online manipulation of information has become ...</td>\n      <td>2020-05-27</td>\n      <td>arXiv</td>\n      <td>None</td>\n      <td>None</td>\n      <td>None</td>\n      <td>...</td>\n      <td>None</td>\n      <td>None</td>\n      <td>None</td>\n      <td>None</td>\n      <td>None</td>\n      <td>None</td>\n      <td>None</td>\n      <td>None</td>\n      <td>None</td>\n      <td>None</td>\n    </tr>\n  </tbody>\n</table>\n<p>5 rows × 22 columns</p>\n</div>"
     },
     "metadata": {},
     "execution_count": 46
    }
   ],
   "source": [
    "# Checking the dataframe.\n",
    "df_final.head()"
   ]
  },
  {
   "cell_type": "code",
   "execution_count": 47,
   "metadata": {
    "tags": []
   },
   "outputs": [
    {
     "output_type": "stream",
     "name": "stdout",
     "text": "<class 'pandas.core.frame.DataFrame'>\nRangeIndex: 40218 entries, 0 to 40217\nData columns (total 22 columns):\n #   Column            Non-Null Count  Dtype         \n---  ------            --------------  -----         \n 0   id                31818 non-null  object        \n 1   subject_areas     25949 non-null  object        \n 2   title             40193 non-null  object        \n 3   authors           25610 non-null  object        \n 4   abstract          24447 non-null  object        \n 5   publication_date  40218 non-null  datetime64[ns]\n 6   data_source       40218 non-null  object        \n 7   doi               38454 non-null  object        \n 8   author_affil      38770 non-null  object        \n 9   pubmed_id         25816 non-null  object        \n 10  auth_keywords     15908 non-null  object        \n 11  vehicle_name      33423 non-null  object        \n 12  citation_num      25029 non-null  object        \n 13  language          24886 non-null  object        \n 14  production_type   25029 non-null  object        \n 15  source_type       25029 non-null  object        \n 16  index_terms       7548 non-null   object        \n 17  issn              25006 non-null  object        \n 18  publisher         25029 non-null  object        \n 19  affiliations      22857 non-null  object        \n 20  ref_count         25029 non-null  object        \n 21  references        18768 non-null  object        \ndtypes: datetime64[ns](1), object(21)\nmemory usage: 6.8+ MB\n"
    }
   ],
   "source": [
    "# Visualizing the information of dataset.\n",
    "df_final.info()"
   ]
  },
  {
   "cell_type": "code",
   "execution_count": 48,
   "metadata": {},
   "outputs": [],
   "source": [
    "# Exporting the final dataset to CSV file.\n",
    "df_final.to_csv(\"../../data/raw/final_raw.csv\", index=False, quoting=csv.QUOTE_ALL)"
   ]
  }
 ],
 "metadata": {
  "kernelspec": {
   "display_name": "Python 3.6.8 64-bit ('estudos': conda)",
   "language": "python",
   "name": "python36864bitestudoscondaefdbdfb7fca04c4cbc7cf079ba261d35"
  },
  "language_info": {
   "codemirror_mode": {
    "name": "ipython",
    "version": 3
   },
   "file_extension": ".py",
   "mimetype": "text/x-python",
   "name": "python",
   "nbconvert_exporter": "python",
   "pygments_lexer": "ipython3",
   "version": "3.6.10-final"
  }
 },
 "nbformat": 4,
 "nbformat_minor": 2
}