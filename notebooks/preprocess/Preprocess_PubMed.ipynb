{
 "cells": [
  {
   "cell_type": "markdown",
   "metadata": {},
   "source": [
    "# Cleaning and Preprocessing the PubMed publications related to COVID-19"
   ]
  },
  {
   "cell_type": "markdown",
   "metadata": {},
   "source": [
    "For collecting the PubMed publications related to COVID-19, we used the \"pymed\" library. It is avaliable on [https://pypi.org/project/pymed/]."
   ]
  },
  {
   "cell_type": "code",
   "execution_count": 1,
   "metadata": {},
   "outputs": [],
   "source": [
    "# Uncomment to install the library.\n",
    "# %pip install pylatexenc"
   ]
  },
  {
   "cell_type": "code",
   "execution_count": 2,
   "metadata": {},
   "outputs": [],
   "source": [
    "# Importing the required libraries.\n",
    "import re, csv, pandas as pd, numpy as np\n",
    "from pylatexenc.latex2text import LatexNodes2Text"
   ]
  },
  {
   "cell_type": "markdown",
   "metadata": {},
   "source": [
    "## 1. Generating the dataframe from the raw data"
   ]
  },
  {
   "cell_type": "code",
   "execution_count": 3,
   "metadata": {},
   "outputs": [],
   "source": [
    "# Creating a dataframe from the raw data.\n",
    "df_data = pd.read_csv(\"../../data/raw/pubmed_raw.csv\", header=0, dtype={\"pubmed_id\": \"str\"})"
   ]
  },
  {
   "cell_type": "code",
   "execution_count": 4,
   "metadata": {},
   "outputs": [
    {
     "output_type": "execute_result",
     "data": {
      "text/plain": [
       "  pubmed_id                                              title abstract  \\\n",
       "0  32967025                 ERCP during the COVID-19 epidemic.      NaN   \n",
       "1  32967024  ERCP in patients with COVID-19 infection - is ...      NaN   \n",
       "2  32967023  Raising the threshold for hospital admission a...      NaN   \n",
       "3  32967022  \"Double-surgical-mask-with-slit\" method: reduc...      NaN   \n",
       "4  32967019  Teams and endoscopy: another effect of the COV...      NaN   \n",
       "\n",
       "  keywords    journal publication_date  \\\n",
       "0       []  Endoscopy       2020-09-24   \n",
       "1       []  Endoscopy       2020-09-24   \n",
       "2       []  Endoscopy       2020-09-24   \n",
       "3       []  Endoscopy       2020-09-24   \n",
       "4       []  Endoscopy       2020-09-24   \n",
       "\n",
       "                                             authors methods conclusions  \\\n",
       "0  [{'lastname': 'Wang', 'firstname': 'Hongling',...     NaN         NaN   \n",
       "1  [{'lastname': 'Bilal', 'firstname': 'Mohammad'...     NaN         NaN   \n",
       "2  [{'lastname': 'Laursen', 'firstname': 'Stig B'...     NaN         NaN   \n",
       "3  [{'lastname': 'Lazaridis', 'firstname': 'Nikol...     NaN         NaN   \n",
       "4  [{'lastname': 'Dinis-Ribeiro', 'firstname': 'M...     NaN         NaN   \n",
       "\n",
       "  results copyrights                  doi  \\\n",
       "0     NaN        NaN  10.1055/a-1194-4745   \n",
       "1     NaN        NaN  10.1055/a-1180-8681   \n",
       "2     NaN        NaN  10.1055/a-1202-1374   \n",
       "3     NaN        NaN  10.1055/a-1198-5471   \n",
       "4     NaN        NaN  10.1055/a-1223-2406   \n",
       "\n",
       "                                           xml isbn language publication_type  \\\n",
       "0  <Element 'PubmedArticle' at 0x7f83a91d91d8>  NaN      NaN              NaN   \n",
       "1  <Element 'PubmedArticle' at 0x7f83a91de5e8>  NaN      NaN              NaN   \n",
       "2  <Element 'PubmedArticle' at 0x7f83a91e8548>  NaN      NaN              NaN   \n",
       "3  <Element 'PubmedArticle' at 0x7f83a91f0048>  NaN      NaN              NaN   \n",
       "4  <Element 'PubmedArticle' at 0x7f83a91f7228>  NaN      NaN              NaN   \n",
       "\n",
       "  sections publisher publisher_location  \n",
       "0      NaN       NaN                NaN  \n",
       "1      NaN       NaN                NaN  \n",
       "2      NaN       NaN                NaN  \n",
       "3      NaN       NaN                NaN  \n",
       "4      NaN       NaN                NaN  "
      ],
      "text/html": "<div>\n<style scoped>\n    .dataframe tbody tr th:only-of-type {\n        vertical-align: middle;\n    }\n\n    .dataframe tbody tr th {\n        vertical-align: top;\n    }\n\n    .dataframe thead th {\n        text-align: right;\n    }\n</style>\n<table border=\"1\" class=\"dataframe\">\n  <thead>\n    <tr style=\"text-align: right;\">\n      <th></th>\n      <th>pubmed_id</th>\n      <th>title</th>\n      <th>abstract</th>\n      <th>keywords</th>\n      <th>journal</th>\n      <th>publication_date</th>\n      <th>authors</th>\n      <th>methods</th>\n      <th>conclusions</th>\n      <th>results</th>\n      <th>copyrights</th>\n      <th>doi</th>\n      <th>xml</th>\n      <th>isbn</th>\n      <th>language</th>\n      <th>publication_type</th>\n      <th>sections</th>\n      <th>publisher</th>\n      <th>publisher_location</th>\n    </tr>\n  </thead>\n  <tbody>\n    <tr>\n      <th>0</th>\n      <td>32967025</td>\n      <td>ERCP during the COVID-19 epidemic.</td>\n      <td>NaN</td>\n      <td>[]</td>\n      <td>Endoscopy</td>\n      <td>2020-09-24</td>\n      <td>[{'lastname': 'Wang', 'firstname': 'Hongling',...</td>\n      <td>NaN</td>\n      <td>NaN</td>\n      <td>NaN</td>\n      <td>NaN</td>\n      <td>10.1055/a-1194-4745</td>\n      <td>&lt;Element 'PubmedArticle' at 0x7f83a91d91d8&gt;</td>\n      <td>NaN</td>\n      <td>NaN</td>\n      <td>NaN</td>\n      <td>NaN</td>\n      <td>NaN</td>\n      <td>NaN</td>\n    </tr>\n    <tr>\n      <th>1</th>\n      <td>32967024</td>\n      <td>ERCP in patients with COVID-19 infection - is ...</td>\n      <td>NaN</td>\n      <td>[]</td>\n      <td>Endoscopy</td>\n      <td>2020-09-24</td>\n      <td>[{'lastname': 'Bilal', 'firstname': 'Mohammad'...</td>\n      <td>NaN</td>\n      <td>NaN</td>\n      <td>NaN</td>\n      <td>NaN</td>\n      <td>10.1055/a-1180-8681</td>\n      <td>&lt;Element 'PubmedArticle' at 0x7f83a91de5e8&gt;</td>\n      <td>NaN</td>\n      <td>NaN</td>\n      <td>NaN</td>\n      <td>NaN</td>\n      <td>NaN</td>\n      <td>NaN</td>\n    </tr>\n    <tr>\n      <th>2</th>\n      <td>32967023</td>\n      <td>Raising the threshold for hospital admission a...</td>\n      <td>NaN</td>\n      <td>[]</td>\n      <td>Endoscopy</td>\n      <td>2020-09-24</td>\n      <td>[{'lastname': 'Laursen', 'firstname': 'Stig B'...</td>\n      <td>NaN</td>\n      <td>NaN</td>\n      <td>NaN</td>\n      <td>NaN</td>\n      <td>10.1055/a-1202-1374</td>\n      <td>&lt;Element 'PubmedArticle' at 0x7f83a91e8548&gt;</td>\n      <td>NaN</td>\n      <td>NaN</td>\n      <td>NaN</td>\n      <td>NaN</td>\n      <td>NaN</td>\n      <td>NaN</td>\n    </tr>\n    <tr>\n      <th>3</th>\n      <td>32967022</td>\n      <td>\"Double-surgical-mask-with-slit\" method: reduc...</td>\n      <td>NaN</td>\n      <td>[]</td>\n      <td>Endoscopy</td>\n      <td>2020-09-24</td>\n      <td>[{'lastname': 'Lazaridis', 'firstname': 'Nikol...</td>\n      <td>NaN</td>\n      <td>NaN</td>\n      <td>NaN</td>\n      <td>NaN</td>\n      <td>10.1055/a-1198-5471</td>\n      <td>&lt;Element 'PubmedArticle' at 0x7f83a91f0048&gt;</td>\n      <td>NaN</td>\n      <td>NaN</td>\n      <td>NaN</td>\n      <td>NaN</td>\n      <td>NaN</td>\n      <td>NaN</td>\n    </tr>\n    <tr>\n      <th>4</th>\n      <td>32967019</td>\n      <td>Teams and endoscopy: another effect of the COV...</td>\n      <td>NaN</td>\n      <td>[]</td>\n      <td>Endoscopy</td>\n      <td>2020-09-24</td>\n      <td>[{'lastname': 'Dinis-Ribeiro', 'firstname': 'M...</td>\n      <td>NaN</td>\n      <td>NaN</td>\n      <td>NaN</td>\n      <td>NaN</td>\n      <td>10.1055/a-1223-2406</td>\n      <td>&lt;Element 'PubmedArticle' at 0x7f83a91f7228&gt;</td>\n      <td>NaN</td>\n      <td>NaN</td>\n      <td>NaN</td>\n      <td>NaN</td>\n      <td>NaN</td>\n      <td>NaN</td>\n    </tr>\n  </tbody>\n</table>\n</div>"
     },
     "metadata": {},
     "execution_count": 4
    }
   ],
   "source": [
    "# Checking the dataframe.\n",
    "df_data.head()"
   ]
  },
  {
   "cell_type": "code",
   "execution_count": 5,
   "metadata": {
    "tags": []
   },
   "outputs": [
    {
     "output_type": "stream",
     "name": "stdout",
     "text": [
      "<class 'pandas.core.frame.DataFrame'>\nRangeIndex: 55595 entries, 0 to 55594\nData columns (total 19 columns):\n #   Column              Non-Null Count  Dtype \n---  ------              --------------  ----- \n 0   pubmed_id           55595 non-null  object\n 1   title               55499 non-null  object\n 2   abstract            32080 non-null  object\n 3   keywords            55577 non-null  object\n 4   journal             55577 non-null  object\n 5   publication_date    55595 non-null  object\n 6   authors             55595 non-null  object\n 7   methods             348 non-null    object\n 8   conclusions         3077 non-null   object\n 9   results             6808 non-null   object\n 10  copyrights          18723 non-null  object\n 11  doi                 54572 non-null  object\n 12  xml                 55577 non-null  object\n 13  isbn                3 non-null      object\n 14  language            18 non-null     object\n 15  publication_type    18 non-null     object\n 16  sections            18 non-null     object\n 17  publisher           18 non-null     object\n 18  publisher_location  18 non-null     object\ndtypes: object(19)\nmemory usage: 8.1+ MB\n"
     ]
    }
   ],
   "source": [
    "# Visualizing the information of dataset.\n",
    "df_data.info()"
   ]
  },
  {
   "cell_type": "markdown",
   "metadata": {},
   "source": [
    "## 2. Cleaning and preprocessing the dataframe"
   ]
  },
  {
   "cell_type": "code",
   "execution_count": 6,
   "metadata": {},
   "outputs": [],
   "source": [
    "# Defining the function \"clean_text\" to clean and preprocess any text.\n",
    "def clean_text(text):\n",
    "    if text:\n",
    "        return re.sub(r\"\\s+\", \" \", re.sub(r\"\\-{2,}\", \"-\", re.sub(\"[0-9]*\\u200b\", \"\", str(text))).replace(\n",
    "            \"\\u2009\", \" \").replace(\"\\xa0\", \" \").replace(\"\\n\", \" \").replace(\"\\ufeff\", \"\").replace(\n",
    "            \"\\u202f\", \"\").replace(\"\\u2028\", \" \").replace(\"\\u200f\", \"\").replace(\"\\u200e\", \"\").replace(\n",
    "            \"()\", \"\").replace(\"[]\", \"\").replace(\"\\\\'\", \"\\'\")).strip()\n",
    "    else:\n",
    "        return None"
   ]
  },
  {
   "cell_type": "code",
   "execution_count": 7,
   "metadata": {},
   "outputs": [],
   "source": [
    "# Defining the \"None\" value for the \"NaN\" values.\n",
    "df_data.replace({np.nan: None}, inplace=True)"
   ]
  },
  {
   "cell_type": "code",
   "execution_count": 8,
   "metadata": {},
   "outputs": [],
   "source": [
    "# Removing unnecessary columns.\n",
    "columns_drop = [\"methods\", \"conclusions\", \"results\", \"copyrights\", \"xml\", \"isbn\",\n",
    "                \"language\", \"publication_type\", \"sections\", \"publisher\", \"publisher_location\"]\n",
    "df_data.drop(axis=1, columns=columns_drop, inplace=True)"
   ]
  },
  {
   "cell_type": "code",
   "execution_count": 9,
   "metadata": {},
   "outputs": [],
   "source": [
    "# Getting the PubMed ID for each paper.\n",
    "df_data.pubmed_id = df_data.pubmed_id.apply(lambda x: x.split()[0].strip())"
   ]
  },
  {
   "cell_type": "code",
   "execution_count": 10,
   "metadata": {},
   "outputs": [],
   "source": [
    "# Normalizing the features \"abstract\", \"title\" and \"journal\".\n",
    "df_data.abstract = df_data.abstract.apply(\n",
    "    lambda x: clean_text(LatexNodes2Text().latex_to_text(\n",
    "        re.sub(r\"\\s+\", \" \", re.sub(\"%\", \"\\\\%\", x)))) if x and len(x) > 0 else None)\n",
    "df_data.title = df_data.title.apply(lambda x: clean_text(x) if x and len(x) > 0 else None)\n",
    "df_data.journal = df_data.journal.apply(clean_text)"
   ]
  },
  {
   "cell_type": "code",
   "execution_count": 11,
   "metadata": {
    "tags": []
   },
   "outputs": [],
   "source": [
    "# Setting the feature \"keywords\" as a tuple of keywords and normalizing the keywords for each paper.\n",
    "df_data.keywords.loc[df_data.keywords.notnull()] = [\n",
    "    tuple([clean_text(keyword) for keyword in eval(keywords)]) if eval(keywords) else None\n",
    "    for keywords in df_data.keywords[df_data.keywords.notnull()]]"
   ]
  },
  {
   "cell_type": "code",
   "execution_count": 12,
   "metadata": {},
   "outputs": [
    {
     "output_type": "execute_result",
     "data": {
      "text/plain": [
       "24"
      ]
     },
     "metadata": {},
     "execution_count": 12
    }
   ],
   "source": [
    "# Checking there are invalid keywords.\n",
    "df_data[df_data.keywords.notnull()].keywords[\n",
    "    [np.any([item == None for item in keywords])\n",
    "    for keywords in df_data[df_data.keywords.notnull()].keywords]].size"
   ]
  },
  {
   "cell_type": "code",
   "execution_count": 13,
   "metadata": {},
   "outputs": [],
   "source": [
    "# Removing the invalid keywords.\n",
    "df_data.keywords.loc[df_data.keywords.notnull()] = [tuple([item for item in keywords if item])\n",
    "    for keywords in df_data.keywords[df_data.keywords.notnull()]]\n",
    "df_data.keywords.loc[df_data.keywords.notnull()] = df_data.keywords.loc[\n",
    "    df_data.keywords.notnull()].apply(lambda x: x if len(x) > 0 else None)"
   ]
  },
  {
   "cell_type": "code",
   "execution_count": 14,
   "metadata": {},
   "outputs": [],
   "source": [
    "# Correcting the feature \"authors\".\n",
    "for idx, authors in enumerate(df_data.authors):\n",
    "    if not eval(authors):\n",
    "        df_data.authors[idx] = None\n",
    "    else:\n",
    "        list_authors = []\n",
    "        for author in eval(authors):\n",
    "            auth = {}\n",
    "            if author[\"firstname\"] and author[\"lastname\"]:\n",
    "                auth[\"name\"] = clean_text(\"{} {}\".format(author[\"firstname\"], author[\"lastname\"]))\n",
    "            elif author[\"firstname\"] and not author[\"lastname\"]:\n",
    "                auth[\"name\"] = clean_text(author[\"firstname\"])\n",
    "            elif not author[\"firstname\"] and author[\"lastname\"]:\n",
    "                auth[\"name\"] = clean_text(author[\"lastname\"])\n",
    "            else:\n",
    "                auth[\"name\"] = None\n",
    "\n",
    "            auth[\"id\"] = str(hash(\"{} - {}\".format(auth[\"name\"], \"PubMed\"))) if auth[\"name\"] else None\n",
    "            auth[\"affiliation\"] = clean_text(author[\"affiliation\"]) if \"affiliation\" in author else None\n",
    "            auth[\"affil_id\"] = str(hash(\"{} - {}\".format(auth[\"affiliation\"], \"PubMed\"))) \\\n",
    "                if auth[\"affiliation\"] else None\n",
    "            auth[\"country\"] = None\n",
    "\n",
    "            if auth[\"affiliation\"] or auth[\"name\"]:\n",
    "                list_authors.append(auth)\n",
    "\n",
    "        df_data.authors[idx] = tuple(list_authors) if len(list_authors) > 0 else None"
   ]
  },
  {
   "cell_type": "code",
   "execution_count": 15,
   "metadata": {},
   "outputs": [],
   "source": [
    "# Renaming the features \"authors\", \"keywords\" and \"journal\".\n",
    "df_data.rename(columns={\"authors\": \"author_affil\", \"keywords\": \"auth_keywords\",\n",
    "                        \"journal\": \"vehicle_name\"}, inplace=True)"
   ]
  },
  {
   "cell_type": "code",
   "execution_count": 16,
   "metadata": {},
   "outputs": [],
   "source": [
    "# Removing the duplicated records by features \"title\" and \"doi\".\n",
    "df_data = pd.concat([df_data[df_data.title.isnull() | df_data.doi.isnull()],\n",
    "    df_data[df_data.title.notnull() & df_data.doi.notnull()].sort_values(\n",
    "        by=[\"title\", \"publication_date\"]).drop_duplicates([\"title\", \"doi\"], \"last\")], ignore_index=True)"
   ]
  },
  {
   "cell_type": "code",
   "execution_count": 17,
   "metadata": {},
   "outputs": [
    {
     "output_type": "execute_result",
     "data": {
      "text/plain": [
       "  pubmed_id                                              title  \\\n",
       "0  32966253  Post-COVID-19 management guidelines for orthod...   \n",
       "1  32966252  Orthodontics in the COVID-19 Era: The way forw...   \n",
       "2  32964105  Unintended consequences of COVID-19: Opportuni...   \n",
       "3  32965930                                         StatPearls   \n",
       "4  32963099                                               None   \n",
       "\n",
       "                                            abstract  \\\n",
       "0                                               None   \n",
       "1                                               None   \n",
       "2                                               None   \n",
       "3  Amidst the coronavirus 2019-nCoV (COVID-19) pa...   \n",
       "4  The membrane-anchored spike (S) protein of sev...   \n",
       "\n",
       "                                       auth_keywords  \\\n",
       "0                                               None   \n",
       "1                                               None   \n",
       "2  (coronavirus infections, mechanical ventilator...   \n",
       "3                                               None   \n",
       "4  (S2 fusion peptide-containing domain, coronavi...   \n",
       "\n",
       "                                        vehicle_name publication_date  \\\n",
       "0             Journal of clinical orthodontics : JCO       2020-09-24   \n",
       "1             Journal of clinical orthodontics : JCO       2020-09-24   \n",
       "2  Canadian journal of respiratory therapy : CJRT...       2020-09-24   \n",
       "3                                               None             2020   \n",
       "4                                           mSystems       2020-09-24   \n",
       "\n",
       "                                        author_affil  \\\n",
       "0  ({'name': 'Jae Hyun Park', 'id': '491700415152...   \n",
       "1  ({'name': 'M Srirengalakshmi', 'id': '26238586...   \n",
       "2  ({'name': 'Patricia McClurg', 'id': '-28749460...   \n",
       "3  ({'name': 'Onyinyechukwu Okorji', 'id': '65138...   \n",
       "4  ({'name': 'Nishant Shekhar', 'id': '7707225331...   \n",
       "\n",
       "                         doi  \n",
       "0                       None  \n",
       "1                       None  \n",
       "2                       None  \n",
       "3                       None  \n",
       "4  10.1128/mSystems.00382-20  "
      ],
      "text/html": "<div>\n<style scoped>\n    .dataframe tbody tr th:only-of-type {\n        vertical-align: middle;\n    }\n\n    .dataframe tbody tr th {\n        vertical-align: top;\n    }\n\n    .dataframe thead th {\n        text-align: right;\n    }\n</style>\n<table border=\"1\" class=\"dataframe\">\n  <thead>\n    <tr style=\"text-align: right;\">\n      <th></th>\n      <th>pubmed_id</th>\n      <th>title</th>\n      <th>abstract</th>\n      <th>auth_keywords</th>\n      <th>vehicle_name</th>\n      <th>publication_date</th>\n      <th>author_affil</th>\n      <th>doi</th>\n    </tr>\n  </thead>\n  <tbody>\n    <tr>\n      <th>0</th>\n      <td>32966253</td>\n      <td>Post-COVID-19 management guidelines for orthod...</td>\n      <td>None</td>\n      <td>None</td>\n      <td>Journal of clinical orthodontics : JCO</td>\n      <td>2020-09-24</td>\n      <td>({'name': 'Jae Hyun Park', 'id': '491700415152...</td>\n      <td>None</td>\n    </tr>\n    <tr>\n      <th>1</th>\n      <td>32966252</td>\n      <td>Orthodontics in the COVID-19 Era: The way forw...</td>\n      <td>None</td>\n      <td>None</td>\n      <td>Journal of clinical orthodontics : JCO</td>\n      <td>2020-09-24</td>\n      <td>({'name': 'M Srirengalakshmi', 'id': '26238586...</td>\n      <td>None</td>\n    </tr>\n    <tr>\n      <th>2</th>\n      <td>32964105</td>\n      <td>Unintended consequences of COVID-19: Opportuni...</td>\n      <td>None</td>\n      <td>(coronavirus infections, mechanical ventilator...</td>\n      <td>Canadian journal of respiratory therapy : CJRT...</td>\n      <td>2020-09-24</td>\n      <td>({'name': 'Patricia McClurg', 'id': '-28749460...</td>\n      <td>None</td>\n    </tr>\n    <tr>\n      <th>3</th>\n      <td>32965930</td>\n      <td>StatPearls</td>\n      <td>Amidst the coronavirus 2019-nCoV (COVID-19) pa...</td>\n      <td>None</td>\n      <td>None</td>\n      <td>2020</td>\n      <td>({'name': 'Onyinyechukwu Okorji', 'id': '65138...</td>\n      <td>None</td>\n    </tr>\n    <tr>\n      <th>4</th>\n      <td>32963099</td>\n      <td>None</td>\n      <td>The membrane-anchored spike (S) protein of sev...</td>\n      <td>(S2 fusion peptide-containing domain, coronavi...</td>\n      <td>mSystems</td>\n      <td>2020-09-24</td>\n      <td>({'name': 'Nishant Shekhar', 'id': '7707225331...</td>\n      <td>10.1128/mSystems.00382-20</td>\n    </tr>\n  </tbody>\n</table>\n</div>"
     },
     "metadata": {},
     "execution_count": 17
    }
   ],
   "source": [
    "# Checking the result.\n",
    "df_data.head()"
   ]
  },
  {
   "cell_type": "code",
   "execution_count": 18,
   "metadata": {
    "tags": []
   },
   "outputs": [
    {
     "output_type": "stream",
     "name": "stdout",
     "text": [
      "<class 'pandas.core.frame.DataFrame'>\nRangeIndex: 55503 entries, 0 to 55502\nData columns (total 8 columns):\n #   Column            Non-Null Count  Dtype \n---  ------            --------------  ----- \n 0   pubmed_id         55503 non-null  object\n 1   title             55407 non-null  object\n 2   abstract          32060 non-null  object\n 3   auth_keywords     28215 non-null  object\n 4   vehicle_name      55485 non-null  object\n 5   publication_date  55503 non-null  object\n 6   author_affil      54983 non-null  object\n 7   doi               54480 non-null  object\ndtypes: object(8)\nmemory usage: 3.4+ MB\n"
     ]
    }
   ],
   "source": [
    "# Visualizing the information of dataset.\n",
    "df_data.info()"
   ]
  },
  {
   "cell_type": "markdown",
   "metadata": {},
   "source": [
    "## 3. Saving the dataframe"
   ]
  },
  {
   "cell_type": "code",
   "execution_count": 19,
   "metadata": {},
   "outputs": [],
   "source": [
    "# Exporting the data to CSV file.\n",
    "df_data.to_csv(\"../../data/prepared/pubmed_covid_19.csv\", index=False, quoting=csv.QUOTE_ALL)"
   ]
  }
 ],
 "metadata": {
  "kernelspec": {
   "name": "Python 3.8.5 64-bit ('estudos': conda)",
   "display_name": "Python 3.8.5 64-bit ('estudos': conda)",
   "metadata": {
    "interpreter": {
     "hash": "f36571e8ac200d0f57344c8319ea980e2f95eb6f7827d62a556f36e3662bc811"
    }
   }
  },
  "language_info": {
   "codemirror_mode": {
    "name": "ipython",
    "version": 3
   },
   "file_extension": ".py",
   "mimetype": "text/x-python",
   "name": "python",
   "nbconvert_exporter": "python",
   "pygments_lexer": "ipython3",
   "version": "3.8.5-final"
  }
 },
 "nbformat": 4,
 "nbformat_minor": 2
}