{
 "cells": [
  {
   "cell_type": "markdown",
   "metadata": {},
   "source": [
    "# Cleaning and Preprocessing the arXiv publications related to COVID-19"
   ]
  },
  {
   "cell_type": "markdown",
   "metadata": {},
   "source": [
    "The publications' data were collected from [arXiv webpage](https://arxiv.org/covid19search) related to COVID-19."
   ]
  },
  {
   "cell_type": "code",
   "execution_count": 1,
   "metadata": {},
   "outputs": [],
   "source": [
    "# Uncomment to install the library.\n",
    "# %pip install pylatexenc"
   ]
  },
  {
   "cell_type": "code",
   "execution_count": 2,
   "metadata": {},
   "outputs": [],
   "source": [
    "# Importing the required libraries.\n",
    "import csv, re, pandas as pd, numpy as np\n",
    "from pylatexenc.latex2text import LatexNodes2Text\n",
    "from datetime import datetime"
   ]
  },
  {
   "cell_type": "markdown",
   "metadata": {},
   "source": [
    "## 1. Generating the dataframe from the raw data"
   ]
  },
  {
   "cell_type": "code",
   "execution_count": 3,
   "metadata": {},
   "outputs": [],
   "source": [
    "# Creating a dataframe from the raw data.\n",
    "df_data = pd.read_csv(\"../../data/raw/arxiv_raw.csv\", header=0)"
   ]
  },
  {
   "cell_type": "code",
   "execution_count": 4,
   "metadata": {},
   "outputs": [
    {
     "output_type": "execute_result",
     "data": {
      "text/plain": "                 id                                      subject_areas  \\\n0  arXiv:2005.13653           ['Biomolecules', 'Quantitative Methods']   \n1  arXiv:2005.13523  ['Signal Processing', 'Human-Computer Interact...   \n2  arXiv:2005.13519  ['Populations and Evolution', 'Physics and Soc...   \n3  arXiv:2005.13516  ['Populations and Evolution', 'Quantitative Me...   \n4  arXiv:2005.13466  ['Social and Information Networks', 'Cryptogra...   \n\n                                               title  \\\n0  Unveiling the molecular mechanism of SARS-CoV-...   \n1  Emotion-robust EEG Classification for Motor Im...   \n2  Estimates of the proportion of SARS-CoV-2 infe...   \n3  A mathematical epidemic model using genetic fi...   \n4  On the Detection of Disinformation Campaign Ac...   \n\n                                             authors  \\\n0  ['Duc D Nguyen', 'Kaifu Gao', 'Jiahui Chen', '...   \n1                                    ['Abdul Moeed']   \n2                  ['Henrik Hult', 'Martina Favero']   \n3  ['Mohamed Taha Rouabah', 'Abdellah Tounsi', 'N...   \n4  ['Luis Vargas', 'Patrick Emami', 'Patrick Tray...   \n\n                                            abstract  \\\n0  Currently, there is no effective antiviral dru...   \n1  Developments in Brain Computer Interfaces (BCI...   \n2  In this paper a Bayesian SEIR model is studied...   \n3  A compartmental epidemic model based on geneti...   \n4  Online manipulation of information has become ...   \n\n                                                date  \n0                     27 May, 2020;        May 2020.  \n1                     23 May, 2020;        May 2020.  \n2  25 May, 2020;        May 2020.                ...  \n3  24 June, 2020;  submitted 26 May, 2020;       ...  \n4                     27 May, 2020;        May 2020.  ",
      "text/html": "<div>\n<style scoped>\n    .dataframe tbody tr th:only-of-type {\n        vertical-align: middle;\n    }\n\n    .dataframe tbody tr th {\n        vertical-align: top;\n    }\n\n    .dataframe thead th {\n        text-align: right;\n    }\n</style>\n<table border=\"1\" class=\"dataframe\">\n  <thead>\n    <tr style=\"text-align: right;\">\n      <th></th>\n      <th>id</th>\n      <th>subject_areas</th>\n      <th>title</th>\n      <th>authors</th>\n      <th>abstract</th>\n      <th>date</th>\n    </tr>\n  </thead>\n  <tbody>\n    <tr>\n      <th>0</th>\n      <td>arXiv:2005.13653</td>\n      <td>['Biomolecules', 'Quantitative Methods']</td>\n      <td>Unveiling the molecular mechanism of SARS-CoV-...</td>\n      <td>['Duc D Nguyen', 'Kaifu Gao', 'Jiahui Chen', '...</td>\n      <td>Currently, there is no effective antiviral dru...</td>\n      <td>27 May, 2020;        May 2020.</td>\n    </tr>\n    <tr>\n      <th>1</th>\n      <td>arXiv:2005.13523</td>\n      <td>['Signal Processing', 'Human-Computer Interact...</td>\n      <td>Emotion-robust EEG Classification for Motor Im...</td>\n      <td>['Abdul Moeed']</td>\n      <td>Developments in Brain Computer Interfaces (BCI...</td>\n      <td>23 May, 2020;        May 2020.</td>\n    </tr>\n    <tr>\n      <th>2</th>\n      <td>arXiv:2005.13519</td>\n      <td>['Populations and Evolution', 'Physics and Soc...</td>\n      <td>Estimates of the proportion of SARS-CoV-2 infe...</td>\n      <td>['Henrik Hult', 'Martina Favero']</td>\n      <td>In this paper a Bayesian SEIR model is studied...</td>\n      <td>25 May, 2020;        May 2020.                ...</td>\n    </tr>\n    <tr>\n      <th>3</th>\n      <td>arXiv:2005.13516</td>\n      <td>['Populations and Evolution', 'Quantitative Me...</td>\n      <td>A mathematical epidemic model using genetic fi...</td>\n      <td>['Mohamed Taha Rouabah', 'Abdellah Tounsi', 'N...</td>\n      <td>A compartmental epidemic model based on geneti...</td>\n      <td>24 June, 2020;  submitted 26 May, 2020;       ...</td>\n    </tr>\n    <tr>\n      <th>4</th>\n      <td>arXiv:2005.13466</td>\n      <td>['Social and Information Networks', 'Cryptogra...</td>\n      <td>On the Detection of Disinformation Campaign Ac...</td>\n      <td>['Luis Vargas', 'Patrick Emami', 'Patrick Tray...</td>\n      <td>Online manipulation of information has become ...</td>\n      <td>27 May, 2020;        May 2020.</td>\n    </tr>\n  </tbody>\n</table>\n</div>"
     },
     "metadata": {},
     "execution_count": 4
    }
   ],
   "source": [
    "# Checking the dataframe.\n",
    "df_data.head()"
   ]
  },
  {
   "cell_type": "code",
   "execution_count": 5,
   "metadata": {
    "tags": []
   },
   "outputs": [
    {
     "output_type": "stream",
     "name": "stdout",
     "text": "<class 'pandas.core.frame.DataFrame'>\nRangeIndex: 1000 entries, 0 to 999\nData columns (total 6 columns):\n #   Column         Non-Null Count  Dtype \n---  ------         --------------  ----- \n 0   id             1000 non-null   object\n 1   subject_areas  1000 non-null   object\n 2   title          1000 non-null   object\n 3   authors        1000 non-null   object\n 4   abstract       1000 non-null   object\n 5   date           1000 non-null   object\ndtypes: object(6)\nmemory usage: 47.0+ KB\n"
    }
   ],
   "source": [
    "# Visualizing the information of dataset.\n",
    "df_data.info()"
   ]
  },
  {
   "cell_type": "markdown",
   "metadata": {},
   "source": [
    "## 2. Cleaning and preprocessing the dataframe"
   ]
  },
  {
   "cell_type": "code",
   "execution_count": 6,
   "metadata": {},
   "outputs": [],
   "source": [
    "# Defining the \"None\" value for the \"NaN\" values.\n",
    "df_data.replace({np.nan: None}, inplace=True)"
   ]
  },
  {
   "cell_type": "code",
   "execution_count": 7,
   "metadata": {},
   "outputs": [],
   "source": [
    "# Normalizing the feature \"id\".\n",
    "df_data.id = df_data.id.apply(lambda x: x.replace(\"arXiv:\", \"\").strip())"
   ]
  },
  {
   "cell_type": "code",
   "execution_count": 8,
   "metadata": {},
   "outputs": [],
   "source": [
    "# Normalizing the feature \"subject_areas\".\n",
    "df_data.subject_areas = df_data.subject_areas.apply(lambda x: tuple(eval(x)))"
   ]
  },
  {
   "cell_type": "code",
   "execution_count": 9,
   "metadata": {
    "tags": []
   },
   "outputs": [],
   "source": [
    "# Normalizing the features \"title\" and \"abstract\".\n",
    "df_data.loc[:, [\"title\", \"abstract\"]] = df_data.loc[:, [\"title\", \"abstract\"]].apply(\n",
    "    lambda x: x.apply(lambda y: re.sub(\"/r/\", \"\", re.sub(\"@PER@CENT@\", \"%\", re.sub(r\"[\\^_]\", \"\",\n",
    "        LatexNodes2Text().latex_to_text(re.sub(r\"\\s+\", \" \",\n",
    "            re.sub(r\"\\\\?%\", \"@PER@CENT@\", y))).strip())))))"
   ]
  },
  {
   "cell_type": "code",
   "execution_count": 10,
   "metadata": {},
   "outputs": [],
   "source": [
    "# Normalizing the feature \"authors\".\n",
    "df_data.authors = [tuple([{\"name\": author} for author in eval(authors)]) for authors in df_data.authors]"
   ]
  },
  {
   "cell_type": "code",
   "execution_count": 11,
   "metadata": {},
   "outputs": [],
   "source": [
    "# Normalizing the feature \"date\".\n",
    "df_data.date = df_data.date.apply(lambda x: re.sub(r\"\\s+\", \" \", x.split(\".\")[0]))\n",
    "df_data.date = df_data.date.apply(lambda x: x.replace(\"submitted \", \"\"))"
   ]
  },
  {
   "cell_type": "code",
   "execution_count": 12,
   "metadata": {},
   "outputs": [],
   "source": [
    "# Creating the feature \"publication_date\" from the feature \"date\".\n",
    "df_data[\"publication_date\"] = df_data.date.apply(\n",
    "    lambda x: datetime.strptime(x.split(\";\")[0].strip(), \"%d %B, %Y\").date())"
   ]
  },
  {
   "cell_type": "code",
   "execution_count": 13,
   "metadata": {},
   "outputs": [],
   "source": [
    "# Removing unnecessary columns.\n",
    "df_data.drop(axis=1, columns=\"date\", inplace=True)"
   ]
  },
  {
   "cell_type": "code",
   "execution_count": 14,
   "metadata": {},
   "outputs": [
    {
     "output_type": "execute_result",
     "data": {
      "text/plain": "           id                                      subject_areas  \\\n0  2005.13653               (Biomolecules, Quantitative Methods)   \n1  2005.13523  (Signal Processing, Human-Computer Interaction...   \n2  2005.13519   (Populations and Evolution, Physics and Society)   \n3  2005.13516  (Populations and Evolution, Quantitative Methods)   \n4  2005.13466  (Social and Information Networks, Cryptography...   \n\n                                               title  \\\n0  Unveiling the molecular mechanism of SARS-CoV-...   \n1  Emotion-robust EEG Classification for Motor Im...   \n2  Estimates of the proportion of SARS-CoV-2 infe...   \n3  A mathematical epidemic model using genetic fi...   \n4  On the Detection of Disinformation Campaign Ac...   \n\n                                             authors  \\\n0  ({'name': 'Duc D Nguyen'}, {'name': 'Kaifu Gao...   \n1                         ({'name': 'Abdul Moeed'},)   \n2  ({'name': 'Henrik Hult'}, {'name': 'Martina Fa...   \n3  ({'name': 'Mohamed Taha Rouabah'}, {'name': 'A...   \n4  ({'name': 'Luis Vargas'}, {'name': 'Patrick Em...   \n\n                                            abstract publication_date  \n0  Currently, there is no effective antiviral dru...       2020-05-27  \n1  Developments in Brain Computer Interfaces (BCI...       2020-05-23  \n2  In this paper a Bayesian SEIR model is studied...       2020-05-25  \n3  A compartmental epidemic model based on geneti...       2020-06-24  \n4  Online manipulation of information has become ...       2020-05-27  ",
      "text/html": "<div>\n<style scoped>\n    .dataframe tbody tr th:only-of-type {\n        vertical-align: middle;\n    }\n\n    .dataframe tbody tr th {\n        vertical-align: top;\n    }\n\n    .dataframe thead th {\n        text-align: right;\n    }\n</style>\n<table border=\"1\" class=\"dataframe\">\n  <thead>\n    <tr style=\"text-align: right;\">\n      <th></th>\n      <th>id</th>\n      <th>subject_areas</th>\n      <th>title</th>\n      <th>authors</th>\n      <th>abstract</th>\n      <th>publication_date</th>\n    </tr>\n  </thead>\n  <tbody>\n    <tr>\n      <th>0</th>\n      <td>2005.13653</td>\n      <td>(Biomolecules, Quantitative Methods)</td>\n      <td>Unveiling the molecular mechanism of SARS-CoV-...</td>\n      <td>({'name': 'Duc D Nguyen'}, {'name': 'Kaifu Gao...</td>\n      <td>Currently, there is no effective antiviral dru...</td>\n      <td>2020-05-27</td>\n    </tr>\n    <tr>\n      <th>1</th>\n      <td>2005.13523</td>\n      <td>(Signal Processing, Human-Computer Interaction...</td>\n      <td>Emotion-robust EEG Classification for Motor Im...</td>\n      <td>({'name': 'Abdul Moeed'},)</td>\n      <td>Developments in Brain Computer Interfaces (BCI...</td>\n      <td>2020-05-23</td>\n    </tr>\n    <tr>\n      <th>2</th>\n      <td>2005.13519</td>\n      <td>(Populations and Evolution, Physics and Society)</td>\n      <td>Estimates of the proportion of SARS-CoV-2 infe...</td>\n      <td>({'name': 'Henrik Hult'}, {'name': 'Martina Fa...</td>\n      <td>In this paper a Bayesian SEIR model is studied...</td>\n      <td>2020-05-25</td>\n    </tr>\n    <tr>\n      <th>3</th>\n      <td>2005.13516</td>\n      <td>(Populations and Evolution, Quantitative Methods)</td>\n      <td>A mathematical epidemic model using genetic fi...</td>\n      <td>({'name': 'Mohamed Taha Rouabah'}, {'name': 'A...</td>\n      <td>A compartmental epidemic model based on geneti...</td>\n      <td>2020-06-24</td>\n    </tr>\n    <tr>\n      <th>4</th>\n      <td>2005.13466</td>\n      <td>(Social and Information Networks, Cryptography...</td>\n      <td>On the Detection of Disinformation Campaign Ac...</td>\n      <td>({'name': 'Luis Vargas'}, {'name': 'Patrick Em...</td>\n      <td>Online manipulation of information has become ...</td>\n      <td>2020-05-27</td>\n    </tr>\n  </tbody>\n</table>\n</div>"
     },
     "metadata": {},
     "execution_count": 14
    }
   ],
   "source": [
    "# Checking the result.\n",
    "df_data.head()"
   ]
  },
  {
   "cell_type": "code",
   "execution_count": 15,
   "metadata": {
    "tags": []
   },
   "outputs": [
    {
     "output_type": "stream",
     "name": "stdout",
     "text": "<class 'pandas.core.frame.DataFrame'>\nRangeIndex: 1000 entries, 0 to 999\nData columns (total 6 columns):\n #   Column            Non-Null Count  Dtype \n---  ------            --------------  ----- \n 0   id                1000 non-null   object\n 1   subject_areas     1000 non-null   object\n 2   title             1000 non-null   object\n 3   authors           1000 non-null   object\n 4   abstract          1000 non-null   object\n 5   publication_date  1000 non-null   object\ndtypes: object(6)\nmemory usage: 47.0+ KB\n"
    }
   ],
   "source": [
    "# Visualizing the information of dataset.\n",
    "df_data.info()"
   ]
  },
  {
   "cell_type": "markdown",
   "metadata": {},
   "source": [
    "## 3. Saving the dataframe"
   ]
  },
  {
   "cell_type": "code",
   "execution_count": 16,
   "metadata": {},
   "outputs": [],
   "source": [
    "# Exporting the data to CSV file.\n",
    "df_data.to_csv(\"../../data/prepared/arxiv_covid_19.csv\", index=False, quoting=csv.QUOTE_ALL)"
   ]
  }
 ],
 "metadata": {
  "kernelspec": {
   "display_name": "Python 3.6.8 64-bit ('estudos': conda)",
   "language": "python",
   "name": "python36864bitestudoscondaefdbdfb7fca04c4cbc7cf079ba261d35"
  },
  "language_info": {
   "codemirror_mode": {
    "name": "ipython",
    "version": 3
   },
   "file_extension": ".py",
   "mimetype": "text/x-python",
   "name": "python",
   "nbconvert_exporter": "python",
   "pygments_lexer": "ipython3",
   "version": "3.6.10-final"
  }
 },
 "nbformat": 4,
 "nbformat_minor": 2
}