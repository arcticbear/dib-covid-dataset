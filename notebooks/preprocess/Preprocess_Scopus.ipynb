{
 "cells": [
  {
   "cell_type": "markdown",
   "metadata": {},
   "source": [
    "# Cleaning and Preprocessing the Scopus publications related to COVID-19"
   ]
  },
  {
   "cell_type": "markdown",
   "metadata": {},
   "source": [
    "For collecting the Scopus publications related to COVID-19, we used the \"pybliometrics\" library. It is avaliable on [https://pypi.org/project/pybliometrics/]."
   ]
  },
  {
   "cell_type": "code",
   "execution_count": 1,
   "metadata": {},
   "outputs": [],
   "source": [
    "# Importing the required libraries.\n",
    "import re, csv, pandas as pd, numpy as np"
   ]
  },
  {
   "cell_type": "markdown",
   "metadata": {},
   "source": [
    "## 1. Generating the dataframe from the raw data"
   ]
  },
  {
   "cell_type": "code",
   "execution_count": 2,
   "metadata": {},
   "outputs": [],
   "source": [
    "# Creating a dataframe from the raw data.\n",
    "df_data = pd.read_csv(\"../../data/raw/scopus_raw.csv\", header=0,\n",
    "    dtype={\"id\": \"str\", \"eid\": \"str\", \"pii\": \"str\", \"pubmed_id\": \"str\"})"
   ]
  },
  {
   "cell_type": "code",
   "execution_count": 3,
   "metadata": {},
   "outputs": [
    {
     "output_type": "execute_result",
     "data": {
      "text/plain": "            id                            doi                 eid  \\\n0  85084625311  10.1080/16549716.2020.1760490  2-s2.0-85084625311   \n1  85084466053  10.1080/20008198.2020.1752504  2-s2.0-85084466053   \n2  85084248154  10.1080/13814788.2020.1757312  2-s2.0-85084248154   \n3  85082549986  10.1080/20964129.2020.1741325  2-s2.0-85082549986   \n4  85086878414      10.1016/j.ces.2020.115918  2-s2.0-85086878414   \n\n                 pii pubmed_id  \\\n0                NaN  32404043   \n1                NaN       NaN   \n2                NaN  32349550   \n3                NaN       NaN   \n4  S0009250920304504       NaN   \n\n                                               title  \\\n0  Eco-epidemiological assessment of the COVID-19...   \n1  Screening for consequences of trauma–an update...   \n2  Family medicine in times of ‘COVID-19’: A gene...   \n3  Regulating wildlife conservation and food safe...   \n4  Analogies between SARS-CoV-2 infection dynamic...   \n\n                                            abstract  \\\n0  © 2020, © 2020 The Author(s). Published by Inf...   \n1  © 2020, © 2020 The Author(s). Published by Inf...   \n2                                                NaN   \n3  © 2020, © 2020 The Author(s). Published by Tay...   \n4  © 2020 Elsevier LtdThe pandemic infection of S...   \n\n                                         description publication_date  \\\n0  © 2020, © 2020 The Author(s). Published by Inf...       2020-12-31   \n1  © 2020, © 2020 The Author(s). Published by Inf...       2020-12-31   \n2                                                NaN       2020-12-16   \n3  © 2020, © 2020 The Author(s). Published by Tay...       2020-12-16   \n4  © 2020 Elsevier LtdThe pandemic infection of S...       2020-12-14   \n\n   citation_num  ...                            vehicle_name vehicle_address  \\\n0           0.0  ...                    Global Health Action             NaN   \n1           0.0  ...  European Journal of Psychotraumatology             NaN   \n2           0.0  ...    European Journal of General Practice             NaN   \n3           4.0  ...     Ecosystem Health and Sustainability             NaN   \n4           0.0  ...            Chemical Engineering Science             NaN   \n\n  title_edition                publisher  \\\n0           NaN  Taylor and Francis Ltd.   \n1           NaN  Taylor and Francis Ltd.   \n2           NaN   Taylor and Francis Ltd   \n3           NaN  Taylor and Francis Ltd.   \n4           NaN             Elsevier Ltd   \n\n                                        affiliations  \\\n0  ({'id': '60031040', 'affiliation': 'Umeå Unive...   \n1  ({'id': '60030118', 'affiliation': \"The Childr...   \n2  ({'id': '60018869', 'affiliation': 'Maastricht...   \n3  ({'id': '60027363', 'affiliation': 'University...   \n4  ({'id': '60027245', 'affiliation': 'Universite...   \n\n                                       subject_areas  \\\n0  ('Health Policy', 'Public Health, Environmenta...   \n1                  ('Psychiatry and Mental Health',)   \n2                               ('Family Practice',)   \n3  ('Ecology, Evolution, Behavior and Systematics...   \n4  ('Chemistry (all)', 'Chemical Engineering (all...   \n\n                                             authors  \\\n0     ({'id': '7006527895', 'name': 'Peter Byass'},)   \n1  ({'id': '56230641000', 'name': 'Miranda Olff'}...   \n2  ({'id': '6507333381', 'name': 'An de Sutter'},...   \n3  ({'id': '57216083373', 'name': 'Jingjing Yuan'...   \n4  ({'id': '23470382500', 'name': 'F. Manenti'}, ...   \n\n                                        author_affil ref_count  \\\n0  ({'id': '7006527895', 'name': 'Peter Byass', '...      19.0   \n1  ({'id': '56230641000', 'name': 'Miranda Olff',...      31.0   \n2  ({'id': '6507333381', 'name': 'An de Sutter', ...       NaN   \n3  ({'id': '57216083373', 'name': 'Jingjing Yuan'...      17.0   \n4  ({'id': '23470382500', 'name': 'F. Manenti', '...      36.0   \n\n                                          references  \n0  ({'id': '85056407012', 'title': 'The calendar ...  \n1  ({'id': '85075168775', 'title': 'Trauma-relate...  \n2                                                NaN  \n3  ({'id': '85074624653', 'title': 'A New Twenty-...  \n4  ({'id': '85071770137', 'title': 'A dynamic neu...  \n\n[5 rows x 29 columns]",
      "text/html": "<div>\n<style scoped>\n    .dataframe tbody tr th:only-of-type {\n        vertical-align: middle;\n    }\n\n    .dataframe tbody tr th {\n        vertical-align: top;\n    }\n\n    .dataframe thead th {\n        text-align: right;\n    }\n</style>\n<table border=\"1\" class=\"dataframe\">\n  <thead>\n    <tr style=\"text-align: right;\">\n      <th></th>\n      <th>id</th>\n      <th>doi</th>\n      <th>eid</th>\n      <th>pii</th>\n      <th>pubmed_id</th>\n      <th>title</th>\n      <th>abstract</th>\n      <th>description</th>\n      <th>publication_date</th>\n      <th>citation_num</th>\n      <th>...</th>\n      <th>vehicle_name</th>\n      <th>vehicle_address</th>\n      <th>title_edition</th>\n      <th>publisher</th>\n      <th>affiliations</th>\n      <th>subject_areas</th>\n      <th>authors</th>\n      <th>author_affil</th>\n      <th>ref_count</th>\n      <th>references</th>\n    </tr>\n  </thead>\n  <tbody>\n    <tr>\n      <th>0</th>\n      <td>85084625311</td>\n      <td>10.1080/16549716.2020.1760490</td>\n      <td>2-s2.0-85084625311</td>\n      <td>NaN</td>\n      <td>32404043</td>\n      <td>Eco-epidemiological assessment of the COVID-19...</td>\n      <td>© 2020, © 2020 The Author(s). Published by Inf...</td>\n      <td>© 2020, © 2020 The Author(s). Published by Inf...</td>\n      <td>2020-12-31</td>\n      <td>0.0</td>\n      <td>...</td>\n      <td>Global Health Action</td>\n      <td>NaN</td>\n      <td>NaN</td>\n      <td>Taylor and Francis Ltd.</td>\n      <td>({'id': '60031040', 'affiliation': 'Umeå Unive...</td>\n      <td>('Health Policy', 'Public Health, Environmenta...</td>\n      <td>({'id': '7006527895', 'name': 'Peter Byass'},)</td>\n      <td>({'id': '7006527895', 'name': 'Peter Byass', '...</td>\n      <td>19.0</td>\n      <td>({'id': '85056407012', 'title': 'The calendar ...</td>\n    </tr>\n    <tr>\n      <th>1</th>\n      <td>85084466053</td>\n      <td>10.1080/20008198.2020.1752504</td>\n      <td>2-s2.0-85084466053</td>\n      <td>NaN</td>\n      <td>NaN</td>\n      <td>Screening for consequences of trauma–an update...</td>\n      <td>© 2020, © 2020 The Author(s). Published by Inf...</td>\n      <td>© 2020, © 2020 The Author(s). Published by Inf...</td>\n      <td>2020-12-31</td>\n      <td>0.0</td>\n      <td>...</td>\n      <td>European Journal of Psychotraumatology</td>\n      <td>NaN</td>\n      <td>NaN</td>\n      <td>Taylor and Francis Ltd.</td>\n      <td>({'id': '60030118', 'affiliation': \"The Childr...</td>\n      <td>('Psychiatry and Mental Health',)</td>\n      <td>({'id': '56230641000', 'name': 'Miranda Olff'}...</td>\n      <td>({'id': '56230641000', 'name': 'Miranda Olff',...</td>\n      <td>31.0</td>\n      <td>({'id': '85075168775', 'title': 'Trauma-relate...</td>\n    </tr>\n    <tr>\n      <th>2</th>\n      <td>85084248154</td>\n      <td>10.1080/13814788.2020.1757312</td>\n      <td>2-s2.0-85084248154</td>\n      <td>NaN</td>\n      <td>32349550</td>\n      <td>Family medicine in times of ‘COVID-19’: A gene...</td>\n      <td>NaN</td>\n      <td>NaN</td>\n      <td>2020-12-16</td>\n      <td>0.0</td>\n      <td>...</td>\n      <td>European Journal of General Practice</td>\n      <td>NaN</td>\n      <td>NaN</td>\n      <td>Taylor and Francis Ltd</td>\n      <td>({'id': '60018869', 'affiliation': 'Maastricht...</td>\n      <td>('Family Practice',)</td>\n      <td>({'id': '6507333381', 'name': 'An de Sutter'},...</td>\n      <td>({'id': '6507333381', 'name': 'An de Sutter', ...</td>\n      <td>NaN</td>\n      <td>NaN</td>\n    </tr>\n    <tr>\n      <th>3</th>\n      <td>85082549986</td>\n      <td>10.1080/20964129.2020.1741325</td>\n      <td>2-s2.0-85082549986</td>\n      <td>NaN</td>\n      <td>NaN</td>\n      <td>Regulating wildlife conservation and food safe...</td>\n      <td>© 2020, © 2020 The Author(s). Published by Tay...</td>\n      <td>© 2020, © 2020 The Author(s). Published by Tay...</td>\n      <td>2020-12-16</td>\n      <td>4.0</td>\n      <td>...</td>\n      <td>Ecosystem Health and Sustainability</td>\n      <td>NaN</td>\n      <td>NaN</td>\n      <td>Taylor and Francis Ltd.</td>\n      <td>({'id': '60027363', 'affiliation': 'University...</td>\n      <td>('Ecology, Evolution, Behavior and Systematics...</td>\n      <td>({'id': '57216083373', 'name': 'Jingjing Yuan'...</td>\n      <td>({'id': '57216083373', 'name': 'Jingjing Yuan'...</td>\n      <td>17.0</td>\n      <td>({'id': '85074624653', 'title': 'A New Twenty-...</td>\n    </tr>\n    <tr>\n      <th>4</th>\n      <td>85086878414</td>\n      <td>10.1016/j.ces.2020.115918</td>\n      <td>2-s2.0-85086878414</td>\n      <td>S0009250920304504</td>\n      <td>NaN</td>\n      <td>Analogies between SARS-CoV-2 infection dynamic...</td>\n      <td>© 2020 Elsevier LtdThe pandemic infection of S...</td>\n      <td>© 2020 Elsevier LtdThe pandemic infection of S...</td>\n      <td>2020-12-14</td>\n      <td>0.0</td>\n      <td>...</td>\n      <td>Chemical Engineering Science</td>\n      <td>NaN</td>\n      <td>NaN</td>\n      <td>Elsevier Ltd</td>\n      <td>({'id': '60027245', 'affiliation': 'Universite...</td>\n      <td>('Chemistry (all)', 'Chemical Engineering (all...</td>\n      <td>({'id': '23470382500', 'name': 'F. Manenti'}, ...</td>\n      <td>({'id': '23470382500', 'name': 'F. Manenti', '...</td>\n      <td>36.0</td>\n      <td>({'id': '85071770137', 'title': 'A dynamic neu...</td>\n    </tr>\n  </tbody>\n</table>\n<p>5 rows × 29 columns</p>\n</div>"
     },
     "metadata": {},
     "execution_count": 3
    }
   ],
   "source": [
    "# Checking the dataframe.\n",
    "df_data.head()"
   ]
  },
  {
   "cell_type": "code",
   "execution_count": 4,
   "metadata": {
    "tags": []
   },
   "outputs": [
    {
     "output_type": "stream",
     "name": "stdout",
     "text": "<class 'pandas.core.frame.DataFrame'>\nRangeIndex: 25030 entries, 0 to 25029\nData columns (total 29 columns):\n #   Column            Non-Null Count  Dtype  \n---  ------            --------------  -----  \n 0   id                25030 non-null  object \n 1   doi               24462 non-null  object \n 2   eid               25029 non-null  object \n 3   pii               8484 non-null   object \n 4   pubmed_id         17416 non-null  object \n 5   title             25029 non-null  object \n 6   abstract          12810 non-null  object \n 7   description       12810 non-null  object \n 8   publication_date  25029 non-null  object \n 9   citation_num      25029 non-null  float64\n 10  language          24886 non-null  object \n 11  production_type   25029 non-null  object \n 12  source_type       25029 non-null  object \n 13  auth_keywords     11935 non-null  object \n 14  index_terms       7548 non-null   object \n 15  issn              25006 non-null  object \n 16  isbn              26 non-null     object \n 17  conf_location     0 non-null      float64\n 18  conference_name   20 non-null     object \n 19  vehicle_name      25029 non-null  object \n 20  vehicle_address   0 non-null      float64\n 21  title_edition     21 non-null     object \n 22  publisher         25029 non-null  object \n 23  affiliations      22857 non-null  object \n 24  subject_areas     24975 non-null  object \n 25  authors           24636 non-null  object \n 26  author_affil      24685 non-null  object \n 27  ref_count         18771 non-null  float64\n 28  references        18768 non-null  object \ndtypes: float64(4), object(25)\nmemory usage: 5.5+ MB\n"
    }
   ],
   "source": [
    "# Visualizing the information of dataset.\n",
    "df_data.info()"
   ]
  },
  {
   "cell_type": "markdown",
   "metadata": {},
   "source": [
    "## 2. Cleaning and preprocessing the dataframe"
   ]
  },
  {
   "cell_type": "code",
   "execution_count": 5,
   "metadata": {},
   "outputs": [],
   "source": [
    "# Removing the invalid articles.\n",
    "df_data = df_data.loc[df_data.id.notnull() & df_data.eid.notnull()]"
   ]
  },
  {
   "cell_type": "code",
   "execution_count": 6,
   "metadata": {},
   "outputs": [],
   "source": [
    "# Defining the \"None\" value for the \"NaN\" values.\n",
    "df_data.replace({np.nan: None}, inplace=True)"
   ]
  },
  {
   "cell_type": "code",
   "execution_count": 7,
   "metadata": {},
   "outputs": [],
   "source": [
    "# Defining the \"zero\" value for the articles without numbers of citation and references.\n",
    "df_data.citation_num.loc[df_data.citation_num.isnull()] = 0\n",
    "df_data.ref_count.loc[df_data.ref_count.isnull()] = 0"
   ]
  },
  {
   "cell_type": "code",
   "execution_count": 8,
   "metadata": {},
   "outputs": [],
   "source": [
    "# Normalizing the feature \"abstract\".\n",
    "df_data.abstract.loc[df_data.abstract.isnull() & df_data.description.notnull()] = df_data.description.loc[\n",
    "    df_data.abstract.isnull() & df_data.description.notnull()]"
   ]
  },
  {
   "cell_type": "code",
   "execution_count": 9,
   "metadata": {},
   "outputs": [],
   "source": [
    "# Normalizing the feature \"vehicle_name\".\n",
    "df_data.vehicle_name.loc[df_data.conference_name.notnull() & df_data.vehicle_name.notnull()] = df_data.conference_name.loc[df_data.conference_name.notnull() & df_data.vehicle_name.notnull()]"
   ]
  },
  {
   "cell_type": "code",
   "execution_count": 10,
   "metadata": {},
   "outputs": [],
   "source": [
    "# Removing unnecessary columns.\n",
    "columns_drop = [\"eid\", \"pii\", \"description\", \"isbn\", \"conf_location\", \"conference_name\",\n",
    "    \"vehicle_address\", \"title_edition\"]\n",
    "df_data.drop(axis=1, columns=columns_drop, inplace=True)"
   ]
  },
  {
   "cell_type": "code",
   "execution_count": 11,
   "metadata": {},
   "outputs": [],
   "source": [
    "# Changing the type of features.\n",
    "df_data.loc[:, [\"citation_num\", \"ref_count\"]] = df_data.loc[\n",
    "    :, [\"citation_num\", \"ref_count\"]].astype(\"int\")\n",
    "df_data.auth_keywords.loc[df_data.auth_keywords.notnull()] = df_data.auth_keywords.loc[\n",
    "    df_data.auth_keywords.notnull()].apply(eval)\n",
    "df_data.index_terms.loc[df_data.index_terms.notnull()] = df_data.index_terms.loc[\n",
    "    df_data.index_terms.notnull()].apply(eval)\n",
    "df_data.affiliations.loc[df_data.affiliations.notnull()] = df_data.affiliations.loc[\n",
    "    df_data.affiliations.notnull()].apply(eval)\n",
    "df_data.subject_areas.loc[df_data.subject_areas.notnull()] = df_data.subject_areas.loc[\n",
    "    df_data.subject_areas.notnull()].apply(eval)\n",
    "df_data.authors.loc[df_data.authors.notnull()] = df_data.authors.loc[df_data.authors.notnull()].apply(eval)\n",
    "df_data.author_affil.loc[df_data.author_affil.notnull()] = df_data.author_affil.loc[\n",
    "    df_data.author_affil.notnull()].apply(eval)\n",
    "df_data.references.loc[df_data.references.notnull()] = df_data.references.loc[\n",
    "    df_data.references.notnull()].apply(eval)\n",
    "df_data.publication_date = pd.to_datetime(df_data.publication_date)"
   ]
  },
  {
   "cell_type": "code",
   "execution_count": 12,
   "metadata": {},
   "outputs": [],
   "source": [
    "# Normalizing the feature \"abstract\".\n",
    "df_data.abstract.loc[df_data.abstract.notnull()] = df_data.abstract.loc[df_data.abstract.notnull()].apply(\n",
    "    lambda x: x.replace(\"\\\\u0019\", \"\").replace(\"\\\\%\", \"%\").replace(\"\\\\s\", \"s\").strip())"
   ]
  },
  {
   "cell_type": "code",
   "execution_count": 13,
   "metadata": {},
   "outputs": [],
   "source": [
    "# Normalizing the itens contained in the features \"auth_keywords\" and \"index_terms\".\n",
    "df_data.auth_keywords.loc[df_data.auth_keywords.notnull()] = df_data.auth_keywords.loc[\n",
    "    df_data.auth_keywords.notnull()].apply(\n",
    "        lambda x: tuple([item.replace(\"\\ufeff\", \"\").strip() for item in x]))\n",
    "df_data.index_terms.loc[df_data.index_terms.notnull()] = df_data.index_terms.loc[\n",
    "    df_data.index_terms.notnull()].apply(\n",
    "        lambda x: tuple([item.replace(\"\\ufeff\", \"\").strip() for item in x]))"
   ]
  },
  {
   "cell_type": "code",
   "execution_count": 14,
   "metadata": {},
   "outputs": [],
   "source": [
    "# Normalizing the affiliations contained in the features \"affiliations\" and \"author_affil\".\n",
    "df_data.affiliations.loc[df_data.affiliations.notnull()] = df_data.affiliations.loc[\n",
    "    df_data.affiliations.notnull()].apply(lambda x: tuple(\n",
    "        [{\"id\": affil[\"id\"],\n",
    "          \"affiliation\": affil[\"affiliation\"].replace(\"\\u200b\", \"\").replace(\"\\u202f\", \"\").strip(),\n",
    "          \"country\": affil[\"country\"]}\n",
    "         for affil in x]))\n",
    "df_data.author_affil.loc[df_data.author_affil.notnull()] = df_data.author_affil.loc[\n",
    "    df_data.author_affil.notnull()].apply(lambda x: tuple(\n",
    "        [{\"id\": item[\"id\"], \"name\": item[\"name\"], \"affil_id\": item[\"affil_id\"],\n",
    "          \"affiliation\": item[\"affiliation\"].replace(\"\\u200b\", \"\").replace(\"\\u202f\", \"\").strip() \\\n",
    "              if item[\"affiliation\"] else None,\n",
    "          \"country\": item[\"country\"]}\n",
    "         for item in x]))"
   ]
  },
  {
   "cell_type": "code",
   "execution_count": 15,
   "metadata": {},
   "outputs": [
    {
     "output_type": "execute_result",
     "data": {
      "text/plain": "            id                            doi pubmed_id  \\\n0  85084625311  10.1080/16549716.2020.1760490  32404043   \n1  85084466053  10.1080/20008198.2020.1752504      None   \n2  85084248154  10.1080/13814788.2020.1757312  32349550   \n3  85082549986  10.1080/20964129.2020.1741325      None   \n4  85086878414      10.1016/j.ces.2020.115918      None   \n\n                                               title  \\\n0  Eco-epidemiological assessment of the COVID-19...   \n1  Screening for consequences of trauma–an update...   \n2  Family medicine in times of ‘COVID-19’: A gene...   \n3  Regulating wildlife conservation and food safe...   \n4  Analogies between SARS-CoV-2 infection dynamic...   \n\n                                            abstract publication_date  \\\n0  © 2020, © 2020 The Author(s). Published by Inf...       2020-12-31   \n1  © 2020, © 2020 The Author(s). Published by Inf...       2020-12-31   \n2                                               None       2020-12-16   \n3  © 2020, © 2020 The Author(s). Published by Tay...       2020-12-16   \n4  © 2020 Elsevier LtdThe pandemic infection of S...       2020-12-14   \n\n  citation_num language production_type source_type  ...  \\\n0            0      eng         Journal           j  ...   \n1            0      eng         Journal           j  ...   \n2            0      eng         Journal           j  ...   \n3            4      eng         Journal           j  ...   \n4            0      eng         Journal           j  ...   \n\n                                         index_terms               issn  \\\n0  (Betacoronavirus, China, Coronavirus, Coronavi...           16549880   \n1                                               None  20008066 20008198   \n2  (Adaptation, Psychological, Coronavirus Infect...  17511402 13814788   \n3                                               None  23328878 20964129   \n4                                               None           00092509   \n\n                             vehicle_name                publisher  \\\n0                    Global Health Action  Taylor and Francis Ltd.   \n1  European Journal of Psychotraumatology  Taylor and Francis Ltd.   \n2    European Journal of General Practice   Taylor and Francis Ltd   \n3     Ecosystem Health and Sustainability  Taylor and Francis Ltd.   \n4            Chemical Engineering Science             Elsevier Ltd   \n\n                                        affiliations  \\\n0  ({'id': '60031040', 'affiliation': 'Umeå Unive...   \n1  ({'id': '60030118', 'affiliation': 'The Childr...   \n2  ({'id': '60018869', 'affiliation': 'Maastricht...   \n3  ({'id': '60027363', 'affiliation': 'University...   \n4  ({'id': '60027245', 'affiliation': 'Universite...   \n\n                                       subject_areas  \\\n0  (Health Policy, Public Health, Environmental a...   \n1                    (Psychiatry and Mental Health,)   \n2                                 (Family Practice,)   \n3  (Ecology, Evolution, Behavior and Systematics,...   \n4  (Chemistry (all), Chemical Engineering (all), ...   \n\n                                             authors  \\\n0     ({'id': '7006527895', 'name': 'Peter Byass'},)   \n1  ({'id': '56230641000', 'name': 'Miranda Olff'}...   \n2  ({'id': '6507333381', 'name': 'An de Sutter'},...   \n3  ({'id': '57216083373', 'name': 'Jingjing Yuan'...   \n4  ({'id': '23470382500', 'name': 'F. Manenti'}, ...   \n\n                                        author_affil ref_count  \\\n0  ({'id': '7006527895', 'name': 'Peter Byass', '...        19   \n1  ({'id': '56230641000', 'name': 'Miranda Olff',...        31   \n2  ({'id': '6507333381', 'name': 'An de Sutter', ...         0   \n3  ({'id': '57216083373', 'name': 'Jingjing Yuan'...        17   \n4  ({'id': '23470382500', 'name': 'F. Manenti', '...        36   \n\n                                          references  \n0  ({'id': '85056407012', 'title': 'The calendar ...  \n1  ({'id': '85075168775', 'title': 'Trauma-relate...  \n2                                               None  \n3  ({'id': '85074624653', 'title': 'A New Twenty-...  \n4  ({'id': '85071770137', 'title': 'A dynamic neu...  \n\n[5 rows x 21 columns]",
      "text/html": "<div>\n<style scoped>\n    .dataframe tbody tr th:only-of-type {\n        vertical-align: middle;\n    }\n\n    .dataframe tbody tr th {\n        vertical-align: top;\n    }\n\n    .dataframe thead th {\n        text-align: right;\n    }\n</style>\n<table border=\"1\" class=\"dataframe\">\n  <thead>\n    <tr style=\"text-align: right;\">\n      <th></th>\n      <th>id</th>\n      <th>doi</th>\n      <th>pubmed_id</th>\n      <th>title</th>\n      <th>abstract</th>\n      <th>publication_date</th>\n      <th>citation_num</th>\n      <th>language</th>\n      <th>production_type</th>\n      <th>source_type</th>\n      <th>...</th>\n      <th>index_terms</th>\n      <th>issn</th>\n      <th>vehicle_name</th>\n      <th>publisher</th>\n      <th>affiliations</th>\n      <th>subject_areas</th>\n      <th>authors</th>\n      <th>author_affil</th>\n      <th>ref_count</th>\n      <th>references</th>\n    </tr>\n  </thead>\n  <tbody>\n    <tr>\n      <th>0</th>\n      <td>85084625311</td>\n      <td>10.1080/16549716.2020.1760490</td>\n      <td>32404043</td>\n      <td>Eco-epidemiological assessment of the COVID-19...</td>\n      <td>© 2020, © 2020 The Author(s). Published by Inf...</td>\n      <td>2020-12-31</td>\n      <td>0</td>\n      <td>eng</td>\n      <td>Journal</td>\n      <td>j</td>\n      <td>...</td>\n      <td>(Betacoronavirus, China, Coronavirus, Coronavi...</td>\n      <td>16549880</td>\n      <td>Global Health Action</td>\n      <td>Taylor and Francis Ltd.</td>\n      <td>({'id': '60031040', 'affiliation': 'Umeå Unive...</td>\n      <td>(Health Policy, Public Health, Environmental a...</td>\n      <td>({'id': '7006527895', 'name': 'Peter Byass'},)</td>\n      <td>({'id': '7006527895', 'name': 'Peter Byass', '...</td>\n      <td>19</td>\n      <td>({'id': '85056407012', 'title': 'The calendar ...</td>\n    </tr>\n    <tr>\n      <th>1</th>\n      <td>85084466053</td>\n      <td>10.1080/20008198.2020.1752504</td>\n      <td>None</td>\n      <td>Screening for consequences of trauma–an update...</td>\n      <td>© 2020, © 2020 The Author(s). Published by Inf...</td>\n      <td>2020-12-31</td>\n      <td>0</td>\n      <td>eng</td>\n      <td>Journal</td>\n      <td>j</td>\n      <td>...</td>\n      <td>None</td>\n      <td>20008066 20008198</td>\n      <td>European Journal of Psychotraumatology</td>\n      <td>Taylor and Francis Ltd.</td>\n      <td>({'id': '60030118', 'affiliation': 'The Childr...</td>\n      <td>(Psychiatry and Mental Health,)</td>\n      <td>({'id': '56230641000', 'name': 'Miranda Olff'}...</td>\n      <td>({'id': '56230641000', 'name': 'Miranda Olff',...</td>\n      <td>31</td>\n      <td>({'id': '85075168775', 'title': 'Trauma-relate...</td>\n    </tr>\n    <tr>\n      <th>2</th>\n      <td>85084248154</td>\n      <td>10.1080/13814788.2020.1757312</td>\n      <td>32349550</td>\n      <td>Family medicine in times of ‘COVID-19’: A gene...</td>\n      <td>None</td>\n      <td>2020-12-16</td>\n      <td>0</td>\n      <td>eng</td>\n      <td>Journal</td>\n      <td>j</td>\n      <td>...</td>\n      <td>(Adaptation, Psychological, Coronavirus Infect...</td>\n      <td>17511402 13814788</td>\n      <td>European Journal of General Practice</td>\n      <td>Taylor and Francis Ltd</td>\n      <td>({'id': '60018869', 'affiliation': 'Maastricht...</td>\n      <td>(Family Practice,)</td>\n      <td>({'id': '6507333381', 'name': 'An de Sutter'},...</td>\n      <td>({'id': '6507333381', 'name': 'An de Sutter', ...</td>\n      <td>0</td>\n      <td>None</td>\n    </tr>\n    <tr>\n      <th>3</th>\n      <td>85082549986</td>\n      <td>10.1080/20964129.2020.1741325</td>\n      <td>None</td>\n      <td>Regulating wildlife conservation and food safe...</td>\n      <td>© 2020, © 2020 The Author(s). Published by Tay...</td>\n      <td>2020-12-16</td>\n      <td>4</td>\n      <td>eng</td>\n      <td>Journal</td>\n      <td>j</td>\n      <td>...</td>\n      <td>None</td>\n      <td>23328878 20964129</td>\n      <td>Ecosystem Health and Sustainability</td>\n      <td>Taylor and Francis Ltd.</td>\n      <td>({'id': '60027363', 'affiliation': 'University...</td>\n      <td>(Ecology, Evolution, Behavior and Systematics,...</td>\n      <td>({'id': '57216083373', 'name': 'Jingjing Yuan'...</td>\n      <td>({'id': '57216083373', 'name': 'Jingjing Yuan'...</td>\n      <td>17</td>\n      <td>({'id': '85074624653', 'title': 'A New Twenty-...</td>\n    </tr>\n    <tr>\n      <th>4</th>\n      <td>85086878414</td>\n      <td>10.1016/j.ces.2020.115918</td>\n      <td>None</td>\n      <td>Analogies between SARS-CoV-2 infection dynamic...</td>\n      <td>© 2020 Elsevier LtdThe pandemic infection of S...</td>\n      <td>2020-12-14</td>\n      <td>0</td>\n      <td>eng</td>\n      <td>Journal</td>\n      <td>j</td>\n      <td>...</td>\n      <td>None</td>\n      <td>00092509</td>\n      <td>Chemical Engineering Science</td>\n      <td>Elsevier Ltd</td>\n      <td>({'id': '60027245', 'affiliation': 'Universite...</td>\n      <td>(Chemistry (all), Chemical Engineering (all), ...</td>\n      <td>({'id': '23470382500', 'name': 'F. Manenti'}, ...</td>\n      <td>({'id': '23470382500', 'name': 'F. Manenti', '...</td>\n      <td>36</td>\n      <td>({'id': '85071770137', 'title': 'A dynamic neu...</td>\n    </tr>\n  </tbody>\n</table>\n<p>5 rows × 21 columns</p>\n</div>"
     },
     "metadata": {},
     "execution_count": 15
    }
   ],
   "source": [
    "# Checking the result.\n",
    "df_data.head()"
   ]
  },
  {
   "cell_type": "code",
   "execution_count": 16,
   "metadata": {
    "tags": []
   },
   "outputs": [
    {
     "output_type": "stream",
     "name": "stdout",
     "text": "<class 'pandas.core.frame.DataFrame'>\nInt64Index: 25029 entries, 0 to 25029\nData columns (total 21 columns):\n #   Column            Non-Null Count  Dtype         \n---  ------            --------------  -----         \n 0   id                25029 non-null  object        \n 1   doi               24462 non-null  object        \n 2   pubmed_id         17416 non-null  object        \n 3   title             25029 non-null  object        \n 4   abstract          12810 non-null  object        \n 5   publication_date  25029 non-null  datetime64[ns]\n 6   citation_num      25029 non-null  object        \n 7   language          24886 non-null  object        \n 8   production_type   25029 non-null  object        \n 9   source_type       25029 non-null  object        \n 10  auth_keywords     11935 non-null  object        \n 11  index_terms       7548 non-null   object        \n 12  issn              25006 non-null  object        \n 13  vehicle_name      25029 non-null  object        \n 14  publisher         25029 non-null  object        \n 15  affiliations      22857 non-null  object        \n 16  subject_areas     24975 non-null  object        \n 17  authors           24636 non-null  object        \n 18  author_affil      24685 non-null  object        \n 19  ref_count         25029 non-null  object        \n 20  references        18768 non-null  object        \ndtypes: datetime64[ns](1), object(20)\nmemory usage: 4.2+ MB\n"
    }
   ],
   "source": [
    "# Visualizing the information of dataset.\n",
    "df_data.info()"
   ]
  },
  {
   "cell_type": "markdown",
   "metadata": {},
   "source": [
    "## 3. Saving the dataframe"
   ]
  },
  {
   "cell_type": "code",
   "execution_count": 17,
   "metadata": {},
   "outputs": [],
   "source": [
    "# Exporting the data to CSV file.\n",
    "df_data.to_csv(\"../../data/prepared/scopus_covid_19.csv\", index=False, quoting=csv.QUOTE_ALL)"
   ]
  }
 ],
 "metadata": {
  "kernelspec": {
   "display_name": "Python 3.6.8 64-bit ('estudos': conda)",
   "language": "python",
   "name": "python36864bitestudoscondaefdbdfb7fca04c4cbc7cf079ba261d35"
  },
  "language_info": {
   "codemirror_mode": {
    "name": "ipython",
    "version": 3
   },
   "file_extension": ".py",
   "mimetype": "text/x-python",
   "name": "python",
   "nbconvert_exporter": "python",
   "pygments_lexer": "ipython3",
   "version": "3.6.10-final"
  }
 },
 "nbformat": 4,
 "nbformat_minor": 2
}