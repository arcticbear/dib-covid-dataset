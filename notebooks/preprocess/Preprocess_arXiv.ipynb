{
 "cells": [
  {
   "cell_type": "markdown",
   "metadata": {},
   "source": [
    "# Cleaning and Preprocessing the arXiv publications related to COVID-19"
   ]
  },
  {
   "cell_type": "markdown",
   "metadata": {},
   "source": [
    "The publications' data were collected from [arXiv webpage](https://arxiv.org/covid19search) related to COVID-19."
   ]
  },
  {
   "cell_type": "code",
   "execution_count": 1,
   "metadata": {},
   "outputs": [],
   "source": [
    "# Uncomment to install the library.\n",
    "# %pip install pylatexenc"
   ]
  },
  {
   "cell_type": "code",
   "execution_count": 2,
   "metadata": {},
   "outputs": [],
   "source": [
    "# Importing the required libraries.\n",
    "import csv, re, pandas as pd, numpy as np\n",
    "from pylatexenc.latex2text import LatexNodes2Text\n",
    "from datetime import datetime"
   ]
  },
  {
   "cell_type": "markdown",
   "metadata": {},
   "source": [
    "## 1. Generating the dataframe from the raw data"
   ]
  },
  {
   "cell_type": "code",
   "execution_count": 3,
   "metadata": {},
   "outputs": [],
   "source": [
    "# Creating a dataframe from the raw data.\n",
    "df_data = pd.read_csv(\"../../data/raw/arxiv_raw.csv\", header=0)"
   ]
  },
  {
   "cell_type": "code",
   "execution_count": 4,
   "metadata": {},
   "outputs": [
    {
     "output_type": "execute_result",
     "data": {
      "text/plain": [
       "                 id                                      subject_areas  \\\n",
       "0  arXiv:2009.11008  ['Image and Video Processing', 'Computer Visio...   \n",
       "1  arXiv:2009.10931       ['Quantitative Methods', 'Machine Learning']   \n",
       "2  arXiv:2009.10808               ['Machine Learning', 'Applications']   \n",
       "3  arXiv:2009.10648  ['Social and Information Networks', 'Physics a...   \n",
       "4  arXiv:2009.10608  ['Image and Video Processing', 'Computer Visio...   \n",
       "\n",
       "                                               title  \\\n",
       "0  Attention with Multiple Sources Knowledges for...   \n",
       "1  Drug Repurposing for COVID-19 using Graph Neur...   \n",
       "2  Using Machine Learning to Develop a Novel COVI...   \n",
       "3  Google COVID-19 community mobility reports: in...   \n",
       "4  Dual Encoder Fusion U-Net (DEFU-Net) for Cross...   \n",
       "\n",
       "                                             authors  \\\n",
       "0  ['Duy M. H. Nguyen', 'Duy M. Nguyen', 'Huong V...   \n",
       "1  ['Kanglin Hsieh', 'Yinyin Wang', 'Luyao Chen',...   \n",
       "2  ['Anuj Tiwari', 'Arya V. Dadhania', 'Vijay Avi...   \n",
       "3  ['Gabriela Cavalcante da Silvaa', 'Sabrina Oli...   \n",
       "4  ['Lipei Zhang', 'Aozhi Liu', 'Jing Xiao', 'Pau...   \n",
       "\n",
       "                                            abstract  \\\n",
       "0  Until now, Coronavirus SARS-CoV-2 has caused m...   \n",
       "1  Amid the pandemic of 2019 novel coronavirus di...   \n",
       "2  COVID19 is now one of the most leading causes ...   \n",
       "3  Social distancing (SD) has been critical in th...   \n",
       "4  A number of methods based on the deep learning...   \n",
       "\n",
       "                                         date  \n",
       "0  23 September, 2020;        September 2020.  \n",
       "1  23 September, 2020;        September 2020.  \n",
       "2  22 September, 2020;        September 2020.  \n",
       "3  17 September, 2020;        September 2020.  \n",
       "4  11 September, 2020;        September 2020.  "
      ],
      "text/html": "<div>\n<style scoped>\n    .dataframe tbody tr th:only-of-type {\n        vertical-align: middle;\n    }\n\n    .dataframe tbody tr th {\n        vertical-align: top;\n    }\n\n    .dataframe thead th {\n        text-align: right;\n    }\n</style>\n<table border=\"1\" class=\"dataframe\">\n  <thead>\n    <tr style=\"text-align: right;\">\n      <th></th>\n      <th>id</th>\n      <th>subject_areas</th>\n      <th>title</th>\n      <th>authors</th>\n      <th>abstract</th>\n      <th>date</th>\n    </tr>\n  </thead>\n  <tbody>\n    <tr>\n      <th>0</th>\n      <td>arXiv:2009.11008</td>\n      <td>['Image and Video Processing', 'Computer Visio...</td>\n      <td>Attention with Multiple Sources Knowledges for...</td>\n      <td>['Duy M. H. Nguyen', 'Duy M. Nguyen', 'Huong V...</td>\n      <td>Until now, Coronavirus SARS-CoV-2 has caused m...</td>\n      <td>23 September, 2020;        September 2020.</td>\n    </tr>\n    <tr>\n      <th>1</th>\n      <td>arXiv:2009.10931</td>\n      <td>['Quantitative Methods', 'Machine Learning']</td>\n      <td>Drug Repurposing for COVID-19 using Graph Neur...</td>\n      <td>['Kanglin Hsieh', 'Yinyin Wang', 'Luyao Chen',...</td>\n      <td>Amid the pandemic of 2019 novel coronavirus di...</td>\n      <td>23 September, 2020;        September 2020.</td>\n    </tr>\n    <tr>\n      <th>2</th>\n      <td>arXiv:2009.10808</td>\n      <td>['Machine Learning', 'Applications']</td>\n      <td>Using Machine Learning to Develop a Novel COVI...</td>\n      <td>['Anuj Tiwari', 'Arya V. Dadhania', 'Vijay Avi...</td>\n      <td>COVID19 is now one of the most leading causes ...</td>\n      <td>22 September, 2020;        September 2020.</td>\n    </tr>\n    <tr>\n      <th>3</th>\n      <td>arXiv:2009.10648</td>\n      <td>['Social and Information Networks', 'Physics a...</td>\n      <td>Google COVID-19 community mobility reports: in...</td>\n      <td>['Gabriela Cavalcante da Silvaa', 'Sabrina Oli...</td>\n      <td>Social distancing (SD) has been critical in th...</td>\n      <td>17 September, 2020;        September 2020.</td>\n    </tr>\n    <tr>\n      <th>4</th>\n      <td>arXiv:2009.10608</td>\n      <td>['Image and Video Processing', 'Computer Visio...</td>\n      <td>Dual Encoder Fusion U-Net (DEFU-Net) for Cross...</td>\n      <td>['Lipei Zhang', 'Aozhi Liu', 'Jing Xiao', 'Pau...</td>\n      <td>A number of methods based on the deep learning...</td>\n      <td>11 September, 2020;        September 2020.</td>\n    </tr>\n  </tbody>\n</table>\n</div>"
     },
     "metadata": {},
     "execution_count": 4
    }
   ],
   "source": [
    "# Checking the dataframe.\n",
    "df_data.head()"
   ]
  },
  {
   "cell_type": "code",
   "execution_count": 5,
   "metadata": {
    "tags": []
   },
   "outputs": [
    {
     "output_type": "stream",
     "name": "stdout",
     "text": [
      "<class 'pandas.core.frame.DataFrame'>\nRangeIndex: 2335 entries, 0 to 2334\nData columns (total 6 columns):\n #   Column         Non-Null Count  Dtype \n---  ------         --------------  ----- \n 0   id             2335 non-null   object\n 1   subject_areas  2335 non-null   object\n 2   title          2335 non-null   object\n 3   authors        2335 non-null   object\n 4   abstract       2335 non-null   object\n 5   date           2335 non-null   object\ndtypes: object(6)\nmemory usage: 109.6+ KB\n"
     ]
    }
   ],
   "source": [
    "# Visualizing the information of dataset.\n",
    "df_data.info()"
   ]
  },
  {
   "cell_type": "markdown",
   "metadata": {},
   "source": [
    "## 2. Cleaning and preprocessing the dataframe"
   ]
  },
  {
   "cell_type": "code",
   "execution_count": 6,
   "metadata": {},
   "outputs": [],
   "source": [
    "# Defining the \"None\" value for the \"NaN\" values.\n",
    "df_data.replace({np.nan: None}, inplace=True)"
   ]
  },
  {
   "cell_type": "code",
   "execution_count": 7,
   "metadata": {},
   "outputs": [],
   "source": [
    "# Normalizing the feature \"id\".\n",
    "df_data.id = df_data.id.apply(lambda x: x.replace(\"arXiv:\", \"\").strip())"
   ]
  },
  {
   "cell_type": "code",
   "execution_count": 8,
   "metadata": {},
   "outputs": [],
   "source": [
    "# Normalizing the feature \"subject_areas\".\n",
    "df_data.subject_areas = df_data.subject_areas.apply(lambda x: tuple(eval(x)))"
   ]
  },
  {
   "cell_type": "code",
   "execution_count": 9,
   "metadata": {
    "tags": []
   },
   "outputs": [],
   "source": [
    "# Normalizing the features \"title\" and \"abstract\".\n",
    "df_data.loc[:, [\"title\", \"abstract\"]] = df_data.loc[:, [\"title\", \"abstract\"]].apply(\n",
    "    lambda x: x.apply(lambda y: re.sub(\"/r/\", \"\", re.sub(\"@PER@CENT@\", \"%\", re.sub(r\"[\\^_]\", \"\",\n",
    "        LatexNodes2Text().latex_to_text(re.sub(r\"\\s+\", \" \",\n",
    "            re.sub(r\"\\\\?%\", \"@PER@CENT@\", y))).strip())))))"
   ]
  },
  {
   "cell_type": "code",
   "execution_count": 10,
   "metadata": {},
   "outputs": [],
   "source": [
    "# Normalizing the feature \"authors\".\n",
    "df_data.authors = [tuple([{\"id\": str(hash(\"{} - {}\".format(author, \"arXiv\"))), \"name\": author}\n",
    "                    for author in eval(authors)]) for authors in df_data.authors]"
   ]
  },
  {
   "cell_type": "code",
   "execution_count": 11,
   "metadata": {},
   "outputs": [],
   "source": [
    "# Normalizing the feature \"date\".\n",
    "df_data.date = df_data.date.apply(lambda x: re.sub(r\"\\s+\", \" \", x.split(\".\")[0]))\n",
    "df_data.date = df_data.date.apply(lambda x: x.replace(\"submitted \", \"\"))"
   ]
  },
  {
   "cell_type": "code",
   "execution_count": 12,
   "metadata": {},
   "outputs": [],
   "source": [
    "# Creating the feature \"publication_date\" from the feature \"date\".\n",
    "df_data[\"publication_date\"] = df_data.date.apply(\n",
    "    lambda x: datetime.strptime(x.split(\";\")[0].strip(), \"%d %B, %Y\").date())"
   ]
  },
  {
   "cell_type": "code",
   "execution_count": 13,
   "metadata": {},
   "outputs": [],
   "source": [
    "# Removing unnecessary columns.\n",
    "df_data.drop(axis=1, columns=\"date\", inplace=True)"
   ]
  },
  {
   "cell_type": "code",
   "execution_count": 14,
   "metadata": {},
   "outputs": [
    {
     "output_type": "execute_result",
     "data": {
      "text/plain": [
       "           id                                      subject_areas  \\\n",
       "0  2009.11008  (Image and Video Processing, Computer Vision a...   \n",
       "1  2009.10931           (Quantitative Methods, Machine Learning)   \n",
       "2  2009.10808                   (Machine Learning, Applications)   \n",
       "3  2009.10648  (Social and Information Networks, Physics and ...   \n",
       "4  2009.10608  (Image and Video Processing, Computer Vision a...   \n",
       "\n",
       "                                               title  \\\n",
       "0  Attention with Multiple Sources Knowledges for...   \n",
       "1  Drug Repurposing for COVID-19 using Graph Neur...   \n",
       "2  Using Machine Learning to Develop a Novel COVI...   \n",
       "3  Google COVID-19 community mobility reports: in...   \n",
       "4  Dual Encoder Fusion U-Net (DEFU-Net) for Cross...   \n",
       "\n",
       "                                             authors  \\\n",
       "0  ({'id': '-3656862960144035448', 'name': 'Duy M...   \n",
       "1  ({'id': '-4571039949857585287', 'name': 'Kangl...   \n",
       "2  ({'id': '-1643832521739170778', 'name': 'Anuj ...   \n",
       "3  ({'id': '1593276023866582611', 'name': 'Gabrie...   \n",
       "4  ({'id': '-4095306500263987581', 'name': 'Lipei...   \n",
       "\n",
       "                                            abstract publication_date  \n",
       "0  Until now, Coronavirus SARS-CoV-2 has caused m...       2020-09-23  \n",
       "1  Amid the pandemic of 2019 novel coronavirus di...       2020-09-23  \n",
       "2  COVID19 is now one of the most leading causes ...       2020-09-22  \n",
       "3  Social distancing (SD) has been critical in th...       2020-09-17  \n",
       "4  A number of methods based on the deep learning...       2020-09-11  "
      ],
      "text/html": "<div>\n<style scoped>\n    .dataframe tbody tr th:only-of-type {\n        vertical-align: middle;\n    }\n\n    .dataframe tbody tr th {\n        vertical-align: top;\n    }\n\n    .dataframe thead th {\n        text-align: right;\n    }\n</style>\n<table border=\"1\" class=\"dataframe\">\n  <thead>\n    <tr style=\"text-align: right;\">\n      <th></th>\n      <th>id</th>\n      <th>subject_areas</th>\n      <th>title</th>\n      <th>authors</th>\n      <th>abstract</th>\n      <th>publication_date</th>\n    </tr>\n  </thead>\n  <tbody>\n    <tr>\n      <th>0</th>\n      <td>2009.11008</td>\n      <td>(Image and Video Processing, Computer Vision a...</td>\n      <td>Attention with Multiple Sources Knowledges for...</td>\n      <td>({'id': '-3656862960144035448', 'name': 'Duy M...</td>\n      <td>Until now, Coronavirus SARS-CoV-2 has caused m...</td>\n      <td>2020-09-23</td>\n    </tr>\n    <tr>\n      <th>1</th>\n      <td>2009.10931</td>\n      <td>(Quantitative Methods, Machine Learning)</td>\n      <td>Drug Repurposing for COVID-19 using Graph Neur...</td>\n      <td>({'id': '-4571039949857585287', 'name': 'Kangl...</td>\n      <td>Amid the pandemic of 2019 novel coronavirus di...</td>\n      <td>2020-09-23</td>\n    </tr>\n    <tr>\n      <th>2</th>\n      <td>2009.10808</td>\n      <td>(Machine Learning, Applications)</td>\n      <td>Using Machine Learning to Develop a Novel COVI...</td>\n      <td>({'id': '-1643832521739170778', 'name': 'Anuj ...</td>\n      <td>COVID19 is now one of the most leading causes ...</td>\n      <td>2020-09-22</td>\n    </tr>\n    <tr>\n      <th>3</th>\n      <td>2009.10648</td>\n      <td>(Social and Information Networks, Physics and ...</td>\n      <td>Google COVID-19 community mobility reports: in...</td>\n      <td>({'id': '1593276023866582611', 'name': 'Gabrie...</td>\n      <td>Social distancing (SD) has been critical in th...</td>\n      <td>2020-09-17</td>\n    </tr>\n    <tr>\n      <th>4</th>\n      <td>2009.10608</td>\n      <td>(Image and Video Processing, Computer Vision a...</td>\n      <td>Dual Encoder Fusion U-Net (DEFU-Net) for Cross...</td>\n      <td>({'id': '-4095306500263987581', 'name': 'Lipei...</td>\n      <td>A number of methods based on the deep learning...</td>\n      <td>2020-09-11</td>\n    </tr>\n  </tbody>\n</table>\n</div>"
     },
     "metadata": {},
     "execution_count": 14
    }
   ],
   "source": [
    "# Checking the result.\n",
    "df_data.head()"
   ]
  },
  {
   "cell_type": "code",
   "execution_count": 15,
   "metadata": {
    "tags": []
   },
   "outputs": [
    {
     "output_type": "stream",
     "name": "stdout",
     "text": [
      "<class 'pandas.core.frame.DataFrame'>\nRangeIndex: 2335 entries, 0 to 2334\nData columns (total 6 columns):\n #   Column            Non-Null Count  Dtype \n---  ------            --------------  ----- \n 0   id                2335 non-null   object\n 1   subject_areas     2335 non-null   object\n 2   title             2335 non-null   object\n 3   authors           2335 non-null   object\n 4   abstract          2335 non-null   object\n 5   publication_date  2335 non-null   object\ndtypes: object(6)\nmemory usage: 109.6+ KB\n"
     ]
    }
   ],
   "source": [
    "# Visualizing the information of dataset.\n",
    "df_data.info()"
   ]
  },
  {
   "cell_type": "markdown",
   "metadata": {},
   "source": [
    "## 3. Saving the dataframe"
   ]
  },
  {
   "cell_type": "code",
   "execution_count": 16,
   "metadata": {},
   "outputs": [],
   "source": [
    "# Exporting the data to CSV file.\n",
    "df_data.to_csv(\"../../data/prepared/arxiv_covid_19.csv\", index=False, quoting=csv.QUOTE_ALL)"
   ]
  }
 ],
 "metadata": {
  "kernelspec": {
   "name": "Python 3.8.5 64-bit ('estudos': conda)",
   "display_name": "Python 3.8.5 64-bit ('estudos': conda)",
   "metadata": {
    "interpreter": {
     "hash": "f36571e8ac200d0f57344c8319ea980e2f95eb6f7827d62a556f36e3662bc811"
    }
   }
  },
  "language_info": {
   "codemirror_mode": {
    "name": "ipython",
    "version": 3
   },
   "file_extension": ".py",
   "mimetype": "text/x-python",
   "name": "python",
   "nbconvert_exporter": "python",
   "pygments_lexer": "ipython3",
   "version": "3.8.5-final"
  }
 },
 "nbformat": 4,
 "nbformat_minor": 2
}