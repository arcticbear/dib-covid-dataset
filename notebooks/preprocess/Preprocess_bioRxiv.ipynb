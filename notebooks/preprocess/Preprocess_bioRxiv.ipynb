{
 "cells": [
  {
   "cell_type": "markdown",
   "metadata": {},
   "source": [
    "# Cleaning and Preprocessing the bioRxiv publications related to COVID-19"
   ]
  },
  {
   "cell_type": "markdown",
   "metadata": {},
   "source": [
    "The publications' data were collected from [bioRxiv webpage](https://connect.biorxiv.org/relate/content/181) related to COVID-19."
   ]
  },
  {
   "cell_type": "code",
   "execution_count": 1,
   "metadata": {},
   "outputs": [],
   "source": [
    "# Uncomment to install the library.\n",
    "# %pip install pylatexenc"
   ]
  },
  {
   "cell_type": "code",
   "execution_count": 2,
   "metadata": {},
   "outputs": [],
   "source": [
    "# Importing the required libraries.\n",
    "import csv, re, pandas as pd, numpy as np\n",
    "from pylatexenc.latex2text import LatexNodes2Text"
   ]
  },
  {
   "cell_type": "markdown",
   "metadata": {},
   "source": [
    "## 1. Generating the dataframe from the raw data"
   ]
  },
  {
   "cell_type": "code",
   "execution_count": 3,
   "metadata": {},
   "outputs": [],
   "source": [
    "# Creating a dataframe from the raw data.\n",
    "df_data = pd.read_csv(\"../../data/raw/biorxiv_raw.csv\", header=0)"
   ]
  },
  {
   "cell_type": "code",
   "execution_count": 4,
   "metadata": {},
   "outputs": [
    {
     "output_type": "execute_result",
     "data": {
      "text/plain": "                                           rel_title  \\\n0  Characteristics, outcome and predictors of in-...   \n1  A network-informed analysis of SARS-CoV-2 and ...   \n2  ROX Index Predicts Intubation in Patients with...   \n3  COVID-MATCH65 - A prospectively derived clinic...   \n4  Relative COVID-19 viral persistence and antibo...   \n\n                       rel_doi  \\\n0  10.1101/2020.06.30.20143701   \n1  10.1101/2020.07.01.20144121   \n2  10.1101/2020.06.30.20143867   \n3  10.1101/2020.06.30.20143818   \n4  10.1101/2020.07.01.20143917   \n\n                                            rel_link  \\\n0  http://medrxiv.org/cgi/content/short/2020.06.3...   \n1  http://medrxiv.org/cgi/content/short/2020.07.0...   \n2  http://medrxiv.org/cgi/content/short/2020.06.3...   \n3  http://medrxiv.org/cgi/content/short/2020.06.3...   \n4  http://medrxiv.org/cgi/content/short/2020.07.0...   \n\n                                             rel_abs  rel_num_authors  \\\n0  Since December 2019, coronavirus disease 2019 ...               23   \n1  Abnormal coagulation and an increased risk of ...               13   \n2  Introduction Use of high flow nasal therapy (H...               16   \n3  Due to the ongoing COVID-19 pandemic and incre...               17   \n4  Importance: The COVID-19 antibody response is ...                9   \n\n                                         rel_authors    rel_date rel_site  \n0  [{'author_name': 'ENRICO MARIA TRECARICHI', 'a...  2020-07-02  medrxiv  \n1  [{'author_name': 'Jun Ding', 'author_inst': 'C...  2020-07-02  medrxiv  \n2  [{'author_name': 'Maulin Patel', 'author_inst'...  2020-07-02  medrxiv  \n3  [{'author_name': 'Jason A Trubiano', 'author_i...  2020-07-02  medrxiv  \n4  [{'author_name': 'Chung-Guei Huang', 'author_i...  2020-07-02  medrxiv  ",
      "text/html": "<div>\n<style scoped>\n    .dataframe tbody tr th:only-of-type {\n        vertical-align: middle;\n    }\n\n    .dataframe tbody tr th {\n        vertical-align: top;\n    }\n\n    .dataframe thead th {\n        text-align: right;\n    }\n</style>\n<table border=\"1\" class=\"dataframe\">\n  <thead>\n    <tr style=\"text-align: right;\">\n      <th></th>\n      <th>rel_title</th>\n      <th>rel_doi</th>\n      <th>rel_link</th>\n      <th>rel_abs</th>\n      <th>rel_num_authors</th>\n      <th>rel_authors</th>\n      <th>rel_date</th>\n      <th>rel_site</th>\n    </tr>\n  </thead>\n  <tbody>\n    <tr>\n      <th>0</th>\n      <td>Characteristics, outcome and predictors of in-...</td>\n      <td>10.1101/2020.06.30.20143701</td>\n      <td>http://medrxiv.org/cgi/content/short/2020.06.3...</td>\n      <td>Since December 2019, coronavirus disease 2019 ...</td>\n      <td>23</td>\n      <td>[{'author_name': 'ENRICO MARIA TRECARICHI', 'a...</td>\n      <td>2020-07-02</td>\n      <td>medrxiv</td>\n    </tr>\n    <tr>\n      <th>1</th>\n      <td>A network-informed analysis of SARS-CoV-2 and ...</td>\n      <td>10.1101/2020.07.01.20144121</td>\n      <td>http://medrxiv.org/cgi/content/short/2020.07.0...</td>\n      <td>Abnormal coagulation and an increased risk of ...</td>\n      <td>13</td>\n      <td>[{'author_name': 'Jun Ding', 'author_inst': 'C...</td>\n      <td>2020-07-02</td>\n      <td>medrxiv</td>\n    </tr>\n    <tr>\n      <th>2</th>\n      <td>ROX Index Predicts Intubation in Patients with...</td>\n      <td>10.1101/2020.06.30.20143867</td>\n      <td>http://medrxiv.org/cgi/content/short/2020.06.3...</td>\n      <td>Introduction Use of high flow nasal therapy (H...</td>\n      <td>16</td>\n      <td>[{'author_name': 'Maulin Patel', 'author_inst'...</td>\n      <td>2020-07-02</td>\n      <td>medrxiv</td>\n    </tr>\n    <tr>\n      <th>3</th>\n      <td>COVID-MATCH65 - A prospectively derived clinic...</td>\n      <td>10.1101/2020.06.30.20143818</td>\n      <td>http://medrxiv.org/cgi/content/short/2020.06.3...</td>\n      <td>Due to the ongoing COVID-19 pandemic and incre...</td>\n      <td>17</td>\n      <td>[{'author_name': 'Jason A Trubiano', 'author_i...</td>\n      <td>2020-07-02</td>\n      <td>medrxiv</td>\n    </tr>\n    <tr>\n      <th>4</th>\n      <td>Relative COVID-19 viral persistence and antibo...</td>\n      <td>10.1101/2020.07.01.20143917</td>\n      <td>http://medrxiv.org/cgi/content/short/2020.07.0...</td>\n      <td>Importance: The COVID-19 antibody response is ...</td>\n      <td>9</td>\n      <td>[{'author_name': 'Chung-Guei Huang', 'author_i...</td>\n      <td>2020-07-02</td>\n      <td>medrxiv</td>\n    </tr>\n  </tbody>\n</table>\n</div>"
     },
     "metadata": {},
     "execution_count": 4
    }
   ],
   "source": [
    "# Checking the dataframe.\n",
    "df_data.head()"
   ]
  },
  {
   "cell_type": "code",
   "execution_count": 5,
   "metadata": {
    "tags": []
   },
   "outputs": [
    {
     "output_type": "stream",
     "name": "stdout",
     "text": "<class 'pandas.core.frame.DataFrame'>\nRangeIndex: 6020 entries, 0 to 6019\nData columns (total 8 columns):\n #   Column           Non-Null Count  Dtype \n---  ------           --------------  ----- \n 0   rel_title        6020 non-null   object\n 1   rel_doi          6020 non-null   object\n 2   rel_link         6020 non-null   object\n 3   rel_abs          6020 non-null   object\n 4   rel_num_authors  6020 non-null   int64 \n 5   rel_authors      6020 non-null   object\n 6   rel_date         6020 non-null   object\n 7   rel_site         6020 non-null   object\ndtypes: int64(1), object(7)\nmemory usage: 376.4+ KB\n"
    }
   ],
   "source": [
    "# Visualizing the information of dataset.\n",
    "df_data.info()"
   ]
  },
  {
   "cell_type": "markdown",
   "metadata": {},
   "source": [
    "## 2. Cleaning and preprocessing the dataframe"
   ]
  },
  {
   "cell_type": "code",
   "execution_count": 6,
   "metadata": {},
   "outputs": [],
   "source": [
    "# Removing unnecessary columns.\n",
    "df_data.drop(axis=1, columns=\"rel_num_authors\", inplace=True)"
   ]
  },
  {
   "cell_type": "code",
   "execution_count": 7,
   "metadata": {},
   "outputs": [],
   "source": [
    "# Renaming the columns.\n",
    "columns = {\"rel_title\": \"title\", \"rel_doi\": \"doi\", \"rel_link\": \"id\", \"rel_abs\": \"abstract\",\n",
    "    \"rel_authors\": \"author_affil\", \"rel_date\": \"publication_date\", \"rel_site\": \"source\"}\n",
    "df_data.rename(columns=columns, inplace=True)"
   ]
  },
  {
   "cell_type": "code",
   "execution_count": 8,
   "metadata": {},
   "outputs": [],
   "source": [
    "# Normalizing the feature \"id\".\n",
    "df_data.id = df_data.id.apply(lambda x: x.split(\"/\")[-1])"
   ]
  },
  {
   "cell_type": "code",
   "execution_count": 9,
   "metadata": {},
   "outputs": [],
   "source": [
    "# Normalizing the features \"title\" and \"abstract\".\n",
    "df_data.loc[:, [\"title\", \"abstract\"]] = df_data.loc[:, [\"title\", \"abstract\"]].apply(\n",
    "    lambda x: x.apply(lambda y: re.sub(\"/r/\", \"\", re.sub(\"@PER@CENT@\", \"%\", re.sub(r\"\\^\", \"\",\n",
    "        LatexNodes2Text().latex_to_text(re.sub(r\"\\s+\", \" \", re.sub(\"\\\\\\\\?%\", \"@PER@CENT@\",\n",
    "            re.sub(r\"\\\\href\\{(.+)\\}\\{(.+)\\}\", \"\\g<2> \\\\url{\\g<1>}\", y))).strip()))))))"
   ]
  },
  {
   "cell_type": "code",
   "execution_count": 10,
   "metadata": {},
   "outputs": [],
   "source": [
    "# Changing the type of feature \"author_affil\".\n",
    "df_data.author_affil = df_data.author_affil.apply(eval)"
   ]
  },
  {
   "cell_type": "code",
   "execution_count": 11,
   "metadata": {},
   "outputs": [],
   "source": [
    "# Normalizing the feature \"author_affil\".\n",
    "df_data.author_affil = [\n",
    "    [{\"name\": re.sub(r\"\\s+\", \" \", LatexNodes2Text().latex_to_text(\n",
    "                re.sub(r\"^\\\"(.+)\\\"$\", \"\\g<1>\", re.sub(\"^-\\s\", \"\", author[\"author_name\"])))),\n",
    "      \"affiliation\": re.sub(r\"\\s+\", \" \", LatexNodes2Text().latex_to_text(\n",
    "                        re.sub(r\"^\\\"(.+)\\\"$\", \"\\g<1>\", re.sub(\"Affiliation:\", \"\",\n",
    "                            re.sub(r\"[0-9]+\\.\\s\", \"\", author[\"author_inst\"]), flags=re.IGNORECASE))))}\n",
    "     for author in authors] if len(authors) > 0 else None for authors in df_data.author_affil]"
   ]
  },
  {
   "cell_type": "code",
   "execution_count": 12,
   "metadata": {},
   "outputs": [],
   "source": [
    "# Removing the invalid authors and affiliations.\n",
    "invalid_authors = [\"Revision Created\", \"Revision Converted\", \"Newly Submitted Revision\",\n",
    "                   \"Final Decision\"]\n",
    "for idx, authors in df_data.author_affil.iteritems():\n",
    "    if authors:\n",
    "        for author in list(authors):\n",
    "            if author[\"name\"].strip() in invalid_authors:\n",
    "                authors.remove(author)\n",
    "            elif not author[\"affiliation\"] or author[\"affiliation\"].lower().replace(\".\", \"\") == \"none\":\n",
    "                author[\"affiliation\"] = None\n",
    "        df_data.author_affil[idx] = tuple(authors)"
   ]
  },
  {
   "cell_type": "code",
   "execution_count": 13,
   "metadata": {},
   "outputs": [],
   "source": [
    "# Defining the \"None\" value for the \"NaN\" values.\n",
    "df_data.replace({np.nan: None, \"none\": None, \"none.\": None, \"None\": None}, inplace=True)"
   ]
  },
  {
   "cell_type": "code",
   "execution_count": 14,
   "metadata": {},
   "outputs": [
    {
     "output_type": "execute_result",
     "data": {
      "text/plain": "                                               title  \\\n0  Characteristics, outcome and predictors of in-...   \n1  A network-informed analysis of SARS-CoV-2 and ...   \n2  ROX Index Predicts Intubation in Patients with...   \n3  COVID-MATCH65 - A prospectively derived clinic...   \n4  Relative COVID-19 viral persistence and antibo...   \n\n                           doi                   id  \\\n0  10.1101/2020.06.30.20143701  2020.06.30.20143701   \n1  10.1101/2020.07.01.20144121  2020.07.01.20144121   \n2  10.1101/2020.06.30.20143867  2020.06.30.20143867   \n3  10.1101/2020.06.30.20143818  2020.06.30.20143818   \n4  10.1101/2020.07.01.20143917  2020.07.01.20143917   \n\n                                            abstract  \\\n0  Since December 2019, coronavirus disease 2019 ...   \n1  Abnormal coagulation and an increased risk of ...   \n2  Introduction Use of high flow nasal therapy (H...   \n3  Due to the ongoing COVID-19 pandemic and incre...   \n4  Importance: The COVID-19 antibody response is ...   \n\n                                        author_affil publication_date   source  \n0  ({'name': 'ENRICO MARIA TRECARICHI', 'affiliat...       2020-07-02  medrxiv  \n1  ({'name': 'Jun Ding', 'affiliation': 'Computat...       2020-07-02  medrxiv  \n2  ({'name': 'Maulin Patel', 'affiliation': 'Temp...       2020-07-02  medrxiv  \n3  ({'name': 'Jason A Trubiano', 'affiliation': '...       2020-07-02  medrxiv  \n4  ({'name': 'Chung-Guei Huang', 'affiliation': '...       2020-07-02  medrxiv  ",
      "text/html": "<div>\n<style scoped>\n    .dataframe tbody tr th:only-of-type {\n        vertical-align: middle;\n    }\n\n    .dataframe tbody tr th {\n        vertical-align: top;\n    }\n\n    .dataframe thead th {\n        text-align: right;\n    }\n</style>\n<table border=\"1\" class=\"dataframe\">\n  <thead>\n    <tr style=\"text-align: right;\">\n      <th></th>\n      <th>title</th>\n      <th>doi</th>\n      <th>id</th>\n      <th>abstract</th>\n      <th>author_affil</th>\n      <th>publication_date</th>\n      <th>source</th>\n    </tr>\n  </thead>\n  <tbody>\n    <tr>\n      <th>0</th>\n      <td>Characteristics, outcome and predictors of in-...</td>\n      <td>10.1101/2020.06.30.20143701</td>\n      <td>2020.06.30.20143701</td>\n      <td>Since December 2019, coronavirus disease 2019 ...</td>\n      <td>({'name': 'ENRICO MARIA TRECARICHI', 'affiliat...</td>\n      <td>2020-07-02</td>\n      <td>medrxiv</td>\n    </tr>\n    <tr>\n      <th>1</th>\n      <td>A network-informed analysis of SARS-CoV-2 and ...</td>\n      <td>10.1101/2020.07.01.20144121</td>\n      <td>2020.07.01.20144121</td>\n      <td>Abnormal coagulation and an increased risk of ...</td>\n      <td>({'name': 'Jun Ding', 'affiliation': 'Computat...</td>\n      <td>2020-07-02</td>\n      <td>medrxiv</td>\n    </tr>\n    <tr>\n      <th>2</th>\n      <td>ROX Index Predicts Intubation in Patients with...</td>\n      <td>10.1101/2020.06.30.20143867</td>\n      <td>2020.06.30.20143867</td>\n      <td>Introduction Use of high flow nasal therapy (H...</td>\n      <td>({'name': 'Maulin Patel', 'affiliation': 'Temp...</td>\n      <td>2020-07-02</td>\n      <td>medrxiv</td>\n    </tr>\n    <tr>\n      <th>3</th>\n      <td>COVID-MATCH65 - A prospectively derived clinic...</td>\n      <td>10.1101/2020.06.30.20143818</td>\n      <td>2020.06.30.20143818</td>\n      <td>Due to the ongoing COVID-19 pandemic and incre...</td>\n      <td>({'name': 'Jason A Trubiano', 'affiliation': '...</td>\n      <td>2020-07-02</td>\n      <td>medrxiv</td>\n    </tr>\n    <tr>\n      <th>4</th>\n      <td>Relative COVID-19 viral persistence and antibo...</td>\n      <td>10.1101/2020.07.01.20143917</td>\n      <td>2020.07.01.20143917</td>\n      <td>Importance: The COVID-19 antibody response is ...</td>\n      <td>({'name': 'Chung-Guei Huang', 'affiliation': '...</td>\n      <td>2020-07-02</td>\n      <td>medrxiv</td>\n    </tr>\n  </tbody>\n</table>\n</div>"
     },
     "metadata": {},
     "execution_count": 14
    }
   ],
   "source": [
    "# Checking the result.\n",
    "df_data.head()"
   ]
  },
  {
   "cell_type": "code",
   "execution_count": 15,
   "metadata": {
    "tags": []
   },
   "outputs": [
    {
     "output_type": "stream",
     "name": "stdout",
     "text": "<class 'pandas.core.frame.DataFrame'>\nRangeIndex: 6020 entries, 0 to 6019\nData columns (total 7 columns):\n #   Column            Non-Null Count  Dtype \n---  ------            --------------  ----- \n 0   title             6020 non-null   object\n 1   doi               6020 non-null   object\n 2   id                6020 non-null   object\n 3   abstract          6016 non-null   object\n 4   author_affil      5997 non-null   object\n 5   publication_date  6020 non-null   object\n 6   source            6020 non-null   object\ndtypes: object(7)\nmemory usage: 329.3+ KB\n"
    }
   ],
   "source": [
    "# Visualizing the information of dataset.\n",
    "df_data.info()"
   ]
  },
  {
   "cell_type": "markdown",
   "metadata": {},
   "source": [
    "## 3. Saving the dataframe"
   ]
  },
  {
   "cell_type": "code",
   "execution_count": 16,
   "metadata": {},
   "outputs": [],
   "source": [
    "# Exporting the data to CSV file.\n",
    "df_data.to_csv(\"../../data/prepared/biorxiv_covid_19.csv\", index=False, quoting=csv.QUOTE_ALL)"
   ]
  }
 ],
 "metadata": {
  "kernelspec": {
   "display_name": "Python 3.6.8 64-bit ('estudos': conda)",
   "language": "python",
   "name": "python36864bitestudoscondaefdbdfb7fca04c4cbc7cf079ba261d35"
  },
  "language_info": {
   "codemirror_mode": {
    "name": "ipython",
    "version": 3
   },
   "file_extension": ".py",
   "mimetype": "text/x-python",
   "name": "python",
   "nbconvert_exporter": "python",
   "pygments_lexer": "ipython3",
   "version": "3.6.10-final"
  }
 },
 "nbformat": 4,
 "nbformat_minor": 2
}