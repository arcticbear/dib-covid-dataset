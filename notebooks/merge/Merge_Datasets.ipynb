{
 "cells": [
  {
   "cell_type": "markdown",
   "metadata": {},
   "source": [
    "# Merging the datasets of publications related to COVID-19"
   ]
  },
  {
   "cell_type": "code",
   "execution_count": 1,
   "metadata": {},
   "outputs": [],
   "source": [
    "# Importing the required libraries.\n",
    "import csv, re, pandas as pd, numpy as np\n",
    "from string import punctuation"
   ]
  },
  {
   "cell_type": "markdown",
   "metadata": {},
   "source": [
    "## 1. Defining the required functions"
   ]
  },
  {
   "cell_type": "code",
   "execution_count": 2,
   "metadata": {},
   "outputs": [],
   "source": [
    "# Defining the function \"clean_title\".\n",
    "def clean_title(title):\n",
    "    if len(title) == 1 and title in punctuation:\n",
    "        return None\n",
    "    if title[0] in punctuation:\n",
    "        title = title[1:]\n",
    "    if title[-1] in punctuation:\n",
    "        title = title[:-1]\n",
    "    return re.sub(r\"\\s+\", \" \", title).lower()"
   ]
  },
  {
   "cell_type": "markdown",
   "metadata": {},
   "source": [
    "## 2. Getting and preprocessing the datasets"
   ]
  },
  {
   "cell_type": "markdown",
   "metadata": {},
   "source": [
    "### 2.1. arXiv"
   ]
  },
  {
   "cell_type": "code",
   "execution_count": 3,
   "metadata": {},
   "outputs": [],
   "source": [
    "# Getting the data.\n",
    "df_arxiv = pd.read_csv(\"../../data/prepared/arxiv_covid_19.csv\", header=0, dtype={\"id\": \"str\"})"
   ]
  },
  {
   "cell_type": "code",
   "execution_count": 4,
   "metadata": {},
   "outputs": [
    {
     "output_type": "execute_result",
     "data": {
      "text/plain": [
       "           id                                      subject_areas  \\\n",
       "0  2009.11008  ('Image and Video Processing', 'Computer Visio...   \n",
       "1  2009.10931       ('Quantitative Methods', 'Machine Learning')   \n",
       "2  2009.10808               ('Machine Learning', 'Applications')   \n",
       "3  2009.10648  ('Social and Information Networks', 'Physics a...   \n",
       "4  2009.10608  ('Image and Video Processing', 'Computer Visio...   \n",
       "\n",
       "                                               title  \\\n",
       "0  Attention with Multiple Sources Knowledges for...   \n",
       "1  Drug Repurposing for COVID-19 using Graph Neur...   \n",
       "2  Using Machine Learning to Develop a Novel COVI...   \n",
       "3  Google COVID-19 community mobility reports: in...   \n",
       "4  Dual Encoder Fusion U-Net (DEFU-Net) for Cross...   \n",
       "\n",
       "                                             authors  \\\n",
       "0  ({'id': '-3656862960144035448', 'name': 'Duy M...   \n",
       "1  ({'id': '-4571039949857585287', 'name': 'Kangl...   \n",
       "2  ({'id': '-1643832521739170778', 'name': 'Anuj ...   \n",
       "3  ({'id': '1593276023866582611', 'name': 'Gabrie...   \n",
       "4  ({'id': '-4095306500263987581', 'name': 'Lipei...   \n",
       "\n",
       "                                            abstract publication_date  \n",
       "0  Until now, Coronavirus SARS-CoV-2 has caused m...       2020-09-23  \n",
       "1  Amid the pandemic of 2019 novel coronavirus di...       2020-09-23  \n",
       "2  COVID19 is now one of the most leading causes ...       2020-09-22  \n",
       "3  Social distancing (SD) has been critical in th...       2020-09-17  \n",
       "4  A number of methods based on the deep learning...       2020-09-11  "
      ],
      "text/html": "<div>\n<style scoped>\n    .dataframe tbody tr th:only-of-type {\n        vertical-align: middle;\n    }\n\n    .dataframe tbody tr th {\n        vertical-align: top;\n    }\n\n    .dataframe thead th {\n        text-align: right;\n    }\n</style>\n<table border=\"1\" class=\"dataframe\">\n  <thead>\n    <tr style=\"text-align: right;\">\n      <th></th>\n      <th>id</th>\n      <th>subject_areas</th>\n      <th>title</th>\n      <th>authors</th>\n      <th>abstract</th>\n      <th>publication_date</th>\n    </tr>\n  </thead>\n  <tbody>\n    <tr>\n      <th>0</th>\n      <td>2009.11008</td>\n      <td>('Image and Video Processing', 'Computer Visio...</td>\n      <td>Attention with Multiple Sources Knowledges for...</td>\n      <td>({'id': '-3656862960144035448', 'name': 'Duy M...</td>\n      <td>Until now, Coronavirus SARS-CoV-2 has caused m...</td>\n      <td>2020-09-23</td>\n    </tr>\n    <tr>\n      <th>1</th>\n      <td>2009.10931</td>\n      <td>('Quantitative Methods', 'Machine Learning')</td>\n      <td>Drug Repurposing for COVID-19 using Graph Neur...</td>\n      <td>({'id': '-4571039949857585287', 'name': 'Kangl...</td>\n      <td>Amid the pandemic of 2019 novel coronavirus di...</td>\n      <td>2020-09-23</td>\n    </tr>\n    <tr>\n      <th>2</th>\n      <td>2009.10808</td>\n      <td>('Machine Learning', 'Applications')</td>\n      <td>Using Machine Learning to Develop a Novel COVI...</td>\n      <td>({'id': '-1643832521739170778', 'name': 'Anuj ...</td>\n      <td>COVID19 is now one of the most leading causes ...</td>\n      <td>2020-09-22</td>\n    </tr>\n    <tr>\n      <th>3</th>\n      <td>2009.10648</td>\n      <td>('Social and Information Networks', 'Physics a...</td>\n      <td>Google COVID-19 community mobility reports: in...</td>\n      <td>({'id': '1593276023866582611', 'name': 'Gabrie...</td>\n      <td>Social distancing (SD) has been critical in th...</td>\n      <td>2020-09-17</td>\n    </tr>\n    <tr>\n      <th>4</th>\n      <td>2009.10608</td>\n      <td>('Image and Video Processing', 'Computer Visio...</td>\n      <td>Dual Encoder Fusion U-Net (DEFU-Net) for Cross...</td>\n      <td>({'id': '-4095306500263987581', 'name': 'Lipei...</td>\n      <td>A number of methods based on the deep learning...</td>\n      <td>2020-09-11</td>\n    </tr>\n  </tbody>\n</table>\n</div>"
     },
     "metadata": {},
     "execution_count": 4
    }
   ],
   "source": [
    "# Checking the dataframe.\n",
    "df_arxiv.head()"
   ]
  },
  {
   "cell_type": "code",
   "execution_count": 5,
   "metadata": {
    "tags": []
   },
   "outputs": [
    {
     "output_type": "stream",
     "name": "stdout",
     "text": [
      "<class 'pandas.core.frame.DataFrame'>\nRangeIndex: 2335 entries, 0 to 2334\nData columns (total 6 columns):\n #   Column            Non-Null Count  Dtype \n---  ------            --------------  ----- \n 0   id                2335 non-null   object\n 1   subject_areas     2335 non-null   object\n 2   title             2335 non-null   object\n 3   authors           2335 non-null   object\n 4   abstract          2335 non-null   object\n 5   publication_date  2335 non-null   object\ndtypes: object(6)\nmemory usage: 109.6+ KB\n"
     ]
    }
   ],
   "source": [
    "# Visualizing the information of dataset.\n",
    "df_arxiv.info()"
   ]
  },
  {
   "cell_type": "code",
   "execution_count": 6,
   "metadata": {},
   "outputs": [],
   "source": [
    "# Defining the \"None\" value for the \"NaN\" values.\n",
    "df_arxiv.replace({np.nan: None}, inplace=True)"
   ]
  },
  {
   "cell_type": "code",
   "execution_count": 7,
   "metadata": {},
   "outputs": [],
   "source": [
    "# Changing the type of features.\n",
    "df_arxiv.loc[:, [\"subject_areas\", \"authors\"]] = df_arxiv.loc[:, [\"subject_areas\", \"authors\"]].apply(\n",
    "    lambda x: x.apply(eval))\n",
    "df_arxiv.publication_date = pd.to_datetime(df_arxiv.publication_date)"
   ]
  },
  {
   "cell_type": "code",
   "execution_count": 8,
   "metadata": {},
   "outputs": [],
   "source": [
    "# Defining the feature \"source\".\n",
    "df_arxiv[\"source\"] = \"arXiv\""
   ]
  },
  {
   "cell_type": "code",
   "execution_count": 9,
   "metadata": {},
   "outputs": [],
   "source": [
    "# Normalizing the feature \"title\".\n",
    "df_arxiv.title = df_arxiv.title.apply(clean_title)"
   ]
  },
  {
   "cell_type": "code",
   "execution_count": 10,
   "metadata": {},
   "outputs": [
    {
     "output_type": "execute_result",
     "data": {
      "text/plain": [
       "           id                                      subject_areas  \\\n",
       "0  2009.11008  (Image and Video Processing, Computer Vision a...   \n",
       "1  2009.10931           (Quantitative Methods, Machine Learning)   \n",
       "2  2009.10808                   (Machine Learning, Applications)   \n",
       "3  2009.10648  (Social and Information Networks, Physics and ...   \n",
       "4  2009.10608  (Image and Video Processing, Computer Vision a...   \n",
       "\n",
       "                                               title  \\\n",
       "0  attention with multiple sources knowledges for...   \n",
       "1  drug repurposing for covid-19 using graph neur...   \n",
       "2  using machine learning to develop a novel covi...   \n",
       "3  google covid-19 community mobility reports: in...   \n",
       "4  dual encoder fusion u-net (defu-net) for cross...   \n",
       "\n",
       "                                             authors  \\\n",
       "0  ({'id': '-3656862960144035448', 'name': 'Duy M...   \n",
       "1  ({'id': '-4571039949857585287', 'name': 'Kangl...   \n",
       "2  ({'id': '-1643832521739170778', 'name': 'Anuj ...   \n",
       "3  ({'id': '1593276023866582611', 'name': 'Gabrie...   \n",
       "4  ({'id': '-4095306500263987581', 'name': 'Lipei...   \n",
       "\n",
       "                                            abstract publication_date source  \n",
       "0  Until now, Coronavirus SARS-CoV-2 has caused m...       2020-09-23  arXiv  \n",
       "1  Amid the pandemic of 2019 novel coronavirus di...       2020-09-23  arXiv  \n",
       "2  COVID19 is now one of the most leading causes ...       2020-09-22  arXiv  \n",
       "3  Social distancing (SD) has been critical in th...       2020-09-17  arXiv  \n",
       "4  A number of methods based on the deep learning...       2020-09-11  arXiv  "
      ],
      "text/html": "<div>\n<style scoped>\n    .dataframe tbody tr th:only-of-type {\n        vertical-align: middle;\n    }\n\n    .dataframe tbody tr th {\n        vertical-align: top;\n    }\n\n    .dataframe thead th {\n        text-align: right;\n    }\n</style>\n<table border=\"1\" class=\"dataframe\">\n  <thead>\n    <tr style=\"text-align: right;\">\n      <th></th>\n      <th>id</th>\n      <th>subject_areas</th>\n      <th>title</th>\n      <th>authors</th>\n      <th>abstract</th>\n      <th>publication_date</th>\n      <th>source</th>\n    </tr>\n  </thead>\n  <tbody>\n    <tr>\n      <th>0</th>\n      <td>2009.11008</td>\n      <td>(Image and Video Processing, Computer Vision a...</td>\n      <td>attention with multiple sources knowledges for...</td>\n      <td>({'id': '-3656862960144035448', 'name': 'Duy M...</td>\n      <td>Until now, Coronavirus SARS-CoV-2 has caused m...</td>\n      <td>2020-09-23</td>\n      <td>arXiv</td>\n    </tr>\n    <tr>\n      <th>1</th>\n      <td>2009.10931</td>\n      <td>(Quantitative Methods, Machine Learning)</td>\n      <td>drug repurposing for covid-19 using graph neur...</td>\n      <td>({'id': '-4571039949857585287', 'name': 'Kangl...</td>\n      <td>Amid the pandemic of 2019 novel coronavirus di...</td>\n      <td>2020-09-23</td>\n      <td>arXiv</td>\n    </tr>\n    <tr>\n      <th>2</th>\n      <td>2009.10808</td>\n      <td>(Machine Learning, Applications)</td>\n      <td>using machine learning to develop a novel covi...</td>\n      <td>({'id': '-1643832521739170778', 'name': 'Anuj ...</td>\n      <td>COVID19 is now one of the most leading causes ...</td>\n      <td>2020-09-22</td>\n      <td>arXiv</td>\n    </tr>\n    <tr>\n      <th>3</th>\n      <td>2009.10648</td>\n      <td>(Social and Information Networks, Physics and ...</td>\n      <td>google covid-19 community mobility reports: in...</td>\n      <td>({'id': '1593276023866582611', 'name': 'Gabrie...</td>\n      <td>Social distancing (SD) has been critical in th...</td>\n      <td>2020-09-17</td>\n      <td>arXiv</td>\n    </tr>\n    <tr>\n      <th>4</th>\n      <td>2009.10608</td>\n      <td>(Image and Video Processing, Computer Vision a...</td>\n      <td>dual encoder fusion u-net (defu-net) for cross...</td>\n      <td>({'id': '-4095306500263987581', 'name': 'Lipei...</td>\n      <td>A number of methods based on the deep learning...</td>\n      <td>2020-09-11</td>\n      <td>arXiv</td>\n    </tr>\n  </tbody>\n</table>\n</div>"
     },
     "metadata": {},
     "execution_count": 10
    }
   ],
   "source": [
    "# Checking the result.\n",
    "df_arxiv.head()"
   ]
  },
  {
   "cell_type": "code",
   "execution_count": 11,
   "metadata": {
    "tags": []
   },
   "outputs": [
    {
     "output_type": "stream",
     "name": "stdout",
     "text": [
      "<class 'pandas.core.frame.DataFrame'>\nRangeIndex: 2335 entries, 0 to 2334\nData columns (total 7 columns):\n #   Column            Non-Null Count  Dtype         \n---  ------            --------------  -----         \n 0   id                2335 non-null   object        \n 1   subject_areas     2335 non-null   object        \n 2   title             2335 non-null   object        \n 3   authors           2335 non-null   object        \n 4   abstract          2335 non-null   object        \n 5   publication_date  2335 non-null   datetime64[ns]\n 6   source            2335 non-null   object        \ndtypes: datetime64[ns](1), object(6)\nmemory usage: 127.8+ KB\n"
     ]
    }
   ],
   "source": [
    "# Visualizing the information of dataset.\n",
    "df_arxiv.info()"
   ]
  },
  {
   "cell_type": "markdown",
   "metadata": {},
   "source": [
    "### 2.2. bioRxiv"
   ]
  },
  {
   "cell_type": "code",
   "execution_count": 12,
   "metadata": {},
   "outputs": [],
   "source": [
    "# Getting the data.\n",
    "df_biorxiv = pd.read_csv(\"../../data/prepared/biorxiv_covid_19.csv\", header=0, dtype={\"id\": \"str\"})"
   ]
  },
  {
   "cell_type": "code",
   "execution_count": 13,
   "metadata": {},
   "outputs": [
    {
     "output_type": "execute_result",
     "data": {
      "text/plain": [
       "                           doi  \\\n",
       "0  10.1101/2020.08.25.20181545   \n",
       "1    10.1101/2020.05.28.120709   \n",
       "2  10.1101/2020.04.16.20067884   \n",
       "3  10.1101/2020.06.04.20122812   \n",
       "4  10.1101/2020.07.11.20151308   \n",
       "\n",
       "                                               title publication_date  \\\n",
       "0  \"I walk around like my hands are covered in mu...       2020-08-31   \n",
       "1  \"Monoclonal-type\" plastic antibodies for SARS-...       2020-05-28   \n",
       "2  \"No test is better than a bad test\": Impact of...       2020-04-22   \n",
       "3  'Drawing on Wisdom to Cope with Adversity:' A ...       2020-06-07   \n",
       "4  'Trained immunity' from Mycobacterium spp. exp...       2020-07-14   \n",
       "\n",
       "    source                   id  \\\n",
       "0  medRxiv  2020.08.25.20181545   \n",
       "1  bioRxiv    2020.05.28.120709   \n",
       "2  medRxiv  2020.04.16.20067884   \n",
       "3  medRxiv  2020.06.04.20122812   \n",
       "4  medRxiv  2020.07.11.20151308   \n",
       "\n",
       "                                            abstract  \\\n",
       "0  Objectives: To investigate how and why Canadia...   \n",
       "1  Summary of the ideaOur idea is focused on the ...   \n",
       "2  Testing is viewed as a critical aspect of any ...   \n",
       "3  Background: Mental health has become one of th...   \n",
       "4  Protective variables for COVID-19 are unknown....   \n",
       "\n",
       "                                        author_affil  \\\n",
       "0  ({'id': '-4223852819809795845', 'name': 'Robyn...   \n",
       "1  ({'id': '4304627819863036756', 'name': 'France...   \n",
       "2  ({'id': '-1190320489506440084', 'name': 'Nicho...   \n",
       "3  ({'id': '6026351697434995649', 'name': 'Jose M...   \n",
       "4  ({'id': '-655212003565356990', 'name': 'Samer ...   \n",
       "\n",
       "                             subject_areas  \n",
       "0            ('public and global health',)  \n",
       "1                   ('synthetic biology',)  \n",
       "2                        ('epidemiology',)  \n",
       "3  ('psychiatry and clinical psychology',)  \n",
       "4                 ('infectious diseases',)  "
      ],
      "text/html": "<div>\n<style scoped>\n    .dataframe tbody tr th:only-of-type {\n        vertical-align: middle;\n    }\n\n    .dataframe tbody tr th {\n        vertical-align: top;\n    }\n\n    .dataframe thead th {\n        text-align: right;\n    }\n</style>\n<table border=\"1\" class=\"dataframe\">\n  <thead>\n    <tr style=\"text-align: right;\">\n      <th></th>\n      <th>doi</th>\n      <th>title</th>\n      <th>publication_date</th>\n      <th>source</th>\n      <th>id</th>\n      <th>abstract</th>\n      <th>author_affil</th>\n      <th>subject_areas</th>\n    </tr>\n  </thead>\n  <tbody>\n    <tr>\n      <th>0</th>\n      <td>10.1101/2020.08.25.20181545</td>\n      <td>\"I walk around like my hands are covered in mu...</td>\n      <td>2020-08-31</td>\n      <td>medRxiv</td>\n      <td>2020.08.25.20181545</td>\n      <td>Objectives: To investigate how and why Canadia...</td>\n      <td>({'id': '-4223852819809795845', 'name': 'Robyn...</td>\n      <td>('public and global health',)</td>\n    </tr>\n    <tr>\n      <th>1</th>\n      <td>10.1101/2020.05.28.120709</td>\n      <td>\"Monoclonal-type\" plastic antibodies for SARS-...</td>\n      <td>2020-05-28</td>\n      <td>bioRxiv</td>\n      <td>2020.05.28.120709</td>\n      <td>Summary of the ideaOur idea is focused on the ...</td>\n      <td>({'id': '4304627819863036756', 'name': 'France...</td>\n      <td>('synthetic biology',)</td>\n    </tr>\n    <tr>\n      <th>2</th>\n      <td>10.1101/2020.04.16.20067884</td>\n      <td>\"No test is better than a bad test\": Impact of...</td>\n      <td>2020-04-22</td>\n      <td>medRxiv</td>\n      <td>2020.04.16.20067884</td>\n      <td>Testing is viewed as a critical aspect of any ...</td>\n      <td>({'id': '-1190320489506440084', 'name': 'Nicho...</td>\n      <td>('epidemiology',)</td>\n    </tr>\n    <tr>\n      <th>3</th>\n      <td>10.1101/2020.06.04.20122812</td>\n      <td>'Drawing on Wisdom to Cope with Adversity:' A ...</td>\n      <td>2020-06-07</td>\n      <td>medRxiv</td>\n      <td>2020.06.04.20122812</td>\n      <td>Background: Mental health has become one of th...</td>\n      <td>({'id': '6026351697434995649', 'name': 'Jose M...</td>\n      <td>('psychiatry and clinical psychology',)</td>\n    </tr>\n    <tr>\n      <th>4</th>\n      <td>10.1101/2020.07.11.20151308</td>\n      <td>'Trained immunity' from Mycobacterium spp. exp...</td>\n      <td>2020-07-14</td>\n      <td>medRxiv</td>\n      <td>2020.07.11.20151308</td>\n      <td>Protective variables for COVID-19 are unknown....</td>\n      <td>({'id': '-655212003565356990', 'name': 'Samer ...</td>\n      <td>('infectious diseases',)</td>\n    </tr>\n  </tbody>\n</table>\n</div>"
     },
     "metadata": {},
     "execution_count": 13
    }
   ],
   "source": [
    "# Checking the dataframe.\n",
    "df_biorxiv.head()"
   ]
  },
  {
   "cell_type": "code",
   "execution_count": 14,
   "metadata": {
    "tags": []
   },
   "outputs": [
    {
     "output_type": "stream",
     "name": "stdout",
     "text": [
      "<class 'pandas.core.frame.DataFrame'>\nRangeIndex: 9027 entries, 0 to 9026\nData columns (total 8 columns):\n #   Column            Non-Null Count  Dtype \n---  ------            --------------  ----- \n 0   doi               9027 non-null   object\n 1   title             9027 non-null   object\n 2   publication_date  9027 non-null   object\n 3   source            9027 non-null   object\n 4   id                9027 non-null   object\n 5   abstract          9023 non-null   object\n 6   author_affil      9027 non-null   object\n 7   subject_areas     9027 non-null   object\ndtypes: object(8)\nmemory usage: 564.3+ KB\n"
     ]
    }
   ],
   "source": [
    "# Visualizing the information of dataset.\n",
    "df_biorxiv.info()"
   ]
  },
  {
   "cell_type": "code",
   "execution_count": 15,
   "metadata": {},
   "outputs": [],
   "source": [
    "# Defining the \"None\" value for the \"NaN\" values.\n",
    "df_biorxiv.replace({np.nan: None}, inplace=True)"
   ]
  },
  {
   "cell_type": "code",
   "execution_count": 16,
   "metadata": {},
   "outputs": [],
   "source": [
    "# Changing the type of features.\n",
    "df_biorxiv.author_affil.loc[df_biorxiv.author_affil.notnull()] = df_biorxiv.author_affil.loc[\n",
    "    df_biorxiv.author_affil.notnull()].apply(eval)\n",
    "df_biorxiv.subject_areas.loc[df_biorxiv.subject_areas.notnull()] = df_biorxiv.subject_areas.loc[\n",
    "    df_biorxiv.subject_areas.notnull()].apply(eval)\n",
    "df_biorxiv.publication_date = pd.to_datetime(df_biorxiv.publication_date)"
   ]
  },
  {
   "cell_type": "code",
   "execution_count": 17,
   "metadata": {},
   "outputs": [],
   "source": [
    "# Normalizing the feature \"title\".\n",
    "df_biorxiv.title = df_biorxiv.title.apply(clean_title)"
   ]
  },
  {
   "cell_type": "code",
   "execution_count": 18,
   "metadata": {},
   "outputs": [
    {
     "output_type": "execute_result",
     "data": {
      "text/plain": [
       "                           doi  \\\n",
       "0  10.1101/2020.08.25.20181545   \n",
       "1    10.1101/2020.05.28.120709   \n",
       "2  10.1101/2020.04.16.20067884   \n",
       "3  10.1101/2020.06.04.20122812   \n",
       "4  10.1101/2020.07.11.20151308   \n",
       "\n",
       "                                               title publication_date  \\\n",
       "0  i walk around like my hands are covered in mud...       2020-08-31   \n",
       "1  monoclonal-type\" plastic antibodies for sars-c...       2020-05-28   \n",
       "2  no test is better than a bad test\": impact of ...       2020-04-22   \n",
       "3  drawing on wisdom to cope with adversity:' a s...       2020-06-07   \n",
       "4  trained immunity' from mycobacterium spp. expo...       2020-07-14   \n",
       "\n",
       "    source                   id  \\\n",
       "0  medRxiv  2020.08.25.20181545   \n",
       "1  bioRxiv    2020.05.28.120709   \n",
       "2  medRxiv  2020.04.16.20067884   \n",
       "3  medRxiv  2020.06.04.20122812   \n",
       "4  medRxiv  2020.07.11.20151308   \n",
       "\n",
       "                                            abstract  \\\n",
       "0  Objectives: To investigate how and why Canadia...   \n",
       "1  Summary of the ideaOur idea is focused on the ...   \n",
       "2  Testing is viewed as a critical aspect of any ...   \n",
       "3  Background: Mental health has become one of th...   \n",
       "4  Protective variables for COVID-19 are unknown....   \n",
       "\n",
       "                                        author_affil  \\\n",
       "0  ({'id': '-4223852819809795845', 'name': 'Robyn...   \n",
       "1  ({'id': '4304627819863036756', 'name': 'France...   \n",
       "2  ({'id': '-1190320489506440084', 'name': 'Nicho...   \n",
       "3  ({'id': '6026351697434995649', 'name': 'Jose M...   \n",
       "4  ({'id': '-655212003565356990', 'name': 'Samer ...   \n",
       "\n",
       "                           subject_areas  \n",
       "0            (public and global health,)  \n",
       "1                   (synthetic biology,)  \n",
       "2                        (epidemiology,)  \n",
       "3  (psychiatry and clinical psychology,)  \n",
       "4                 (infectious diseases,)  "
      ],
      "text/html": "<div>\n<style scoped>\n    .dataframe tbody tr th:only-of-type {\n        vertical-align: middle;\n    }\n\n    .dataframe tbody tr th {\n        vertical-align: top;\n    }\n\n    .dataframe thead th {\n        text-align: right;\n    }\n</style>\n<table border=\"1\" class=\"dataframe\">\n  <thead>\n    <tr style=\"text-align: right;\">\n      <th></th>\n      <th>doi</th>\n      <th>title</th>\n      <th>publication_date</th>\n      <th>source</th>\n      <th>id</th>\n      <th>abstract</th>\n      <th>author_affil</th>\n      <th>subject_areas</th>\n    </tr>\n  </thead>\n  <tbody>\n    <tr>\n      <th>0</th>\n      <td>10.1101/2020.08.25.20181545</td>\n      <td>i walk around like my hands are covered in mud...</td>\n      <td>2020-08-31</td>\n      <td>medRxiv</td>\n      <td>2020.08.25.20181545</td>\n      <td>Objectives: To investigate how and why Canadia...</td>\n      <td>({'id': '-4223852819809795845', 'name': 'Robyn...</td>\n      <td>(public and global health,)</td>\n    </tr>\n    <tr>\n      <th>1</th>\n      <td>10.1101/2020.05.28.120709</td>\n      <td>monoclonal-type\" plastic antibodies for sars-c...</td>\n      <td>2020-05-28</td>\n      <td>bioRxiv</td>\n      <td>2020.05.28.120709</td>\n      <td>Summary of the ideaOur idea is focused on the ...</td>\n      <td>({'id': '4304627819863036756', 'name': 'France...</td>\n      <td>(synthetic biology,)</td>\n    </tr>\n    <tr>\n      <th>2</th>\n      <td>10.1101/2020.04.16.20067884</td>\n      <td>no test is better than a bad test\": impact of ...</td>\n      <td>2020-04-22</td>\n      <td>medRxiv</td>\n      <td>2020.04.16.20067884</td>\n      <td>Testing is viewed as a critical aspect of any ...</td>\n      <td>({'id': '-1190320489506440084', 'name': 'Nicho...</td>\n      <td>(epidemiology,)</td>\n    </tr>\n    <tr>\n      <th>3</th>\n      <td>10.1101/2020.06.04.20122812</td>\n      <td>drawing on wisdom to cope with adversity:' a s...</td>\n      <td>2020-06-07</td>\n      <td>medRxiv</td>\n      <td>2020.06.04.20122812</td>\n      <td>Background: Mental health has become one of th...</td>\n      <td>({'id': '6026351697434995649', 'name': 'Jose M...</td>\n      <td>(psychiatry and clinical psychology,)</td>\n    </tr>\n    <tr>\n      <th>4</th>\n      <td>10.1101/2020.07.11.20151308</td>\n      <td>trained immunity' from mycobacterium spp. expo...</td>\n      <td>2020-07-14</td>\n      <td>medRxiv</td>\n      <td>2020.07.11.20151308</td>\n      <td>Protective variables for COVID-19 are unknown....</td>\n      <td>({'id': '-655212003565356990', 'name': 'Samer ...</td>\n      <td>(infectious diseases,)</td>\n    </tr>\n  </tbody>\n</table>\n</div>"
     },
     "metadata": {},
     "execution_count": 18
    }
   ],
   "source": [
    "# Checking the dataframe.\n",
    "df_biorxiv.head()"
   ]
  },
  {
   "cell_type": "code",
   "execution_count": 19,
   "metadata": {
    "tags": []
   },
   "outputs": [
    {
     "output_type": "stream",
     "name": "stdout",
     "text": [
      "<class 'pandas.core.frame.DataFrame'>\nRangeIndex: 9027 entries, 0 to 9026\nData columns (total 8 columns):\n #   Column            Non-Null Count  Dtype         \n---  ------            --------------  -----         \n 0   doi               9027 non-null   object        \n 1   title             9027 non-null   object        \n 2   publication_date  9027 non-null   datetime64[ns]\n 3   source            9027 non-null   object        \n 4   id                9027 non-null   object        \n 5   abstract          9023 non-null   object        \n 6   author_affil      9027 non-null   object        \n 7   subject_areas     9027 non-null   object        \ndtypes: datetime64[ns](1), object(7)\nmemory usage: 564.3+ KB\n"
     ]
    }
   ],
   "source": [
    "# Visualizing the information of dataset.\n",
    "df_biorxiv.info()"
   ]
  },
  {
   "cell_type": "markdown",
   "metadata": {},
   "source": [
    "### 2.3. PubMed"
   ]
  },
  {
   "cell_type": "code",
   "execution_count": 20,
   "metadata": {},
   "outputs": [],
   "source": [
    "# Getting the data.\n",
    "df_pubmed = pd.read_csv(\"../../data/prepared/pubmed_covid_19.csv\", header=0, dtype={\"pubmed_id\": \"str\"})"
   ]
  },
  {
   "cell_type": "code",
   "execution_count": 21,
   "metadata": {},
   "outputs": [
    {
     "output_type": "execute_result",
     "data": {
      "text/plain": [
       "  pubmed_id                                              title  \\\n",
       "0  32966253  Post-COVID-19 management guidelines for orthod...   \n",
       "1  32966252  Orthodontics in the COVID-19 Era: The way forw...   \n",
       "2  32964105  Unintended consequences of COVID-19: Opportuni...   \n",
       "3  32965930                                         StatPearls   \n",
       "4  32963099                                                NaN   \n",
       "\n",
       "                                            abstract  \\\n",
       "0                                                NaN   \n",
       "1                                                NaN   \n",
       "2                                                NaN   \n",
       "3  Amidst the coronavirus 2019-nCoV (COVID-19) pa...   \n",
       "4  The membrane-anchored spike (S) protein of sev...   \n",
       "\n",
       "                                       auth_keywords  \\\n",
       "0                                                NaN   \n",
       "1                                                NaN   \n",
       "2  ('coronavirus infections', 'mechanical ventila...   \n",
       "3                                                NaN   \n",
       "4  ('S2 fusion peptide-containing domain', 'coron...   \n",
       "\n",
       "                                        vehicle_name publication_date  \\\n",
       "0             Journal of clinical orthodontics : JCO       2020-09-24   \n",
       "1             Journal of clinical orthodontics : JCO       2020-09-24   \n",
       "2  Canadian journal of respiratory therapy : CJRT...       2020-09-24   \n",
       "3                                                NaN             2020   \n",
       "4                                           mSystems       2020-09-24   \n",
       "\n",
       "                                        author_affil  \\\n",
       "0  ({'name': 'Jae Hyun Park', 'id': '491700415152...   \n",
       "1  ({'name': 'M Srirengalakshmi', 'id': '26238586...   \n",
       "2  ({'name': 'Patricia McClurg', 'id': '-28749460...   \n",
       "3  ({'name': 'Onyinyechukwu Okorji', 'id': '65138...   \n",
       "4  ({'name': 'Nishant Shekhar', 'id': '7707225331...   \n",
       "\n",
       "                         doi  \n",
       "0                        NaN  \n",
       "1                        NaN  \n",
       "2                        NaN  \n",
       "3                        NaN  \n",
       "4  10.1128/mSystems.00382-20  "
      ],
      "text/html": "<div>\n<style scoped>\n    .dataframe tbody tr th:only-of-type {\n        vertical-align: middle;\n    }\n\n    .dataframe tbody tr th {\n        vertical-align: top;\n    }\n\n    .dataframe thead th {\n        text-align: right;\n    }\n</style>\n<table border=\"1\" class=\"dataframe\">\n  <thead>\n    <tr style=\"text-align: right;\">\n      <th></th>\n      <th>pubmed_id</th>\n      <th>title</th>\n      <th>abstract</th>\n      <th>auth_keywords</th>\n      <th>vehicle_name</th>\n      <th>publication_date</th>\n      <th>author_affil</th>\n      <th>doi</th>\n    </tr>\n  </thead>\n  <tbody>\n    <tr>\n      <th>0</th>\n      <td>32966253</td>\n      <td>Post-COVID-19 management guidelines for orthod...</td>\n      <td>NaN</td>\n      <td>NaN</td>\n      <td>Journal of clinical orthodontics : JCO</td>\n      <td>2020-09-24</td>\n      <td>({'name': 'Jae Hyun Park', 'id': '491700415152...</td>\n      <td>NaN</td>\n    </tr>\n    <tr>\n      <th>1</th>\n      <td>32966252</td>\n      <td>Orthodontics in the COVID-19 Era: The way forw...</td>\n      <td>NaN</td>\n      <td>NaN</td>\n      <td>Journal of clinical orthodontics : JCO</td>\n      <td>2020-09-24</td>\n      <td>({'name': 'M Srirengalakshmi', 'id': '26238586...</td>\n      <td>NaN</td>\n    </tr>\n    <tr>\n      <th>2</th>\n      <td>32964105</td>\n      <td>Unintended consequences of COVID-19: Opportuni...</td>\n      <td>NaN</td>\n      <td>('coronavirus infections', 'mechanical ventila...</td>\n      <td>Canadian journal of respiratory therapy : CJRT...</td>\n      <td>2020-09-24</td>\n      <td>({'name': 'Patricia McClurg', 'id': '-28749460...</td>\n      <td>NaN</td>\n    </tr>\n    <tr>\n      <th>3</th>\n      <td>32965930</td>\n      <td>StatPearls</td>\n      <td>Amidst the coronavirus 2019-nCoV (COVID-19) pa...</td>\n      <td>NaN</td>\n      <td>NaN</td>\n      <td>2020</td>\n      <td>({'name': 'Onyinyechukwu Okorji', 'id': '65138...</td>\n      <td>NaN</td>\n    </tr>\n    <tr>\n      <th>4</th>\n      <td>32963099</td>\n      <td>NaN</td>\n      <td>The membrane-anchored spike (S) protein of sev...</td>\n      <td>('S2 fusion peptide-containing domain', 'coron...</td>\n      <td>mSystems</td>\n      <td>2020-09-24</td>\n      <td>({'name': 'Nishant Shekhar', 'id': '7707225331...</td>\n      <td>10.1128/mSystems.00382-20</td>\n    </tr>\n  </tbody>\n</table>\n</div>"
     },
     "metadata": {},
     "execution_count": 21
    }
   ],
   "source": [
    "# Checking the dataframe.\n",
    "df_pubmed.head()"
   ]
  },
  {
   "cell_type": "code",
   "execution_count": 22,
   "metadata": {
    "tags": []
   },
   "outputs": [
    {
     "output_type": "stream",
     "name": "stdout",
     "text": [
      "<class 'pandas.core.frame.DataFrame'>\nRangeIndex: 55503 entries, 0 to 55502\nData columns (total 8 columns):\n #   Column            Non-Null Count  Dtype \n---  ------            --------------  ----- \n 0   pubmed_id         55503 non-null  object\n 1   title             55407 non-null  object\n 2   abstract          32029 non-null  object\n 3   auth_keywords     28215 non-null  object\n 4   vehicle_name      55485 non-null  object\n 5   publication_date  55503 non-null  object\n 6   author_affil      54983 non-null  object\n 7   doi               54480 non-null  object\ndtypes: object(8)\nmemory usage: 3.4+ MB\n"
     ]
    }
   ],
   "source": [
    "# Visualizing the information of dataset.\n",
    "df_pubmed.info()"
   ]
  },
  {
   "cell_type": "code",
   "execution_count": 23,
   "metadata": {},
   "outputs": [],
   "source": [
    "# Defining the \"None\" value for the \"NaN\" values.\n",
    "df_pubmed.replace({np.nan: None}, inplace=True)"
   ]
  },
  {
   "cell_type": "code",
   "execution_count": 24,
   "metadata": {},
   "outputs": [],
   "source": [
    "# Changing the type of features.\n",
    "df_pubmed.auth_keywords.loc[df_pubmed.auth_keywords.notnull()] = df_pubmed.auth_keywords.loc[\n",
    "    df_pubmed.auth_keywords.notnull()].apply(eval)\n",
    "df_pubmed.author_affil.loc[df_pubmed.author_affil.notnull()] = df_pubmed.author_affil.loc[\n",
    "    df_pubmed.author_affil.notnull()].apply(eval)\n",
    "df_pubmed.publication_date = pd.to_datetime(df_pubmed.publication_date)"
   ]
  },
  {
   "cell_type": "code",
   "execution_count": 25,
   "metadata": {},
   "outputs": [],
   "source": [
    "# Defining the feature \"source\".\n",
    "df_pubmed[\"source\"] = \"PubMed\""
   ]
  },
  {
   "cell_type": "code",
   "execution_count": 26,
   "metadata": {},
   "outputs": [],
   "source": [
    "# Normalizing the feature \"title\".\n",
    "df_pubmed.title.loc[df_pubmed.title.notnull()] = df_pubmed.title.loc[\n",
    "    df_pubmed.title.notnull()].apply(clean_title)"
   ]
  },
  {
   "cell_type": "code",
   "execution_count": 27,
   "metadata": {},
   "outputs": [
    {
     "output_type": "execute_result",
     "data": {
      "text/plain": [
       "  pubmed_id                                              title  \\\n",
       "0  32966253  post-covid-19 management guidelines for orthod...   \n",
       "1  32966252  orthodontics in the covid-19 era: the way forw...   \n",
       "2  32964105  unintended consequences of covid-19: opportuni...   \n",
       "3  32965930                                         statpearls   \n",
       "4  32963099                                               None   \n",
       "\n",
       "                                            abstract  \\\n",
       "0                                               None   \n",
       "1                                               None   \n",
       "2                                               None   \n",
       "3  Amidst the coronavirus 2019-nCoV (COVID-19) pa...   \n",
       "4  The membrane-anchored spike (S) protein of sev...   \n",
       "\n",
       "                                       auth_keywords  \\\n",
       "0                                               None   \n",
       "1                                               None   \n",
       "2  (coronavirus infections, mechanical ventilator...   \n",
       "3                                               None   \n",
       "4  (S2 fusion peptide-containing domain, coronavi...   \n",
       "\n",
       "                                        vehicle_name publication_date  \\\n",
       "0             Journal of clinical orthodontics : JCO       2020-09-24   \n",
       "1             Journal of clinical orthodontics : JCO       2020-09-24   \n",
       "2  Canadian journal of respiratory therapy : CJRT...       2020-09-24   \n",
       "3                                               None       2020-01-01   \n",
       "4                                           mSystems       2020-09-24   \n",
       "\n",
       "                                        author_affil  \\\n",
       "0  ({'name': 'Jae Hyun Park', 'id': '491700415152...   \n",
       "1  ({'name': 'M Srirengalakshmi', 'id': '26238586...   \n",
       "2  ({'name': 'Patricia McClurg', 'id': '-28749460...   \n",
       "3  ({'name': 'Onyinyechukwu Okorji', 'id': '65138...   \n",
       "4  ({'name': 'Nishant Shekhar', 'id': '7707225331...   \n",
       "\n",
       "                         doi  source  \n",
       "0                       None  PubMed  \n",
       "1                       None  PubMed  \n",
       "2                       None  PubMed  \n",
       "3                       None  PubMed  \n",
       "4  10.1128/mSystems.00382-20  PubMed  "
      ],
      "text/html": "<div>\n<style scoped>\n    .dataframe tbody tr th:only-of-type {\n        vertical-align: middle;\n    }\n\n    .dataframe tbody tr th {\n        vertical-align: top;\n    }\n\n    .dataframe thead th {\n        text-align: right;\n    }\n</style>\n<table border=\"1\" class=\"dataframe\">\n  <thead>\n    <tr style=\"text-align: right;\">\n      <th></th>\n      <th>pubmed_id</th>\n      <th>title</th>\n      <th>abstract</th>\n      <th>auth_keywords</th>\n      <th>vehicle_name</th>\n      <th>publication_date</th>\n      <th>author_affil</th>\n      <th>doi</th>\n      <th>source</th>\n    </tr>\n  </thead>\n  <tbody>\n    <tr>\n      <th>0</th>\n      <td>32966253</td>\n      <td>post-covid-19 management guidelines for orthod...</td>\n      <td>None</td>\n      <td>None</td>\n      <td>Journal of clinical orthodontics : JCO</td>\n      <td>2020-09-24</td>\n      <td>({'name': 'Jae Hyun Park', 'id': '491700415152...</td>\n      <td>None</td>\n      <td>PubMed</td>\n    </tr>\n    <tr>\n      <th>1</th>\n      <td>32966252</td>\n      <td>orthodontics in the covid-19 era: the way forw...</td>\n      <td>None</td>\n      <td>None</td>\n      <td>Journal of clinical orthodontics : JCO</td>\n      <td>2020-09-24</td>\n      <td>({'name': 'M Srirengalakshmi', 'id': '26238586...</td>\n      <td>None</td>\n      <td>PubMed</td>\n    </tr>\n    <tr>\n      <th>2</th>\n      <td>32964105</td>\n      <td>unintended consequences of covid-19: opportuni...</td>\n      <td>None</td>\n      <td>(coronavirus infections, mechanical ventilator...</td>\n      <td>Canadian journal of respiratory therapy : CJRT...</td>\n      <td>2020-09-24</td>\n      <td>({'name': 'Patricia McClurg', 'id': '-28749460...</td>\n      <td>None</td>\n      <td>PubMed</td>\n    </tr>\n    <tr>\n      <th>3</th>\n      <td>32965930</td>\n      <td>statpearls</td>\n      <td>Amidst the coronavirus 2019-nCoV (COVID-19) pa...</td>\n      <td>None</td>\n      <td>None</td>\n      <td>2020-01-01</td>\n      <td>({'name': 'Onyinyechukwu Okorji', 'id': '65138...</td>\n      <td>None</td>\n      <td>PubMed</td>\n    </tr>\n    <tr>\n      <th>4</th>\n      <td>32963099</td>\n      <td>None</td>\n      <td>The membrane-anchored spike (S) protein of sev...</td>\n      <td>(S2 fusion peptide-containing domain, coronavi...</td>\n      <td>mSystems</td>\n      <td>2020-09-24</td>\n      <td>({'name': 'Nishant Shekhar', 'id': '7707225331...</td>\n      <td>10.1128/mSystems.00382-20</td>\n      <td>PubMed</td>\n    </tr>\n  </tbody>\n</table>\n</div>"
     },
     "metadata": {},
     "execution_count": 27
    }
   ],
   "source": [
    "# Checking the dataframe.\n",
    "df_pubmed.head()"
   ]
  },
  {
   "cell_type": "code",
   "execution_count": 28,
   "metadata": {
    "tags": []
   },
   "outputs": [
    {
     "output_type": "stream",
     "name": "stdout",
     "text": [
      "<class 'pandas.core.frame.DataFrame'>\nRangeIndex: 55503 entries, 0 to 55502\nData columns (total 9 columns):\n #   Column            Non-Null Count  Dtype         \n---  ------            --------------  -----         \n 0   pubmed_id         55503 non-null  object        \n 1   title             55405 non-null  object        \n 2   abstract          32029 non-null  object        \n 3   auth_keywords     28215 non-null  object        \n 4   vehicle_name      55485 non-null  object        \n 5   publication_date  55503 non-null  datetime64[ns]\n 6   author_affil      54983 non-null  object        \n 7   doi               54480 non-null  object        \n 8   source            55503 non-null  object        \ndtypes: datetime64[ns](1), object(8)\nmemory usage: 3.8+ MB\n"
     ]
    }
   ],
   "source": [
    "# Visualizing the information of dataset.\n",
    "df_pubmed.info()"
   ]
  },
  {
   "cell_type": "markdown",
   "metadata": {},
   "source": [
    "### 2.4. Scopus"
   ]
  },
  {
   "cell_type": "code",
   "execution_count": 29,
   "metadata": {},
   "outputs": [],
   "source": [
    "# Getting the data.\n",
    "df_scopus = pd.read_csv(\"../../data/prepared/scopus_covid_19.csv\", header=0,\n",
    "    dtype={\"id\": \"str\", \"eid\": \"str\", \"pii\": \"str\", \"pubmed_id\": \"str\"})"
   ]
  },
  {
   "cell_type": "code",
   "execution_count": 30,
   "metadata": {},
   "outputs": [
    {
     "output_type": "execute_result",
     "data": {
      "text/plain": [
       "            id  doi pubmed_id  \\\n",
       "0  85090092938  NaN       NaN   \n",
       "1  85090051630  NaN       NaN   \n",
       "2  85090760353  NaN       NaN   \n",
       "3  85082677914  NaN       NaN   \n",
       "4  85090891903  NaN       NaN   \n",
       "\n",
       "                                               title  \\\n",
       "0  12th International Conference on Intelligent N...   \n",
       "1  23rd International Conference on Network-Based...   \n",
       "2          Open educational resources in Canada 2020   \n",
       "3  Industry reacts to coronavirus outbreak: Nonwo...   \n",
       "4  Proceedings of the 6th International Conferenc...   \n",
       "\n",
       "                                            abstract publication_date  \\\n",
       "0  The proceedings contain 48 papers. The special...       2021-01-01   \n",
       "1  The proceedings contain 61 papers. The special...       2021-01-01   \n",
       "2  © 2020, Canadian Network for Innovation in Edu...       2020-12-01   \n",
       "3                                                NaN       2020-12-01   \n",
       "4  The proceedings contain 105 papers. The topics...       2020-09-14   \n",
       "\n",
       "   citation_num language        production_type source_type  ... index_terms  \\\n",
       "0             0      eng            Book Series           k  ...         NaN   \n",
       "1             0      eng            Book Series           k  ...         NaN   \n",
       "2             0      eng                Journal           j  ...         NaN   \n",
       "3             0      eng          Trade Journal           d  ...         NaN   \n",
       "4             0      eng  Conference Proceeding           p  ...         NaN   \n",
       "\n",
       "                issn                                       vehicle_name  \\\n",
       "0  21945365 21945357  12th International Conference on Intelligent N...   \n",
       "1  21945365 21945357  23rd International Conference on Network-Based...   \n",
       "2           14996685        Canadian Journal of Learning and Technology   \n",
       "3           01634429                                 Nonwovens Industry   \n",
       "4                NaN  6th International Conference on Engineering an...   \n",
       "\n",
       "                                      publisher  \\\n",
       "0                                      Springer   \n",
       "1                                      Springer   \n",
       "2  Canadian Network for Innovation in Education   \n",
       "3                      Rodman Publications Inc.   \n",
       "4           Association for Computing Machinery   \n",
       "\n",
       "                                        affiliations  \\\n",
       "0                                                NaN   \n",
       "1                                                NaN   \n",
       "2  ({'id': '60018510', 'affiliation': 'Athabasca ...   \n",
       "3                                                NaN   \n",
       "4                                                NaN   \n",
       "\n",
       "                                       subject_areas  \\\n",
       "0  ('Control and Systems Engineering', 'Computer ...   \n",
       "1  ('Control and Systems Engineering', 'Computer ...   \n",
       "2  ('Education', 'Computer Science Applications',...   \n",
       "3  ('Business and International Management', 'Mat...   \n",
       "4  ('Computer Networks and Communications', 'Comp...   \n",
       "\n",
       "                                           authors  \\\n",
       "0                                              NaN   \n",
       "1                                              NaN   \n",
       "2  ({'id': '6507436970', 'name': 'Rory McGreal'},)   \n",
       "3   ({'id': '57193877330', 'name': 'Tara Olivo'},)   \n",
       "4                                              NaN   \n",
       "\n",
       "                                        author_affil ref_count  \\\n",
       "0                                                NaN         0   \n",
       "1                                                NaN         0   \n",
       "2  ({'id': '6507436970', 'name': 'Rory McGreal', ...        25   \n",
       "3  ({'id': '57193877330', 'name': 'Tara Olivo', '...         0   \n",
       "4                                                NaN         0   \n",
       "\n",
       "                                          references  \n",
       "0                                                NaN  \n",
       "1                                                NaN  \n",
       "2  ({'id': '85090794360', 'title': None, 'doi': N...  \n",
       "3                                                NaN  \n",
       "4                                                NaN  \n",
       "\n",
       "[5 rows x 21 columns]"
      ],
      "text/html": "<div>\n<style scoped>\n    .dataframe tbody tr th:only-of-type {\n        vertical-align: middle;\n    }\n\n    .dataframe tbody tr th {\n        vertical-align: top;\n    }\n\n    .dataframe thead th {\n        text-align: right;\n    }\n</style>\n<table border=\"1\" class=\"dataframe\">\n  <thead>\n    <tr style=\"text-align: right;\">\n      <th></th>\n      <th>id</th>\n      <th>doi</th>\n      <th>pubmed_id</th>\n      <th>title</th>\n      <th>abstract</th>\n      <th>publication_date</th>\n      <th>citation_num</th>\n      <th>language</th>\n      <th>production_type</th>\n      <th>source_type</th>\n      <th>...</th>\n      <th>index_terms</th>\n      <th>issn</th>\n      <th>vehicle_name</th>\n      <th>publisher</th>\n      <th>affiliations</th>\n      <th>subject_areas</th>\n      <th>authors</th>\n      <th>author_affil</th>\n      <th>ref_count</th>\n      <th>references</th>\n    </tr>\n  </thead>\n  <tbody>\n    <tr>\n      <th>0</th>\n      <td>85090092938</td>\n      <td>NaN</td>\n      <td>NaN</td>\n      <td>12th International Conference on Intelligent N...</td>\n      <td>The proceedings contain 48 papers. The special...</td>\n      <td>2021-01-01</td>\n      <td>0</td>\n      <td>eng</td>\n      <td>Book Series</td>\n      <td>k</td>\n      <td>...</td>\n      <td>NaN</td>\n      <td>21945365 21945357</td>\n      <td>12th International Conference on Intelligent N...</td>\n      <td>Springer</td>\n      <td>NaN</td>\n      <td>('Control and Systems Engineering', 'Computer ...</td>\n      <td>NaN</td>\n      <td>NaN</td>\n      <td>0</td>\n      <td>NaN</td>\n    </tr>\n    <tr>\n      <th>1</th>\n      <td>85090051630</td>\n      <td>NaN</td>\n      <td>NaN</td>\n      <td>23rd International Conference on Network-Based...</td>\n      <td>The proceedings contain 61 papers. The special...</td>\n      <td>2021-01-01</td>\n      <td>0</td>\n      <td>eng</td>\n      <td>Book Series</td>\n      <td>k</td>\n      <td>...</td>\n      <td>NaN</td>\n      <td>21945365 21945357</td>\n      <td>23rd International Conference on Network-Based...</td>\n      <td>Springer</td>\n      <td>NaN</td>\n      <td>('Control and Systems Engineering', 'Computer ...</td>\n      <td>NaN</td>\n      <td>NaN</td>\n      <td>0</td>\n      <td>NaN</td>\n    </tr>\n    <tr>\n      <th>2</th>\n      <td>85090760353</td>\n      <td>NaN</td>\n      <td>NaN</td>\n      <td>Open educational resources in Canada 2020</td>\n      <td>© 2020, Canadian Network for Innovation in Edu...</td>\n      <td>2020-12-01</td>\n      <td>0</td>\n      <td>eng</td>\n      <td>Journal</td>\n      <td>j</td>\n      <td>...</td>\n      <td>NaN</td>\n      <td>14996685</td>\n      <td>Canadian Journal of Learning and Technology</td>\n      <td>Canadian Network for Innovation in Education</td>\n      <td>({'id': '60018510', 'affiliation': 'Athabasca ...</td>\n      <td>('Education', 'Computer Science Applications',...</td>\n      <td>({'id': '6507436970', 'name': 'Rory McGreal'},)</td>\n      <td>({'id': '6507436970', 'name': 'Rory McGreal', ...</td>\n      <td>25</td>\n      <td>({'id': '85090794360', 'title': None, 'doi': N...</td>\n    </tr>\n    <tr>\n      <th>3</th>\n      <td>85082677914</td>\n      <td>NaN</td>\n      <td>NaN</td>\n      <td>Industry reacts to coronavirus outbreak: Nonwo...</td>\n      <td>NaN</td>\n      <td>2020-12-01</td>\n      <td>0</td>\n      <td>eng</td>\n      <td>Trade Journal</td>\n      <td>d</td>\n      <td>...</td>\n      <td>NaN</td>\n      <td>01634429</td>\n      <td>Nonwovens Industry</td>\n      <td>Rodman Publications Inc.</td>\n      <td>NaN</td>\n      <td>('Business and International Management', 'Mat...</td>\n      <td>({'id': '57193877330', 'name': 'Tara Olivo'},)</td>\n      <td>({'id': '57193877330', 'name': 'Tara Olivo', '...</td>\n      <td>0</td>\n      <td>NaN</td>\n    </tr>\n    <tr>\n      <th>4</th>\n      <td>85090891903</td>\n      <td>NaN</td>\n      <td>NaN</td>\n      <td>Proceedings of the 6th International Conferenc...</td>\n      <td>The proceedings contain 105 papers. The topics...</td>\n      <td>2020-09-14</td>\n      <td>0</td>\n      <td>eng</td>\n      <td>Conference Proceeding</td>\n      <td>p</td>\n      <td>...</td>\n      <td>NaN</td>\n      <td>NaN</td>\n      <td>6th International Conference on Engineering an...</td>\n      <td>Association for Computing Machinery</td>\n      <td>NaN</td>\n      <td>('Computer Networks and Communications', 'Comp...</td>\n      <td>NaN</td>\n      <td>NaN</td>\n      <td>0</td>\n      <td>NaN</td>\n    </tr>\n  </tbody>\n</table>\n<p>5 rows × 21 columns</p>\n</div>"
     },
     "metadata": {},
     "execution_count": 30
    }
   ],
   "source": [
    "# Checking the dataframe.\n",
    "df_scopus.head()"
   ]
  },
  {
   "cell_type": "code",
   "execution_count": 31,
   "metadata": {
    "tags": []
   },
   "outputs": [
    {
     "output_type": "stream",
     "name": "stdout",
     "text": [
      "<class 'pandas.core.frame.DataFrame'>\nRangeIndex: 53266 entries, 0 to 53265\nData columns (total 21 columns):\n #   Column            Non-Null Count  Dtype \n---  ------            --------------  ----- \n 0   id                53266 non-null  object\n 1   doi               51734 non-null  object\n 2   pubmed_id         35006 non-null  object\n 3   title             53266 non-null  object\n 4   abstract          30189 non-null  object\n 5   publication_date  53266 non-null  object\n 6   citation_num      53266 non-null  int64 \n 7   language          52982 non-null  object\n 8   production_type   53266 non-null  object\n 9   source_type       53266 non-null  object\n 10  auth_keywords     28011 non-null  object\n 11  index_terms       23975 non-null  object\n 12  issn              53176 non-null  object\n 13  vehicle_name      53266 non-null  object\n 14  publisher         53262 non-null  object\n 15  affiliations      49380 non-null  object\n 16  subject_areas     53203 non-null  object\n 17  authors           52412 non-null  object\n 18  author_affil      52445 non-null  object\n 19  ref_count         53266 non-null  int64 \n 20  references        44564 non-null  object\ndtypes: int64(2), object(19)\nmemory usage: 8.5+ MB\n"
     ]
    }
   ],
   "source": [
    "# Visualizing the information of dataset.\n",
    "df_scopus.info()"
   ]
  },
  {
   "cell_type": "code",
   "execution_count": 32,
   "metadata": {},
   "outputs": [],
   "source": [
    "# Defining the \"None\" value for the \"NaN\" values.\n",
    "df_scopus.replace({np.nan: None}, inplace=True)"
   ]
  },
  {
   "cell_type": "code",
   "execution_count": 33,
   "metadata": {},
   "outputs": [],
   "source": [
    "# Changing the type of features.\n",
    "df_scopus.auth_keywords.loc[df_scopus.auth_keywords.notnull()] = df_scopus.auth_keywords.loc[\n",
    "    df_scopus.auth_keywords.notnull()].apply(eval)\n",
    "df_scopus.index_terms.loc[df_scopus.index_terms.notnull()] = df_scopus.index_terms.loc[\n",
    "    df_scopus.index_terms.notnull()].apply(eval)\n",
    "df_scopus.affiliations.loc[df_scopus.affiliations.notnull()] = df_scopus.affiliations.loc[\n",
    "    df_scopus.affiliations.notnull()].apply(eval)\n",
    "df_scopus.subject_areas.loc[df_scopus.subject_areas.notnull()] = df_scopus.subject_areas.loc[\n",
    "    df_scopus.subject_areas.notnull()].apply(eval)\n",
    "df_scopus.authors.loc[df_scopus.authors.notnull()] = df_scopus.authors.loc[\n",
    "    df_scopus.authors.notnull()].apply(eval)\n",
    "df_scopus.author_affil.loc[df_scopus.author_affil.notnull()] = df_scopus.author_affil.loc[\n",
    "    df_scopus.author_affil.notnull()].apply(eval)\n",
    "df_scopus.references.loc[df_scopus.references.notnull()] = df_scopus.references.loc[\n",
    "    df_scopus.references.notnull()].apply(eval)\n",
    "df_scopus.publication_date = pd.to_datetime(df_scopus.publication_date)"
   ]
  },
  {
   "cell_type": "code",
   "execution_count": 34,
   "metadata": {},
   "outputs": [],
   "source": [
    "# Defining the feature \"source\".\n",
    "df_scopus[\"source\"] = \"Scopus\""
   ]
  },
  {
   "cell_type": "code",
   "execution_count": 35,
   "metadata": {},
   "outputs": [],
   "source": [
    "# Normalizing the feature \"title\".\n",
    "df_scopus.title = df_scopus.title.apply(clean_title)"
   ]
  },
  {
   "cell_type": "code",
   "execution_count": 36,
   "metadata": {},
   "outputs": [
    {
     "output_type": "execute_result",
     "data": {
      "text/plain": [
       "            id   doi pubmed_id  \\\n",
       "0  85090092938  None      None   \n",
       "1  85090051630  None      None   \n",
       "2  85090760353  None      None   \n",
       "3  85082677914  None      None   \n",
       "4  85090891903  None      None   \n",
       "\n",
       "                                               title  \\\n",
       "0  12th international conference on intelligent n...   \n",
       "1  23rd international conference on network-based...   \n",
       "2          open educational resources in canada 2020   \n",
       "3  industry reacts to coronavirus outbreak: nonwo...   \n",
       "4  proceedings of the 6th international conferenc...   \n",
       "\n",
       "                                            abstract publication_date  \\\n",
       "0  The proceedings contain 48 papers. The special...       2021-01-01   \n",
       "1  The proceedings contain 61 papers. The special...       2021-01-01   \n",
       "2  © 2020, Canadian Network for Innovation in Edu...       2020-12-01   \n",
       "3                                               None       2020-12-01   \n",
       "4  The proceedings contain 105 papers. The topics...       2020-09-14   \n",
       "\n",
       "   citation_num language        production_type source_type  ...  \\\n",
       "0             0      eng            Book Series           k  ...   \n",
       "1             0      eng            Book Series           k  ...   \n",
       "2             0      eng                Journal           j  ...   \n",
       "3             0      eng          Trade Journal           d  ...   \n",
       "4             0      eng  Conference Proceeding           p  ...   \n",
       "\n",
       "                issn                                       vehicle_name  \\\n",
       "0  21945365 21945357  12th International Conference on Intelligent N...   \n",
       "1  21945365 21945357  23rd International Conference on Network-Based...   \n",
       "2           14996685        Canadian Journal of Learning and Technology   \n",
       "3           01634429                                 Nonwovens Industry   \n",
       "4               None  6th International Conference on Engineering an...   \n",
       "\n",
       "                                      publisher  \\\n",
       "0                                      Springer   \n",
       "1                                      Springer   \n",
       "2  Canadian Network for Innovation in Education   \n",
       "3                      Rodman Publications Inc.   \n",
       "4           Association for Computing Machinery   \n",
       "\n",
       "                                        affiliations  \\\n",
       "0                                               None   \n",
       "1                                               None   \n",
       "2  ({'id': '60018510', 'affiliation': 'Athabasca ...   \n",
       "3                                               None   \n",
       "4                                               None   \n",
       "\n",
       "                                       subject_areas  \\\n",
       "0  (Control and Systems Engineering, Computer Sci...   \n",
       "1  (Control and Systems Engineering, Computer Sci...   \n",
       "2  (Education, Computer Science Applications, Man...   \n",
       "3  (Business and International Management, Materi...   \n",
       "4  (Computer Networks and Communications, Compute...   \n",
       "\n",
       "                                           authors  \\\n",
       "0                                             None   \n",
       "1                                             None   \n",
       "2  ({'id': '6507436970', 'name': 'Rory McGreal'},)   \n",
       "3   ({'id': '57193877330', 'name': 'Tara Olivo'},)   \n",
       "4                                             None   \n",
       "\n",
       "                                        author_affil ref_count  \\\n",
       "0                                               None         0   \n",
       "1                                               None         0   \n",
       "2  ({'id': '6507436970', 'name': 'Rory McGreal', ...        25   \n",
       "3  ({'id': '57193877330', 'name': 'Tara Olivo', '...         0   \n",
       "4                                               None         0   \n",
       "\n",
       "                                          references  source  \n",
       "0                                               None  Scopus  \n",
       "1                                               None  Scopus  \n",
       "2  ({'id': '85090794360', 'title': None, 'doi': N...  Scopus  \n",
       "3                                               None  Scopus  \n",
       "4                                               None  Scopus  \n",
       "\n",
       "[5 rows x 22 columns]"
      ],
      "text/html": "<div>\n<style scoped>\n    .dataframe tbody tr th:only-of-type {\n        vertical-align: middle;\n    }\n\n    .dataframe tbody tr th {\n        vertical-align: top;\n    }\n\n    .dataframe thead th {\n        text-align: right;\n    }\n</style>\n<table border=\"1\" class=\"dataframe\">\n  <thead>\n    <tr style=\"text-align: right;\">\n      <th></th>\n      <th>id</th>\n      <th>doi</th>\n      <th>pubmed_id</th>\n      <th>title</th>\n      <th>abstract</th>\n      <th>publication_date</th>\n      <th>citation_num</th>\n      <th>language</th>\n      <th>production_type</th>\n      <th>source_type</th>\n      <th>...</th>\n      <th>issn</th>\n      <th>vehicle_name</th>\n      <th>publisher</th>\n      <th>affiliations</th>\n      <th>subject_areas</th>\n      <th>authors</th>\n      <th>author_affil</th>\n      <th>ref_count</th>\n      <th>references</th>\n      <th>source</th>\n    </tr>\n  </thead>\n  <tbody>\n    <tr>\n      <th>0</th>\n      <td>85090092938</td>\n      <td>None</td>\n      <td>None</td>\n      <td>12th international conference on intelligent n...</td>\n      <td>The proceedings contain 48 papers. The special...</td>\n      <td>2021-01-01</td>\n      <td>0</td>\n      <td>eng</td>\n      <td>Book Series</td>\n      <td>k</td>\n      <td>...</td>\n      <td>21945365 21945357</td>\n      <td>12th International Conference on Intelligent N...</td>\n      <td>Springer</td>\n      <td>None</td>\n      <td>(Control and Systems Engineering, Computer Sci...</td>\n      <td>None</td>\n      <td>None</td>\n      <td>0</td>\n      <td>None</td>\n      <td>Scopus</td>\n    </tr>\n    <tr>\n      <th>1</th>\n      <td>85090051630</td>\n      <td>None</td>\n      <td>None</td>\n      <td>23rd international conference on network-based...</td>\n      <td>The proceedings contain 61 papers. The special...</td>\n      <td>2021-01-01</td>\n      <td>0</td>\n      <td>eng</td>\n      <td>Book Series</td>\n      <td>k</td>\n      <td>...</td>\n      <td>21945365 21945357</td>\n      <td>23rd International Conference on Network-Based...</td>\n      <td>Springer</td>\n      <td>None</td>\n      <td>(Control and Systems Engineering, Computer Sci...</td>\n      <td>None</td>\n      <td>None</td>\n      <td>0</td>\n      <td>None</td>\n      <td>Scopus</td>\n    </tr>\n    <tr>\n      <th>2</th>\n      <td>85090760353</td>\n      <td>None</td>\n      <td>None</td>\n      <td>open educational resources in canada 2020</td>\n      <td>© 2020, Canadian Network for Innovation in Edu...</td>\n      <td>2020-12-01</td>\n      <td>0</td>\n      <td>eng</td>\n      <td>Journal</td>\n      <td>j</td>\n      <td>...</td>\n      <td>14996685</td>\n      <td>Canadian Journal of Learning and Technology</td>\n      <td>Canadian Network for Innovation in Education</td>\n      <td>({'id': '60018510', 'affiliation': 'Athabasca ...</td>\n      <td>(Education, Computer Science Applications, Man...</td>\n      <td>({'id': '6507436970', 'name': 'Rory McGreal'},)</td>\n      <td>({'id': '6507436970', 'name': 'Rory McGreal', ...</td>\n      <td>25</td>\n      <td>({'id': '85090794360', 'title': None, 'doi': N...</td>\n      <td>Scopus</td>\n    </tr>\n    <tr>\n      <th>3</th>\n      <td>85082677914</td>\n      <td>None</td>\n      <td>None</td>\n      <td>industry reacts to coronavirus outbreak: nonwo...</td>\n      <td>None</td>\n      <td>2020-12-01</td>\n      <td>0</td>\n      <td>eng</td>\n      <td>Trade Journal</td>\n      <td>d</td>\n      <td>...</td>\n      <td>01634429</td>\n      <td>Nonwovens Industry</td>\n      <td>Rodman Publications Inc.</td>\n      <td>None</td>\n      <td>(Business and International Management, Materi...</td>\n      <td>({'id': '57193877330', 'name': 'Tara Olivo'},)</td>\n      <td>({'id': '57193877330', 'name': 'Tara Olivo', '...</td>\n      <td>0</td>\n      <td>None</td>\n      <td>Scopus</td>\n    </tr>\n    <tr>\n      <th>4</th>\n      <td>85090891903</td>\n      <td>None</td>\n      <td>None</td>\n      <td>proceedings of the 6th international conferenc...</td>\n      <td>The proceedings contain 105 papers. The topics...</td>\n      <td>2020-09-14</td>\n      <td>0</td>\n      <td>eng</td>\n      <td>Conference Proceeding</td>\n      <td>p</td>\n      <td>...</td>\n      <td>None</td>\n      <td>6th International Conference on Engineering an...</td>\n      <td>Association for Computing Machinery</td>\n      <td>None</td>\n      <td>(Computer Networks and Communications, Compute...</td>\n      <td>None</td>\n      <td>None</td>\n      <td>0</td>\n      <td>None</td>\n      <td>Scopus</td>\n    </tr>\n  </tbody>\n</table>\n<p>5 rows × 22 columns</p>\n</div>"
     },
     "metadata": {},
     "execution_count": 36
    }
   ],
   "source": [
    "# Checking the dataframe.\n",
    "df_scopus.head()"
   ]
  },
  {
   "cell_type": "code",
   "execution_count": 37,
   "metadata": {
    "tags": []
   },
   "outputs": [
    {
     "output_type": "stream",
     "name": "stdout",
     "text": [
      "<class 'pandas.core.frame.DataFrame'>\nRangeIndex: 53266 entries, 0 to 53265\nData columns (total 22 columns):\n #   Column            Non-Null Count  Dtype         \n---  ------            --------------  -----         \n 0   id                53266 non-null  object        \n 1   doi               51734 non-null  object        \n 2   pubmed_id         35006 non-null  object        \n 3   title             53266 non-null  object        \n 4   abstract          30189 non-null  object        \n 5   publication_date  53266 non-null  datetime64[ns]\n 6   citation_num      53266 non-null  int64         \n 7   language          52982 non-null  object        \n 8   production_type   53266 non-null  object        \n 9   source_type       53266 non-null  object        \n 10  auth_keywords     28011 non-null  object        \n 11  index_terms       23975 non-null  object        \n 12  issn              53176 non-null  object        \n 13  vehicle_name      53266 non-null  object        \n 14  publisher         53262 non-null  object        \n 15  affiliations      49380 non-null  object        \n 16  subject_areas     53203 non-null  object        \n 17  authors           52412 non-null  object        \n 18  author_affil      52445 non-null  object        \n 19  ref_count         53266 non-null  int64         \n 20  references        44564 non-null  object        \n 21  source            53266 non-null  object        \ndtypes: datetime64[ns](1), int64(2), object(19)\nmemory usage: 8.9+ MB\n"
     ]
    }
   ],
   "source": [
    "# Visualizing the information of dataset.\n",
    "df_scopus.info()     "
   ]
  },
  {
   "cell_type": "markdown",
   "metadata": {},
   "source": [
    "## 3. Merging/Joining the datasets"
   ]
  },
  {
   "cell_type": "code",
   "execution_count": 38,
   "metadata": {},
   "outputs": [
    {
     "output_type": "execute_result",
     "data": {
      "text/plain": [
       "138"
      ]
     },
     "metadata": {},
     "execution_count": 38
    }
   ],
   "source": [
    "# Checking the duplicated records between arXiv and bioRxiv.\n",
    "df_arxiv.id[df_arxiv.title.isin(df_biorxiv.title.values)].size"
   ]
  },
  {
   "cell_type": "code",
   "execution_count": 39,
   "metadata": {},
   "outputs": [
    {
     "output_type": "execute_result",
     "data": {
      "text/plain": [
       "206"
      ]
     },
     "metadata": {},
     "execution_count": 39
    }
   ],
   "source": [
    "# Checking the duplicated records between arXiv and PubMed.\n",
    "df_arxiv.id[df_arxiv.title.isin(df_pubmed.title[df_pubmed.title.notnull()].values)].size"
   ]
  },
  {
   "cell_type": "code",
   "execution_count": 40,
   "metadata": {},
   "outputs": [
    {
     "output_type": "execute_result",
     "data": {
      "text/plain": [
       "187"
      ]
     },
     "metadata": {},
     "execution_count": 40
    }
   ],
   "source": [
    "# Checking the duplicated records between arXiv and Scopus.\n",
    "df_arxiv.id[df_arxiv.title.isin(df_scopus.title.values)].size"
   ]
  },
  {
   "cell_type": "code",
   "execution_count": 41,
   "metadata": {},
   "outputs": [
    {
     "output_type": "execute_result",
     "data": {
      "text/plain": [
       "787"
      ]
     },
     "metadata": {},
     "execution_count": 41
    }
   ],
   "source": [
    "# Checking the duplicated records between bioRxiv and PubMed.\n",
    "df_biorxiv.id[df_biorxiv.title.isin(df_pubmed.title[df_pubmed.title.notnull()].values) &\n",
    "    df_biorxiv.doi.isin(df_pubmed.doi[df_pubmed.doi.notnull()].values)].size"
   ]
  },
  {
   "cell_type": "code",
   "execution_count": 42,
   "metadata": {},
   "outputs": [
    {
     "output_type": "execute_result",
     "data": {
      "text/plain": [
       "0"
      ]
     },
     "metadata": {},
     "execution_count": 42
    }
   ],
   "source": [
    "# Checking the duplicated records between bioRxiv and Scopus.\n",
    "df_biorxiv.id[df_biorxiv.title.isin(df_scopus.title.values) &\n",
    "    df_biorxiv.doi.isin(df_scopus.doi[df_scopus.doi.notnull()].values)].size"
   ]
  },
  {
   "cell_type": "code",
   "execution_count": 43,
   "metadata": {},
   "outputs": [
    {
     "output_type": "execute_result",
     "data": {
      "text/plain": [
       "32741"
      ]
     },
     "metadata": {},
     "execution_count": 43
    }
   ],
   "source": [
    "# Checking the duplicated records between PubMed and Scopus by only the feature \"pubmed_id\".\n",
    "df_pubmed.pubmed_id[df_pubmed.pubmed_id.isin(df_scopus.pubmed_id[df_scopus.pubmed_id.notnull()].values)].size"
   ]
  },
  {
   "cell_type": "code",
   "execution_count": 44,
   "metadata": {},
   "outputs": [
    {
     "output_type": "execute_result",
     "data": {
      "text/plain": [
       "9068"
      ]
     },
     "metadata": {},
     "execution_count": 44
    }
   ],
   "source": [
    "# Checking the duplicated records between PubMed and Scopus by the features \"title\" and \"doi\".\n",
    "df_pubmed.pubmed_id[~df_pubmed.pubmed_id.isin(df_scopus.pubmed_id[df_scopus.pubmed_id.notnull()].values) &\n",
    "    df_pubmed.title.isin(df_scopus.title.values) &\n",
    "    df_pubmed.doi.isin(df_scopus.doi[df_scopus.doi.notnull()].values)].size"
   ]
  },
  {
   "cell_type": "code",
   "execution_count": 45,
   "metadata": {},
   "outputs": [],
   "source": [
    "# Filling the missing values of PubMed's features \"title\" and \"doi\" with data from Scopus.\n",
    "df_pubmed.loc[df_pubmed.pubmed_id.isin(df_scopus.pubmed_id.values) & df_pubmed.title.isnull(), \"title\"] = \\\n",
    "    df_pubmed.pubmed_id[df_pubmed.pubmed_id.isin(df_scopus.pubmed_id.values) & df_pubmed.title.isnull()].apply(\n",
    "        lambda x: df_scopus.title[df_scopus.pubmed_id == x].item())\n",
    "df_pubmed.loc[df_pubmed.pubmed_id.isin(df_scopus.pubmed_id.values) & df_pubmed.doi.isnull(), \"doi\"] = \\\n",
    "    df_pubmed.pubmed_id[df_pubmed.pubmed_id.isin(df_scopus.pubmed_id.values) & df_pubmed.doi.isnull()].apply(\n",
    "        lambda x: np.reshape(df_scopus.doi[df_scopus.pubmed_id == x].values, -1)[0] \\\n",
    "            if df_scopus.doi[df_scopus.pubmed_id == x].size > 0 else None)\n",
    "df_pubmed.loc[df_pubmed.doi[df_pubmed.doi.notnull()].isin(df_scopus.doi[df_scopus.doi.notnull()].values) &\n",
    "    df_pubmed.title.isnull(), \"title\"] = df_pubmed.doi[df_pubmed.doi[df_pubmed.doi.notnull()].isin(\n",
    "        df_scopus.doi[df_scopus.doi.notnull()].values) & df_pubmed.title.isnull()].apply(\n",
    "            lambda x: df_scopus.title[df_scopus.doi == x].item())"
   ]
  },
  {
   "cell_type": "code",
   "execution_count": 46,
   "metadata": {},
   "outputs": [],
   "source": [
    "# Filling the missing values of PubMed's features \"title\", \"abstract\", \"subject_areas\" and \"doi\" with data from bioRxiv.\n",
    "df_pubmed.loc[df_pubmed.doi.isin(df_biorxiv.doi.values) & df_pubmed.title.isnull(), \"title\"] = \\\n",
    "    df_pubmed.doi[df_pubmed.doi.isin(df_biorxiv.doi.values) & df_pubmed.title.isnull()].apply(\n",
    "        lambda x: df_biorxiv.title[df_biorxiv.doi == x].item())\n",
    "df_pubmed.loc[df_pubmed.title.isin(df_biorxiv.title.values) & df_pubmed.doi.isnull(), \"doi\"] = \\\n",
    "    df_pubmed.loc[df_pubmed.title.isin(df_biorxiv.title.values) & df_pubmed.doi.isnull(), [\"doi\", \"title\"]].apply(\n",
    "        lambda x: df_biorxiv.doi[df_biorxiv.title == x.title].item() if not x.doi else x.doi, axis=1)\n",
    "df_pubmed.loc[df_pubmed.doi.isin(df_biorxiv.doi.values) & df_pubmed.abstract.isnull(), \"abstract\"] = \\\n",
    "    df_pubmed.doi[df_pubmed.doi.isin(df_biorxiv.doi.values) & df_pubmed.abstract.isnull()].apply(\n",
    "        lambda x: df_biorxiv.abstract[df_biorxiv.doi == x].item())\n",
    "df_pubmed.loc[df_pubmed.doi.isin(df_biorxiv.doi.values), \"subject_areas\"] = df_pubmed.doi[\n",
    "    df_pubmed.doi.isin(df_biorxiv.doi.values)].apply(lambda x: df_biorxiv.subject_areas[\n",
    "        df_biorxiv.doi == x].item())"
   ]
  },
  {
   "cell_type": "code",
   "execution_count": 47,
   "metadata": {},
   "outputs": [],
   "source": [
    "# Filling the missing values of PubMed's features \"abstract\" and \"subject_areas\" with data from arXiv.\n",
    "df_pubmed.loc[df_pubmed.title.isin(df_arxiv.title.values) & df_pubmed.abstract.isnull(), \"abstract\"] = \\\n",
    "    df_pubmed.title[df_pubmed.title.isin(df_arxiv.title.values) & df_pubmed.abstract.isnull()].apply(\n",
    "        lambda x: df_arxiv.abstract[df_arxiv.title == x].item())\n",
    "df_pubmed.loc[df_pubmed.title.isin(df_arxiv.title.values), \"subject_areas\"] = df_pubmed.title[\n",
    "    df_pubmed.title.isin(df_arxiv.title.values)].apply(\n",
    "        lambda x: df_arxiv.subject_areas[df_arxiv.title == x].item())"
   ]
  },
  {
   "cell_type": "code",
   "execution_count": 48,
   "metadata": {},
   "outputs": [],
   "source": [
    "# Filling the missing values of Scopus' features \"abstract\" and \"subject_areas\" with data from arXiv.\n",
    "df_scopus.loc[df_scopus.title.isin(df_arxiv.title.values) & df_scopus.abstract.isnull(), \"abstract\"] = \\\n",
    "    df_scopus.title[df_scopus.title.isin(df_arxiv.title.values) & df_scopus.abstract.isnull()].apply(\n",
    "        lambda x: df_arxiv.abstract[df_arxiv.title == x].item())\n",
    "df_scopus.loc[df_scopus.title.isin(df_arxiv.title.values) & df_scopus.subject_areas.isnull(),\n",
    "    \"subject_areas\"] = df_scopus.title[df_scopus.title.isin(df_arxiv.title.values) &\n",
    "        df_scopus.subject_areas.isnull()].apply(lambda x: df_arxiv.subject_areas[df_arxiv.title == x].item())"
   ]
  },
  {
   "cell_type": "code",
   "execution_count": 49,
   "metadata": {},
   "outputs": [],
   "source": [
    "# Filling the missing values of Scopus' features \"doi\" and \"pubmed_id\" with data from PubMed.\n",
    "df_scopus.loc[df_scopus.pubmed_id.isin(df_pubmed.pubmed_id.values) & df_scopus.doi.isnull(), \"doi\"] = \\\n",
    "    df_scopus.loc[df_scopus.pubmed_id.isin(df_pubmed.pubmed_id.values) & df_scopus.doi.isnull(),\n",
    "        [\"doi\", \"pubmed_id\"]].apply(lambda x: df_pubmed.doi[df_pubmed.pubmed_id == x.pubmed_id].item() \\\n",
    "            if not x.doi else x.doi, axis=1)\n",
    "df_scopus.loc[df_scopus.title.isin(df_pubmed.title[df_pubmed.title.notnull()].values)\n",
    "    & df_scopus.pubmed_id.isnull() & df_scopus.doi[\n",
    "        df_scopus.doi.notnull()].isin(df_pubmed.doi[df_pubmed.doi.notnull()].values), \"pubmed_id\"] = \\\n",
    "df_scopus.loc[df_scopus.title.isin(df_pubmed.title[df_pubmed.title.notnull()].values)\n",
    "    & df_scopus.pubmed_id.isnull() & df_scopus.doi[\n",
    "        df_scopus.doi.notnull()].isin(df_pubmed.doi[df_pubmed.doi.notnull()].values),\n",
    "    [\"pubmed_id\", \"title\", \"doi\"]].apply(lambda x: x.pubmed_id if x.pubmed_id else np.reshape(\n",
    "        df_pubmed.pubmed_id[(df_pubmed.title == x.title) & (df_pubmed.doi == x.doi)].values, -1)[0] \\\n",
    "            if df_pubmed.pubmed_id[(df_pubmed.title == x.title) & (df_pubmed.doi == x.doi)].size > 0 \\\n",
    "                else None, axis=1)"
   ]
  },
  {
   "cell_type": "code",
   "execution_count": 50,
   "metadata": {},
   "outputs": [],
   "source": [
    "# Filling the missing values of Scopus' feature \"abstract\" with data from PubMed.\n",
    "df_scopus.loc[df_scopus.pubmed_id.isin(df_pubmed.pubmed_id.values) & df_scopus.abstract.isnull(), \"abstract\"] = \\\n",
    "    df_scopus.loc[df_scopus.pubmed_id.isin(df_pubmed.pubmed_id.values) & df_scopus.abstract.isnull(),\n",
    "        [\"abstract\", \"pubmed_id\"]].apply(lambda x: df_pubmed.abstract[\n",
    "            df_pubmed.pubmed_id == x.pubmed_id].item() if not x.abstract else x.abstract, axis=1)\n",
    "df_scopus.loc[~df_scopus.pubmed_id.isin(df_pubmed.pubmed_id.values) &\n",
    "    df_scopus.title.isin(df_pubmed.title[df_pubmed.title.notnull()].values) & df_scopus.abstract.isnull() &\n",
    "    df_scopus.doi[df_scopus.doi.notnull()].isin(df_pubmed.doi[df_pubmed.doi.notnull()].values), \"abstract\"] = \\\n",
    "df_scopus.loc[~df_scopus.pubmed_id.isin(df_pubmed.pubmed_id.values) &\n",
    "    df_scopus.title.isin(df_pubmed.title[df_pubmed.title.notnull()].values) & df_scopus.abstract.isnull() &\n",
    "    df_scopus.doi[df_scopus.doi.notnull()].isin(df_pubmed.doi[df_pubmed.doi.notnull()].values),\n",
    "    [\"abstract\", \"title\", \"doi\"]].apply(lambda x: x.abstract if not x.abstract else np.reshape(\n",
    "        df_pubmed.abstract[(df_pubmed.title == x.title) & (df_pubmed.doi == x.doi)].values, -1)[0] \\\n",
    "            if df_pubmed.abstract[(df_pubmed.title == x.title) & (df_pubmed.doi == x.doi)].size > 0 \\\n",
    "                else None, axis=1)"
   ]
  },
  {
   "cell_type": "code",
   "execution_count": 51,
   "metadata": {},
   "outputs": [],
   "source": [
    "# Filling the missing values of Scopus' feature \"auth_keywords\" with data from PubMed.\n",
    "df_scopus.loc[df_scopus.pubmed_id.isin(df_pubmed.pubmed_id.values) & df_scopus.auth_keywords.isnull(),\n",
    "    \"auth_keywords\"] = df_scopus.loc[df_scopus.pubmed_id.isin(df_pubmed.pubmed_id.values) &\n",
    "        df_scopus.auth_keywords.isnull(), [\"auth_keywords\", \"pubmed_id\"]].apply(\n",
    "            lambda x: df_pubmed.auth_keywords[df_pubmed.pubmed_id == x.pubmed_id].item() \\\n",
    "                if not x.auth_keywords else x.auth_keywords, axis=1)\n",
    "df_scopus.loc[~df_scopus.pubmed_id.isin(df_pubmed.pubmed_id.values) &\n",
    "    df_scopus.title.isin(df_pubmed.title[df_pubmed.title.notnull()].values) & df_scopus.auth_keywords.isnull() &\n",
    "    df_scopus.doi[df_scopus.doi.notnull()].isin(df_pubmed.doi[df_pubmed.doi.notnull()].values), \"auth_keywords\"] = \\\n",
    "df_scopus.loc[~df_scopus.pubmed_id.isin(df_pubmed.pubmed_id.values) &\n",
    "    df_scopus.title.isin(df_pubmed.title[df_pubmed.title.notnull()].values) & df_scopus.auth_keywords.isnull() &\n",
    "    df_scopus.doi[df_scopus.doi.notnull()].isin(df_pubmed.doi[df_pubmed.doi.notnull()].values),\n",
    "    [\"auth_keywords\", \"title\", \"doi\"]].apply(lambda x: x.auth_keywords if x.auth_keywords else np.reshape(\n",
    "        df_pubmed.auth_keywords[(df_pubmed.title == x.title) & (df_pubmed.doi == x.doi)].values, -1)[0] \\\n",
    "            if df_pubmed.auth_keywords[(df_pubmed.title == x.title) & (df_pubmed.doi == x.doi)].size > 0 \\\n",
    "                else None, axis=1)"
   ]
  },
  {
   "cell_type": "code",
   "execution_count": 52,
   "metadata": {},
   "outputs": [],
   "source": [
    "# Filling the missing values of Scopus' features \"author_affil\" and \"subject_areas\" with data from PubMed.\n",
    "df_scopus.loc[df_scopus.pubmed_id.isin(df_pubmed.pubmed_id.values) & df_scopus.author_affil.isnull(),\n",
    "    \"author_affil\"] = df_scopus.loc[df_scopus.pubmed_id.isin(df_pubmed.pubmed_id.values) &\n",
    "        df_scopus.author_affil.isnull(), [\"author_affil\", \"pubmed_id\"]].apply(\n",
    "            lambda x: df_pubmed.author_affil[df_pubmed.pubmed_id == x.pubmed_id].item() \\\n",
    "                if not x.author_affil else x.author_affil, axis=1)\n",
    "df_scopus.loc[df_scopus.pubmed_id.isin(df_pubmed.pubmed_id.values) & df_scopus.subject_areas.isnull(),\n",
    "    \"subject_areas\"] = df_scopus.loc[df_scopus.pubmed_id.isin(df_pubmed.pubmed_id.values) &\n",
    "        df_scopus.subject_areas.isnull(), [\"subject_areas\", \"pubmed_id\"]].apply(\n",
    "            lambda x: df_pubmed.subject_areas[df_pubmed.pubmed_id == x.pubmed_id].item() \\\n",
    "                if not x.subject_areas else x.subject_areas, axis=1)"
   ]
  },
  {
   "cell_type": "code",
   "execution_count": 53,
   "metadata": {},
   "outputs": [],
   "source": [
    "# Removing the duplicated records between arXiv and bioRxiv.\n",
    "df_arxiv = df_arxiv[~df_arxiv.title.isin(df_biorxiv.title.values)]"
   ]
  },
  {
   "cell_type": "code",
   "execution_count": 54,
   "metadata": {},
   "outputs": [],
   "source": [
    "# Removing the duplicated records between arXiv and PubMed.\n",
    "df_arxiv = df_arxiv[~df_arxiv.title.isin(df_pubmed.title[df_pubmed.title.notnull()].values)]"
   ]
  },
  {
   "cell_type": "code",
   "execution_count": 55,
   "metadata": {},
   "outputs": [],
   "source": [
    "# Removing the duplicated records between arXiv and Scopus.\n",
    "df_arxiv = df_arxiv[~df_arxiv.title.isin(df_scopus.title.values)]"
   ]
  },
  {
   "cell_type": "code",
   "execution_count": 56,
   "metadata": {},
   "outputs": [],
   "source": [
    "# Removing the duplicated records between bioRxiv and PubMed.\n",
    "df_biorxiv = df_biorxiv[~(df_biorxiv.title.isin(df_pubmed.title[df_pubmed.title.notnull()].values) &\n",
    "    df_biorxiv.doi.isin(df_pubmed.doi[df_pubmed.doi.notnull()].values))]"
   ]
  },
  {
   "cell_type": "code",
   "execution_count": 57,
   "metadata": {},
   "outputs": [],
   "source": [
    "# Removing the duplicated records between bioRxiv and Scopus.\n",
    "df_biorxiv = df_biorxiv[~(df_biorxiv.title.isin(df_scopus.title.values) &\n",
    "    df_biorxiv.doi.isin(df_scopus.doi[df_scopus.doi.notnull()].values))]"
   ]
  },
  {
   "cell_type": "code",
   "execution_count": 58,
   "metadata": {},
   "outputs": [],
   "source": [
    "# Removing the duplicated records between PubMed and Scopus.\n",
    "idx_removed = df_pubmed.pubmed_id[df_pubmed.pubmed_id.isin(df_scopus.pubmed_id[\n",
    "    df_scopus.pubmed_id.notnull()].values)].index.to_list()\n",
    "idx_removed += df_pubmed.pubmed_id[~df_pubmed.pubmed_id.isin(df_scopus.pubmed_id[\n",
    "        df_scopus.pubmed_id.notnull()].values) &\n",
    "    df_pubmed.title.isin(df_scopus.title.values) &\n",
    "    df_pubmed.doi.isin(df_scopus.doi[df_scopus.doi.notnull()].values)].index.to_list()\n",
    "df_pubmed = df_pubmed[~df_pubmed.index.isin(list(set(idx_removed)))]"
   ]
  },
  {
   "cell_type": "code",
   "execution_count": 59,
   "metadata": {
    "tags": []
   },
   "outputs": [
    {
     "output_type": "stream",
     "name": "stdout",
     "text": [
      "arXiv: 1963\nbioRxiv: 8232\nPubMed: 13668\nScopus: 53266\nExpected total number of records for the final dataset: 77129\n"
     ]
    }
   ],
   "source": [
    "# Visualizing the final number of records for each dataset.\n",
    "print(\"arXiv:\", df_arxiv.id.size)\n",
    "print(\"bioRxiv:\", df_biorxiv.id.size)\n",
    "print(\"PubMed:\", df_pubmed.pubmed_id.size)\n",
    "print(\"Scopus:\", df_scopus.id.size)\n",
    "print(\"Expected total number of records for the final dataset:\",\n",
    "      (df_arxiv.id.size + df_biorxiv.id.size + df_pubmed.pubmed_id.size + df_scopus.id.size))"
   ]
  },
  {
   "cell_type": "code",
   "execution_count": 60,
   "metadata": {
    "tags": []
   },
   "outputs": [],
   "source": [
    "# Merging/Joining the datasets.\n",
    "df_final = pd.concat([df_arxiv, df_biorxiv, df_pubmed, df_scopus], ignore_index=True)"
   ]
  },
  {
   "cell_type": "code",
   "execution_count": 61,
   "metadata": {},
   "outputs": [],
   "source": [
    "# Defining the \"None\" value for the \"NaN\" values.\n",
    "df_final.replace({np.nan: None}, inplace=True)"
   ]
  },
  {
   "cell_type": "code",
   "execution_count": 62,
   "metadata": {},
   "outputs": [],
   "source": [
    "# Renaming the feature \"source\".\n",
    "df_final.rename(columns={\"source\": \"data_source\"}, inplace=True)"
   ]
  },
  {
   "cell_type": "code",
   "execution_count": 63,
   "metadata": {},
   "outputs": [
    {
     "output_type": "execute_result",
     "data": {
      "text/plain": [
       "           id                                      subject_areas  \\\n",
       "0  2009.11008  (Image and Video Processing, Computer Vision a...   \n",
       "1  2009.10931           (Quantitative Methods, Machine Learning)   \n",
       "2  2009.10808                   (Machine Learning, Applications)   \n",
       "3  2009.10648  (Social and Information Networks, Physics and ...   \n",
       "4  2009.10608  (Image and Video Processing, Computer Vision a...   \n",
       "\n",
       "                                               title  \\\n",
       "0  attention with multiple sources knowledges for...   \n",
       "1  drug repurposing for covid-19 using graph neur...   \n",
       "2  using machine learning to develop a novel covi...   \n",
       "3  google covid-19 community mobility reports: in...   \n",
       "4  dual encoder fusion u-net (defu-net) for cross...   \n",
       "\n",
       "                                             authors  \\\n",
       "0  ({'id': '-3656862960144035448', 'name': 'Duy M...   \n",
       "1  ({'id': '-4571039949857585287', 'name': 'Kangl...   \n",
       "2  ({'id': '-1643832521739170778', 'name': 'Anuj ...   \n",
       "3  ({'id': '1593276023866582611', 'name': 'Gabrie...   \n",
       "4  ({'id': '-4095306500263987581', 'name': 'Lipei...   \n",
       "\n",
       "                                            abstract publication_date  \\\n",
       "0  Until now, Coronavirus SARS-CoV-2 has caused m...       2020-09-23   \n",
       "1  Amid the pandemic of 2019 novel coronavirus di...       2020-09-23   \n",
       "2  COVID19 is now one of the most leading causes ...       2020-09-22   \n",
       "3  Social distancing (SD) has been critical in th...       2020-09-17   \n",
       "4  A number of methods based on the deep learning...       2020-09-11   \n",
       "\n",
       "  data_source   doi author_affil pubmed_id  ... citation_num language  \\\n",
       "0       arXiv  None         None      None  ...         None     None   \n",
       "1       arXiv  None         None      None  ...         None     None   \n",
       "2       arXiv  None         None      None  ...         None     None   \n",
       "3       arXiv  None         None      None  ...         None     None   \n",
       "4       arXiv  None         None      None  ...         None     None   \n",
       "\n",
       "  production_type source_type index_terms  issn publisher affiliations  \\\n",
       "0            None        None        None  None      None         None   \n",
       "1            None        None        None  None      None         None   \n",
       "2            None        None        None  None      None         None   \n",
       "3            None        None        None  None      None         None   \n",
       "4            None        None        None  None      None         None   \n",
       "\n",
       "  ref_count references  \n",
       "0      None       None  \n",
       "1      None       None  \n",
       "2      None       None  \n",
       "3      None       None  \n",
       "4      None       None  \n",
       "\n",
       "[5 rows x 22 columns]"
      ],
      "text/html": "<div>\n<style scoped>\n    .dataframe tbody tr th:only-of-type {\n        vertical-align: middle;\n    }\n\n    .dataframe tbody tr th {\n        vertical-align: top;\n    }\n\n    .dataframe thead th {\n        text-align: right;\n    }\n</style>\n<table border=\"1\" class=\"dataframe\">\n  <thead>\n    <tr style=\"text-align: right;\">\n      <th></th>\n      <th>id</th>\n      <th>subject_areas</th>\n      <th>title</th>\n      <th>authors</th>\n      <th>abstract</th>\n      <th>publication_date</th>\n      <th>data_source</th>\n      <th>doi</th>\n      <th>author_affil</th>\n      <th>pubmed_id</th>\n      <th>...</th>\n      <th>citation_num</th>\n      <th>language</th>\n      <th>production_type</th>\n      <th>source_type</th>\n      <th>index_terms</th>\n      <th>issn</th>\n      <th>publisher</th>\n      <th>affiliations</th>\n      <th>ref_count</th>\n      <th>references</th>\n    </tr>\n  </thead>\n  <tbody>\n    <tr>\n      <th>0</th>\n      <td>2009.11008</td>\n      <td>(Image and Video Processing, Computer Vision a...</td>\n      <td>attention with multiple sources knowledges for...</td>\n      <td>({'id': '-3656862960144035448', 'name': 'Duy M...</td>\n      <td>Until now, Coronavirus SARS-CoV-2 has caused m...</td>\n      <td>2020-09-23</td>\n      <td>arXiv</td>\n      <td>None</td>\n      <td>None</td>\n      <td>None</td>\n      <td>...</td>\n      <td>None</td>\n      <td>None</td>\n      <td>None</td>\n      <td>None</td>\n      <td>None</td>\n      <td>None</td>\n      <td>None</td>\n      <td>None</td>\n      <td>None</td>\n      <td>None</td>\n    </tr>\n    <tr>\n      <th>1</th>\n      <td>2009.10931</td>\n      <td>(Quantitative Methods, Machine Learning)</td>\n      <td>drug repurposing for covid-19 using graph neur...</td>\n      <td>({'id': '-4571039949857585287', 'name': 'Kangl...</td>\n      <td>Amid the pandemic of 2019 novel coronavirus di...</td>\n      <td>2020-09-23</td>\n      <td>arXiv</td>\n      <td>None</td>\n      <td>None</td>\n      <td>None</td>\n      <td>...</td>\n      <td>None</td>\n      <td>None</td>\n      <td>None</td>\n      <td>None</td>\n      <td>None</td>\n      <td>None</td>\n      <td>None</td>\n      <td>None</td>\n      <td>None</td>\n      <td>None</td>\n    </tr>\n    <tr>\n      <th>2</th>\n      <td>2009.10808</td>\n      <td>(Machine Learning, Applications)</td>\n      <td>using machine learning to develop a novel covi...</td>\n      <td>({'id': '-1643832521739170778', 'name': 'Anuj ...</td>\n      <td>COVID19 is now one of the most leading causes ...</td>\n      <td>2020-09-22</td>\n      <td>arXiv</td>\n      <td>None</td>\n      <td>None</td>\n      <td>None</td>\n      <td>...</td>\n      <td>None</td>\n      <td>None</td>\n      <td>None</td>\n      <td>None</td>\n      <td>None</td>\n      <td>None</td>\n      <td>None</td>\n      <td>None</td>\n      <td>None</td>\n      <td>None</td>\n    </tr>\n    <tr>\n      <th>3</th>\n      <td>2009.10648</td>\n      <td>(Social and Information Networks, Physics and ...</td>\n      <td>google covid-19 community mobility reports: in...</td>\n      <td>({'id': '1593276023866582611', 'name': 'Gabrie...</td>\n      <td>Social distancing (SD) has been critical in th...</td>\n      <td>2020-09-17</td>\n      <td>arXiv</td>\n      <td>None</td>\n      <td>None</td>\n      <td>None</td>\n      <td>...</td>\n      <td>None</td>\n      <td>None</td>\n      <td>None</td>\n      <td>None</td>\n      <td>None</td>\n      <td>None</td>\n      <td>None</td>\n      <td>None</td>\n      <td>None</td>\n      <td>None</td>\n    </tr>\n    <tr>\n      <th>4</th>\n      <td>2009.10608</td>\n      <td>(Image and Video Processing, Computer Vision a...</td>\n      <td>dual encoder fusion u-net (defu-net) for cross...</td>\n      <td>({'id': '-4095306500263987581', 'name': 'Lipei...</td>\n      <td>A number of methods based on the deep learning...</td>\n      <td>2020-09-11</td>\n      <td>arXiv</td>\n      <td>None</td>\n      <td>None</td>\n      <td>None</td>\n      <td>...</td>\n      <td>None</td>\n      <td>None</td>\n      <td>None</td>\n      <td>None</td>\n      <td>None</td>\n      <td>None</td>\n      <td>None</td>\n      <td>None</td>\n      <td>None</td>\n      <td>None</td>\n    </tr>\n  </tbody>\n</table>\n<p>5 rows × 22 columns</p>\n</div>"
     },
     "metadata": {},
     "execution_count": 63
    }
   ],
   "source": [
    "# Checking the dataframe.\n",
    "df_final.head()"
   ]
  },
  {
   "cell_type": "code",
   "execution_count": 64,
   "metadata": {
    "tags": []
   },
   "outputs": [
    {
     "output_type": "stream",
     "name": "stdout",
     "text": [
      "<class 'pandas.core.frame.DataFrame'>\nRangeIndex: 77129 entries, 0 to 77128\nData columns (total 22 columns):\n #   Column            Non-Null Count  Dtype         \n---  ------            --------------  -----         \n 0   id                63461 non-null  object        \n 1   subject_areas     64357 non-null  object        \n 2   title             77110 non-null  object        \n 3   authors           54375 non-null  object        \n 4   abstract          50038 non-null  object        \n 5   publication_date  77129 non-null  datetime64[ns]\n 6   data_source       77129 non-null  object        \n 7   doi               73284 non-null  object        \n 8   author_affil      74274 non-null  object        \n 9   pubmed_id         57587 non-null  object        \n 10  auth_keywords     36085 non-null  object        \n 11  vehicle_name      66916 non-null  object        \n 12  citation_num      53266 non-null  object        \n 13  language          52982 non-null  object        \n 14  production_type   53266 non-null  object        \n 15  source_type       53266 non-null  object        \n 16  index_terms       23975 non-null  object        \n 17  issn              53176 non-null  object        \n 18  publisher         53262 non-null  object        \n 19  affiliations      49380 non-null  object        \n 20  ref_count         53266 non-null  object        \n 21  references        44564 non-null  object        \ndtypes: datetime64[ns](1), object(21)\nmemory usage: 12.9+ MB\n"
     ]
    }
   ],
   "source": [
    "# Visualizing the information of dataset.\n",
    "df_final.info()"
   ]
  },
  {
   "cell_type": "code",
   "execution_count": 65,
   "metadata": {},
   "outputs": [],
   "source": [
    "# Exporting the final dataset to CSV file.\n",
    "df_final.to_csv(\"../../data/raw/final_raw.csv\", index=False, quoting=csv.QUOTE_ALL)"
   ]
  }
 ],
 "metadata": {
  "kernelspec": {
   "name": "Python 3.8.5 64-bit ('estudos': conda)",
   "display_name": "Python 3.8.5 64-bit ('estudos': conda)",
   "metadata": {
    "interpreter": {
     "hash": "f36571e8ac200d0f57344c8319ea980e2f95eb6f7827d62a556f36e3662bc811"
    }
   }
  },
  "language_info": {
   "codemirror_mode": {
    "name": "ipython",
    "version": 3
   },
   "file_extension": ".py",
   "mimetype": "text/x-python",
   "name": "python",
   "nbconvert_exporter": "python",
   "pygments_lexer": "ipython3",
   "version": "3.8.5-final"
  }
 },
 "nbformat": 4,
 "nbformat_minor": 2
}