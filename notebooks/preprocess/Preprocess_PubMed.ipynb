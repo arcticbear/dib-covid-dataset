{
 "cells": [
  {
   "cell_type": "markdown",
   "metadata": {},
   "source": [
    "# Cleaning and Preprocessing the PubMed publications related to COVID-19"
   ]
  },
  {
   "cell_type": "markdown",
   "metadata": {},
   "source": [
    "For collecting the PubMed publications related to COVID-19, we used the \"pymed\" library. It is avaliable on [https://pypi.org/project/pymed/]."
   ]
  },
  {
   "cell_type": "code",
   "execution_count": 1,
   "metadata": {},
   "outputs": [],
   "source": [
    "# Uncomment to install the library.\n",
    "# %pip install pylatexenc"
   ]
  },
  {
   "cell_type": "code",
   "execution_count": 2,
   "metadata": {},
   "outputs": [],
   "source": [
    "# Importing the required libraries.\n",
    "import re, csv, pandas as pd, numpy as np\n",
    "from pylatexenc.latex2text import LatexNodes2Text"
   ]
  },
  {
   "cell_type": "markdown",
   "metadata": {},
   "source": [
    "## 1. Generating the dataframe from the raw data"
   ]
  },
  {
   "cell_type": "code",
   "execution_count": 3,
   "metadata": {},
   "outputs": [],
   "source": [
    "# Creating a dataframe from the raw data.\n",
    "df_data = pd.read_csv(\"../../data/raw/pubmed_raw.csv\", header=0, dtype={\"pubmed_id\": \"str\"})"
   ]
  },
  {
   "cell_type": "code",
   "execution_count": 4,
   "metadata": {},
   "outputs": [
    {
     "output_type": "execute_result",
     "data": {
      "text/plain": "  pubmed_id                                              title  \\\n0  32610371  Is BMI higher in younger patients with COVID-1...   \n1  32610364  The association between obesity, type 2 diabet...   \n2  32610350  Rapid Implementation of an Inpatient Telehealt...   \n3  32610334  COVID-19 Infection and Neurological Complicati...   \n4  32610281                Adversity as a Catalyst for Change.   \n\n                                            abstract  \\\n0  Obesity has been found to be a risk factor for...   \n1  To explore the association between obesity, ty...   \n2   Relaxation of laws and regulations around pri...   \n3  The present outbreak caused by SARS-CoV-2, an ...   \n4                                                NaN   \n\n                                            keywords  \\\n0  ['Age', 'COVID-19', 'Diabetes', 'Hypertension'...   \n1  ['COVID-19', 'Hypertension', 'Mexican populati...   \n2                                                 []   \n3  ['Coronavirus', 'Infection', 'Neurological dis...   \n4                ['COVID-19', 'practice management']   \n\n                              journal publication_date  \\\n0        Obesity (Silver Spring, Md.)       2020-07-02   \n1        Obesity (Silver Spring, Md.)       2020-07-02   \n2        Applied clinical informatics       2020-07-02   \n3                   Neuroepidemiology       2020-07-02   \n4  The Journal of invasive cardiology       2020-07-02   \n\n                                             authors methods  \\\n0  [{'lastname': 'Bhasin', 'firstname': 'Ajay', '...     NaN   \n1  [{'lastname': 'Denova-Gutiérrez', 'firstname':...     NaN   \n2  [{'lastname': 'Hron', 'firstname': 'Jonathan D...     NaN   \n3  [{'lastname': 'Beghi', 'firstname': 'Ettore', ...     NaN   \n4  [{'lastname': 'Dalakoti', 'firstname': 'Mayank...     NaN   \n\n                                         conclusions  \\\n0  We found younger patients (age <50 years) with...   \n1  Obesity, diabetes, and hypertension were signi...   \n2   We successfully implemented and scaled a secu...   \n3                                                NaN   \n4                                                NaN   \n\n                                             results  \\\n0  We found patients younger than 50 years of age...   \n1  Patients who tested positive for COVID-19 had ...   \n2   Within 7 weeks of go-live, we hosted 1,820 in...   \n3                                                NaN   \n4                                                NaN   \n\n                                          copyrights                     doi  \\\n0  This article is protected by copyright. All ri...       10.1002/oby.22947   \n1  This article is protected by copyright. All ri...       10.1002/oby.22946   \n2       Georg Thieme Verlag KG Stuttgart · New York.  10.1055/s-0040-1713635   \n3                        © 2020 S. Karger AG, Basel.       10.1159/000508991   \n4                                                NaN                     NaN   \n\n                                           xml isbn language publication_type  \\\n0  <Element 'PubmedArticle' at 0x7fdbc6294458>  NaN      NaN              NaN   \n1  <Element 'PubmedArticle' at 0x7fdbc58389f8>  NaN      NaN              NaN   \n2  <Element 'PubmedArticle' at 0x7fdbc584a1d8>  NaN      NaN              NaN   \n3  <Element 'PubmedArticle' at 0x7fdbc5853778>  NaN      NaN              NaN   \n4  <Element 'PubmedArticle' at 0x7fdbc55dbc78>  NaN      NaN              NaN   \n\n  sections publisher publisher_location  \n0      NaN       NaN                NaN  \n1      NaN       NaN                NaN  \n2      NaN       NaN                NaN  \n3      NaN       NaN                NaN  \n4      NaN       NaN                NaN  ",
      "text/html": "<div>\n<style scoped>\n    .dataframe tbody tr th:only-of-type {\n        vertical-align: middle;\n    }\n\n    .dataframe tbody tr th {\n        vertical-align: top;\n    }\n\n    .dataframe thead th {\n        text-align: right;\n    }\n</style>\n<table border=\"1\" class=\"dataframe\">\n  <thead>\n    <tr style=\"text-align: right;\">\n      <th></th>\n      <th>pubmed_id</th>\n      <th>title</th>\n      <th>abstract</th>\n      <th>keywords</th>\n      <th>journal</th>\n      <th>publication_date</th>\n      <th>authors</th>\n      <th>methods</th>\n      <th>conclusions</th>\n      <th>results</th>\n      <th>copyrights</th>\n      <th>doi</th>\n      <th>xml</th>\n      <th>isbn</th>\n      <th>language</th>\n      <th>publication_type</th>\n      <th>sections</th>\n      <th>publisher</th>\n      <th>publisher_location</th>\n    </tr>\n  </thead>\n  <tbody>\n    <tr>\n      <th>0</th>\n      <td>32610371</td>\n      <td>Is BMI higher in younger patients with COVID-1...</td>\n      <td>Obesity has been found to be a risk factor for...</td>\n      <td>['Age', 'COVID-19', 'Diabetes', 'Hypertension'...</td>\n      <td>Obesity (Silver Spring, Md.)</td>\n      <td>2020-07-02</td>\n      <td>[{'lastname': 'Bhasin', 'firstname': 'Ajay', '...</td>\n      <td>NaN</td>\n      <td>We found younger patients (age &lt;50 years) with...</td>\n      <td>We found patients younger than 50 years of age...</td>\n      <td>This article is protected by copyright. All ri...</td>\n      <td>10.1002/oby.22947</td>\n      <td>&lt;Element 'PubmedArticle' at 0x7fdbc6294458&gt;</td>\n      <td>NaN</td>\n      <td>NaN</td>\n      <td>NaN</td>\n      <td>NaN</td>\n      <td>NaN</td>\n      <td>NaN</td>\n    </tr>\n    <tr>\n      <th>1</th>\n      <td>32610364</td>\n      <td>The association between obesity, type 2 diabet...</td>\n      <td>To explore the association between obesity, ty...</td>\n      <td>['COVID-19', 'Hypertension', 'Mexican populati...</td>\n      <td>Obesity (Silver Spring, Md.)</td>\n      <td>2020-07-02</td>\n      <td>[{'lastname': 'Denova-Gutiérrez', 'firstname':...</td>\n      <td>NaN</td>\n      <td>Obesity, diabetes, and hypertension were signi...</td>\n      <td>Patients who tested positive for COVID-19 had ...</td>\n      <td>This article is protected by copyright. All ri...</td>\n      <td>10.1002/oby.22946</td>\n      <td>&lt;Element 'PubmedArticle' at 0x7fdbc58389f8&gt;</td>\n      <td>NaN</td>\n      <td>NaN</td>\n      <td>NaN</td>\n      <td>NaN</td>\n      <td>NaN</td>\n      <td>NaN</td>\n    </tr>\n    <tr>\n      <th>2</th>\n      <td>32610350</td>\n      <td>Rapid Implementation of an Inpatient Telehealt...</td>\n      <td>Relaxation of laws and regulations around pri...</td>\n      <td>[]</td>\n      <td>Applied clinical informatics</td>\n      <td>2020-07-02</td>\n      <td>[{'lastname': 'Hron', 'firstname': 'Jonathan D...</td>\n      <td>NaN</td>\n      <td>We successfully implemented and scaled a secu...</td>\n      <td>Within 7 weeks of go-live, we hosted 1,820 in...</td>\n      <td>Georg Thieme Verlag KG Stuttgart · New York.</td>\n      <td>10.1055/s-0040-1713635</td>\n      <td>&lt;Element 'PubmedArticle' at 0x7fdbc584a1d8&gt;</td>\n      <td>NaN</td>\n      <td>NaN</td>\n      <td>NaN</td>\n      <td>NaN</td>\n      <td>NaN</td>\n      <td>NaN</td>\n    </tr>\n    <tr>\n      <th>3</th>\n      <td>32610334</td>\n      <td>COVID-19 Infection and Neurological Complicati...</td>\n      <td>The present outbreak caused by SARS-CoV-2, an ...</td>\n      <td>['Coronavirus', 'Infection', 'Neurological dis...</td>\n      <td>Neuroepidemiology</td>\n      <td>2020-07-02</td>\n      <td>[{'lastname': 'Beghi', 'firstname': 'Ettore', ...</td>\n      <td>NaN</td>\n      <td>NaN</td>\n      <td>NaN</td>\n      <td>© 2020 S. Karger AG, Basel.</td>\n      <td>10.1159/000508991</td>\n      <td>&lt;Element 'PubmedArticle' at 0x7fdbc5853778&gt;</td>\n      <td>NaN</td>\n      <td>NaN</td>\n      <td>NaN</td>\n      <td>NaN</td>\n      <td>NaN</td>\n      <td>NaN</td>\n    </tr>\n    <tr>\n      <th>4</th>\n      <td>32610281</td>\n      <td>Adversity as a Catalyst for Change.</td>\n      <td>NaN</td>\n      <td>['COVID-19', 'practice management']</td>\n      <td>The Journal of invasive cardiology</td>\n      <td>2020-07-02</td>\n      <td>[{'lastname': 'Dalakoti', 'firstname': 'Mayank...</td>\n      <td>NaN</td>\n      <td>NaN</td>\n      <td>NaN</td>\n      <td>NaN</td>\n      <td>NaN</td>\n      <td>&lt;Element 'PubmedArticle' at 0x7fdbc55dbc78&gt;</td>\n      <td>NaN</td>\n      <td>NaN</td>\n      <td>NaN</td>\n      <td>NaN</td>\n      <td>NaN</td>\n      <td>NaN</td>\n    </tr>\n  </tbody>\n</table>\n</div>"
     },
     "metadata": {},
     "execution_count": 4
    }
   ],
   "source": [
    "# Checking the dataframe.\n",
    "df_data.head()"
   ]
  },
  {
   "cell_type": "code",
   "execution_count": 5,
   "metadata": {
    "tags": []
   },
   "outputs": [
    {
     "output_type": "stream",
     "name": "stdout",
     "text": "<class 'pandas.core.frame.DataFrame'>\nRangeIndex: 28818 entries, 0 to 28817\nData columns (total 19 columns):\n #   Column              Non-Null Count  Dtype \n---  ------              --------------  ----- \n 0   pubmed_id           28818 non-null  object\n 1   title               28773 non-null  object\n 2   abstract            14815 non-null  object\n 3   keywords            28812 non-null  object\n 4   journal             28812 non-null  object\n 5   publication_date    28818 non-null  object\n 6   authors             28818 non-null  object\n 7   methods             117 non-null    object\n 8   conclusions         1230 non-null   object\n 9   results             2776 non-null   object\n 10  copyrights          8473 non-null   object\n 11  doi                 28322 non-null  object\n 12  xml                 28812 non-null  object\n 13  isbn                1 non-null      object\n 14  language            6 non-null      object\n 15  publication_type    6 non-null      object\n 16  sections            6 non-null      object\n 17  publisher           6 non-null      object\n 18  publisher_location  6 non-null      object\ndtypes: object(19)\nmemory usage: 4.2+ MB\n"
    }
   ],
   "source": [
    "# Visualizing the information of dataset.\n",
    "df_data.info()"
   ]
  },
  {
   "cell_type": "markdown",
   "metadata": {},
   "source": [
    "## 2. Cleaning and preprocessing the dataframe"
   ]
  },
  {
   "cell_type": "code",
   "execution_count": 6,
   "metadata": {},
   "outputs": [],
   "source": [
    "# Defining the function \"clean_text\" to cleaning and preprocessing any text.\n",
    "def clean_text(text):\n",
    "    if text:\n",
    "        return re.sub(r\"\\s+\", \" \", re.sub(\"[0-9]*\\u200b\", \"\", str(text)).replace(\"\\u2009\", \" \").replace(\n",
    "            \"\\xa0\", \" \").replace(\"\\n\", \" \").replace(\"\\ufeff\", \"\").replace(\n",
    "            \"\\u202f\", \"\").replace(\"\\u2028\", \" \").replace(\"\\u200f\", \"\")).strip()\n",
    "    else:\n",
    "        return None"
   ]
  },
  {
   "cell_type": "code",
   "execution_count": 7,
   "metadata": {},
   "outputs": [],
   "source": [
    "# Defining the \"None\" value for the \"NaN\" values.\n",
    "df_data.replace({np.nan: None}, inplace=True)"
   ]
  },
  {
   "cell_type": "code",
   "execution_count": 8,
   "metadata": {},
   "outputs": [],
   "source": [
    "# Removing unnecessary columns.\n",
    "columns_drop = [\"methods\", \"conclusions\", \"results\", \"copyrights\", \"xml\", \"isbn\",\n",
    "                \"language\", \"publication_type\", \"sections\", \"publisher\", \"publisher_location\"]\n",
    "df_data.drop(axis=1, columns=columns_drop, inplace=True)"
   ]
  },
  {
   "cell_type": "code",
   "execution_count": 9,
   "metadata": {},
   "outputs": [],
   "source": [
    "# Getting the PubMed ID for each paper.\n",
    "df_data.pubmed_id = df_data.pubmed_id.apply(lambda x: x.split()[0].strip())"
   ]
  },
  {
   "cell_type": "code",
   "execution_count": 10,
   "metadata": {},
   "outputs": [],
   "source": [
    "# Normalizing the features \"abstract\" and \"title\".\n",
    "df_data.abstract = df_data.abstract.apply(\n",
    "    lambda x: LatexNodes2Text().latex_to_text(\n",
    "        re.sub(r\"\\s+\", \" \", re.sub(\"%\", \"\\\\%\", x))) if x and len(x) > 0 else None)\n",
    "df_data.title = df_data.title.apply(lambda x: x.replace(\"\\n\", \" \") if x and len(x) > 0 else None)"
   ]
  },
  {
   "cell_type": "code",
   "execution_count": 11,
   "metadata": {
    "tags": []
   },
   "outputs": [],
   "source": [
    "# Setting the feature \"keywords\" as a tuple of keywords and normalizing the keywords for each paper.\n",
    "df_data.keywords.loc[df_data.keywords.notnull()] = [\n",
    "    tuple([clean_text(keyword) for keyword in eval(keywords)]) if eval(keywords) else None\n",
    "    for keywords in df_data.keywords[df_data.keywords.notnull()]]"
   ]
  },
  {
   "cell_type": "code",
   "execution_count": 12,
   "metadata": {},
   "outputs": [],
   "source": [
    "# Correcting the feature \"authors\".\n",
    "for idx, authors in enumerate(df_data.authors):\n",
    "    if not eval(authors):\n",
    "        df_data.authors[idx] = None\n",
    "    else:\n",
    "        list_authors = []\n",
    "        for author in eval(authors):\n",
    "            auth = {}\n",
    "            if author[\"firstname\"] and author[\"lastname\"]:\n",
    "                auth[\"name\"] = clean_text(\"{} {}\".format(author[\"firstname\"], author[\"lastname\"]))\n",
    "            elif author[\"firstname\"] and not author[\"lastname\"]:\n",
    "                auth[\"name\"] = clean_text(author[\"firstname\"])\n",
    "            elif not author[\"firstname\"] and author[\"lastname\"]:\n",
    "                auth[\"name\"] = clean_text(author[\"lastname\"])\n",
    "\n",
    "            if \"affiliation\" in author:\n",
    "                auth[\"affiliation\"] = clean_text(author[\"affiliation\"])\n",
    "            else:\n",
    "                auth[\"affiliation\"] = None\n",
    "            \n",
    "            if \"name\" in auth:\n",
    "                list_authors.append(auth)\n",
    "        if list_authors:\n",
    "            df_data.authors[idx] = tuple(list_authors)\n",
    "        else:\n",
    "            df_data.authors[idx] = None"
   ]
  },
  {
   "cell_type": "code",
   "execution_count": 13,
   "metadata": {},
   "outputs": [],
   "source": [
    "# Renaming the features \"authors\", \"keywords\" and \"journal\".\n",
    "df_data.rename(columns={\"authors\": \"author_affil\", \"keywords\": \"auth_keywords\",\n",
    "                        \"journal\": \"vehicle_name\"}, inplace=True)"
   ]
  },
  {
   "cell_type": "code",
   "execution_count": 14,
   "metadata": {},
   "outputs": [
    {
     "output_type": "execute_result",
     "data": {
      "text/plain": "  pubmed_id                                              title  \\\n0  32610371  Is BMI higher in younger patients with COVID-1...   \n1  32610364  The association between obesity, type 2 diabet...   \n2  32610350  Rapid Implementation of an Inpatient Telehealt...   \n3  32610334  COVID-19 Infection and Neurological Complicati...   \n4  32610281                Adversity as a Catalyst for Change.   \n\n                                            abstract  \\\n0  Obesity has been found to be a risk factor for...   \n1  To explore the association between obesity, ty...   \n2   Relaxation of laws and regulations around pri...   \n3  The present outbreak caused by SARS-CoV-2, an ...   \n4                                               None   \n\n                                       auth_keywords  \\\n0   (Age, COVID-19, Diabetes, Hypertension, Obesity)   \n1  (COVID-19, Hypertension, Mexican population, O...   \n2                                               None   \n3  (Coronavirus, Infection, Neurological disorder...   \n4                    (COVID-19, practice management)   \n\n                         vehicle_name publication_date  \\\n0        Obesity (Silver Spring, Md.)       2020-07-02   \n1        Obesity (Silver Spring, Md.)       2020-07-02   \n2        Applied clinical informatics       2020-07-02   \n3                   Neuroepidemiology       2020-07-02   \n4  The Journal of invasive cardiology       2020-07-02   \n\n                                        author_affil                     doi  \n0  ({'name': 'Ajay Bhasin', 'affiliation': 'Depar...       10.1002/oby.22947  \n1  ({'name': 'Edgar Denova-Gutiérrez', 'affiliati...       10.1002/oby.22946  \n2  ({'name': 'Jonathan D Hron', 'affiliation': 'D...  10.1055/s-0040-1713635  \n3  ({'name': 'Ettore Beghi', 'affiliation': 'Depa...       10.1159/000508991  \n4  ({'name': 'Mayank Dalakoti', 'affiliation': 'N...                    None  ",
      "text/html": "<div>\n<style scoped>\n    .dataframe tbody tr th:only-of-type {\n        vertical-align: middle;\n    }\n\n    .dataframe tbody tr th {\n        vertical-align: top;\n    }\n\n    .dataframe thead th {\n        text-align: right;\n    }\n</style>\n<table border=\"1\" class=\"dataframe\">\n  <thead>\n    <tr style=\"text-align: right;\">\n      <th></th>\n      <th>pubmed_id</th>\n      <th>title</th>\n      <th>abstract</th>\n      <th>auth_keywords</th>\n      <th>vehicle_name</th>\n      <th>publication_date</th>\n      <th>author_affil</th>\n      <th>doi</th>\n    </tr>\n  </thead>\n  <tbody>\n    <tr>\n      <th>0</th>\n      <td>32610371</td>\n      <td>Is BMI higher in younger patients with COVID-1...</td>\n      <td>Obesity has been found to be a risk factor for...</td>\n      <td>(Age, COVID-19, Diabetes, Hypertension, Obesity)</td>\n      <td>Obesity (Silver Spring, Md.)</td>\n      <td>2020-07-02</td>\n      <td>({'name': 'Ajay Bhasin', 'affiliation': 'Depar...</td>\n      <td>10.1002/oby.22947</td>\n    </tr>\n    <tr>\n      <th>1</th>\n      <td>32610364</td>\n      <td>The association between obesity, type 2 diabet...</td>\n      <td>To explore the association between obesity, ty...</td>\n      <td>(COVID-19, Hypertension, Mexican population, O...</td>\n      <td>Obesity (Silver Spring, Md.)</td>\n      <td>2020-07-02</td>\n      <td>({'name': 'Edgar Denova-Gutiérrez', 'affiliati...</td>\n      <td>10.1002/oby.22946</td>\n    </tr>\n    <tr>\n      <th>2</th>\n      <td>32610350</td>\n      <td>Rapid Implementation of an Inpatient Telehealt...</td>\n      <td>Relaxation of laws and regulations around pri...</td>\n      <td>None</td>\n      <td>Applied clinical informatics</td>\n      <td>2020-07-02</td>\n      <td>({'name': 'Jonathan D Hron', 'affiliation': 'D...</td>\n      <td>10.1055/s-0040-1713635</td>\n    </tr>\n    <tr>\n      <th>3</th>\n      <td>32610334</td>\n      <td>COVID-19 Infection and Neurological Complicati...</td>\n      <td>The present outbreak caused by SARS-CoV-2, an ...</td>\n      <td>(Coronavirus, Infection, Neurological disorder...</td>\n      <td>Neuroepidemiology</td>\n      <td>2020-07-02</td>\n      <td>({'name': 'Ettore Beghi', 'affiliation': 'Depa...</td>\n      <td>10.1159/000508991</td>\n    </tr>\n    <tr>\n      <th>4</th>\n      <td>32610281</td>\n      <td>Adversity as a Catalyst for Change.</td>\n      <td>None</td>\n      <td>(COVID-19, practice management)</td>\n      <td>The Journal of invasive cardiology</td>\n      <td>2020-07-02</td>\n      <td>({'name': 'Mayank Dalakoti', 'affiliation': 'N...</td>\n      <td>None</td>\n    </tr>\n  </tbody>\n</table>\n</div>"
     },
     "metadata": {},
     "execution_count": 14
    }
   ],
   "source": [
    "# Checking the result.\n",
    "df_data.head()"
   ]
  },
  {
   "cell_type": "code",
   "execution_count": 15,
   "metadata": {
    "tags": []
   },
   "outputs": [
    {
     "output_type": "stream",
     "name": "stdout",
     "text": "<class 'pandas.core.frame.DataFrame'>\nRangeIndex: 28818 entries, 0 to 28817\nData columns (total 8 columns):\n #   Column            Non-Null Count  Dtype \n---  ------            --------------  ----- \n 0   pubmed_id         28818 non-null  object\n 1   title             28773 non-null  object\n 2   abstract          14815 non-null  object\n 3   auth_keywords     13369 non-null  object\n 4   vehicle_name      28812 non-null  object\n 5   publication_date  28818 non-null  object\n 6   author_affil      28488 non-null  object\n 7   doi               28322 non-null  object\ndtypes: object(8)\nmemory usage: 1.8+ MB\n"
    }
   ],
   "source": [
    "# Visualizing the information of dataset.\n",
    "df_data.info()"
   ]
  },
  {
   "cell_type": "markdown",
   "metadata": {},
   "source": [
    "## 3. Saving the dataframe"
   ]
  },
  {
   "cell_type": "code",
   "execution_count": 16,
   "metadata": {},
   "outputs": [],
   "source": [
    "# Exporting the data to CSV file.\n",
    "df_data.to_csv(\"../../data/prepared/pubmed_covid_19.csv\", index=False, quoting=csv.QUOTE_ALL)"
   ]
  }
 ],
 "metadata": {
  "kernelspec": {
   "display_name": "Python 3.6.8 64-bit ('estudos': conda)",
   "language": "python",
   "name": "python36864bitestudoscondaefdbdfb7fca04c4cbc7cf079ba261d35"
  },
  "language_info": {
   "codemirror_mode": {
    "name": "ipython",
    "version": 3
   },
   "file_extension": ".py",
   "mimetype": "text/x-python",
   "name": "python",
   "nbconvert_exporter": "python",
   "pygments_lexer": "ipython3",
   "version": "3.6.10-final"
  }
 },
 "nbformat": 4,
 "nbformat_minor": 2
}