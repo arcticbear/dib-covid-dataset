{
 "cells": [
  {
   "cell_type": "markdown",
   "metadata": {},
   "source": [
    "# Cleaning and Preprocessing the bioRxiv publications related to COVID-19"
   ]
  },
  {
   "cell_type": "markdown",
   "metadata": {},
   "source": [
    "The publications' data were collected from [bioRxiv API](https://api.biorxiv.org/covid19/help) related to COVID-19."
   ]
  },
  {
   "cell_type": "code",
   "execution_count": 1,
   "metadata": {},
   "outputs": [],
   "source": [
    "# Uncomment to install the library.\n",
    "# %pip install pylatexenc"
   ]
  },
  {
   "cell_type": "code",
   "execution_count": 2,
   "metadata": {},
   "outputs": [],
   "source": [
    "# Importing the required libraries.\n",
    "import csv, re, pandas as pd, numpy as np\n",
    "from pylatexenc.latex2text import LatexNodes2Text"
   ]
  },
  {
   "cell_type": "markdown",
   "metadata": {},
   "source": [
    "## 1. Generating the dataframe from the raw data"
   ]
  },
  {
   "cell_type": "code",
   "execution_count": 3,
   "metadata": {},
   "outputs": [],
   "source": [
    "# Creating a dataframe from the raw data.\n",
    "df_data = pd.read_csv(\"../../data/raw/biorxiv_raw.csv\", header=0)"
   ]
  },
  {
   "cell_type": "code",
   "execution_count": 4,
   "metadata": {},
   "outputs": [
    {
     "output_type": "execute_result",
     "data": {
      "text/plain": [
       "                       rel_doi  \\\n",
       "0  10.1101/2020.09.22.20196204   \n",
       "1  10.1101/2020.09.23.20150961   \n",
       "2  10.1101/2020.09.23.20200089   \n",
       "3  10.1101/2020.09.23.20199463   \n",
       "4  10.1101/2020.09.22.20197046   \n",
       "\n",
       "                                           rel_title    rel_date rel_site  \\\n",
       "0  Risk factors for mortality among hospitalized ...  2020-09-24  medRxiv   \n",
       "1  Prospective comparison of saliva and nasophary...  2020-09-24  medRxiv   \n",
       "2  Epidemiological measures for informing the gen...  2020-09-24  medRxiv   \n",
       "3  Comparative Effectiveness of Famotidine in Hos...  2020-09-24  medRxiv   \n",
       "4  Performance Assessment of First-Generation Ant...  2020-09-24  medRxiv   \n",
       "\n",
       "                                            rel_link  \\\n",
       "0  https://medrxiv.org/cgi/content/short/2020.09....   \n",
       "1  https://medrxiv.org/cgi/content/short/2020.09....   \n",
       "2  https://medrxiv.org/cgi/content/short/2020.09....   \n",
       "3  https://medrxiv.org/cgi/content/short/2020.09....   \n",
       "4  https://medrxiv.org/cgi/content/short/2020.09....   \n",
       "\n",
       "                                             rel_abs  rel_num_authors  \\\n",
       "0  Objectives To develop a prognostic model to id...                8   \n",
       "1  Current testing for COVID-19 relies on quantit...                3   \n",
       "2  During the SARS-CoV-2 outbreak, several epidem...                5   \n",
       "3  Background: Famotidine has been posited as a p...                5   \n",
       "4  The clinical and epidemiological use of SARS-C...               12   \n",
       "\n",
       "                                         rel_authors  version      license  \\\n",
       "0  [{'author_name': 'Devin Incerti', 'author_inst...        1     cc_by_nc   \n",
       "1  [{'author_name': '- COVISAL Guyane', 'author_i...        1  cc_by_nc_nd   \n",
       "2  [{'author_name': 'Ralph Brinks', 'author_inst'...        1        cc_no   \n",
       "3  [{'author_name': 'Azza Shoaibi', 'author_inst'...        1        cc_by   \n",
       "4  [{'author_name': 'Tahir S Shamsi', 'author_ins...        1        cc_no   \n",
       "\n",
       "                  type             category  \n",
       "0  PUBLISHAHEADOFPRINT  infectious diseases  \n",
       "1  PUBLISHAHEADOFPRINT         epidemiology  \n",
       "2  PUBLISHAHEADOFPRINT         epidemiology  \n",
       "3  PUBLISHAHEADOFPRINT     gastroenterology  \n",
       "4  PUBLISHAHEADOFPRINT            pathology  "
      ],
      "text/html": "<div>\n<style scoped>\n    .dataframe tbody tr th:only-of-type {\n        vertical-align: middle;\n    }\n\n    .dataframe tbody tr th {\n        vertical-align: top;\n    }\n\n    .dataframe thead th {\n        text-align: right;\n    }\n</style>\n<table border=\"1\" class=\"dataframe\">\n  <thead>\n    <tr style=\"text-align: right;\">\n      <th></th>\n      <th>rel_doi</th>\n      <th>rel_title</th>\n      <th>rel_date</th>\n      <th>rel_site</th>\n      <th>rel_link</th>\n      <th>rel_abs</th>\n      <th>rel_num_authors</th>\n      <th>rel_authors</th>\n      <th>version</th>\n      <th>license</th>\n      <th>type</th>\n      <th>category</th>\n    </tr>\n  </thead>\n  <tbody>\n    <tr>\n      <th>0</th>\n      <td>10.1101/2020.09.22.20196204</td>\n      <td>Risk factors for mortality among hospitalized ...</td>\n      <td>2020-09-24</td>\n      <td>medRxiv</td>\n      <td>https://medrxiv.org/cgi/content/short/2020.09....</td>\n      <td>Objectives To develop a prognostic model to id...</td>\n      <td>8</td>\n      <td>[{'author_name': 'Devin Incerti', 'author_inst...</td>\n      <td>1</td>\n      <td>cc_by_nc</td>\n      <td>PUBLISHAHEADOFPRINT</td>\n      <td>infectious diseases</td>\n    </tr>\n    <tr>\n      <th>1</th>\n      <td>10.1101/2020.09.23.20150961</td>\n      <td>Prospective comparison of saliva and nasophary...</td>\n      <td>2020-09-24</td>\n      <td>medRxiv</td>\n      <td>https://medrxiv.org/cgi/content/short/2020.09....</td>\n      <td>Current testing for COVID-19 relies on quantit...</td>\n      <td>3</td>\n      <td>[{'author_name': '- COVISAL Guyane', 'author_i...</td>\n      <td>1</td>\n      <td>cc_by_nc_nd</td>\n      <td>PUBLISHAHEADOFPRINT</td>\n      <td>epidemiology</td>\n    </tr>\n    <tr>\n      <th>2</th>\n      <td>10.1101/2020.09.23.20200089</td>\n      <td>Epidemiological measures for informing the gen...</td>\n      <td>2020-09-24</td>\n      <td>medRxiv</td>\n      <td>https://medrxiv.org/cgi/content/short/2020.09....</td>\n      <td>During the SARS-CoV-2 outbreak, several epidem...</td>\n      <td>5</td>\n      <td>[{'author_name': 'Ralph Brinks', 'author_inst'...</td>\n      <td>1</td>\n      <td>cc_no</td>\n      <td>PUBLISHAHEADOFPRINT</td>\n      <td>epidemiology</td>\n    </tr>\n    <tr>\n      <th>3</th>\n      <td>10.1101/2020.09.23.20199463</td>\n      <td>Comparative Effectiveness of Famotidine in Hos...</td>\n      <td>2020-09-24</td>\n      <td>medRxiv</td>\n      <td>https://medrxiv.org/cgi/content/short/2020.09....</td>\n      <td>Background: Famotidine has been posited as a p...</td>\n      <td>5</td>\n      <td>[{'author_name': 'Azza Shoaibi', 'author_inst'...</td>\n      <td>1</td>\n      <td>cc_by</td>\n      <td>PUBLISHAHEADOFPRINT</td>\n      <td>gastroenterology</td>\n    </tr>\n    <tr>\n      <th>4</th>\n      <td>10.1101/2020.09.22.20197046</td>\n      <td>Performance Assessment of First-Generation Ant...</td>\n      <td>2020-09-24</td>\n      <td>medRxiv</td>\n      <td>https://medrxiv.org/cgi/content/short/2020.09....</td>\n      <td>The clinical and epidemiological use of SARS-C...</td>\n      <td>12</td>\n      <td>[{'author_name': 'Tahir S Shamsi', 'author_ins...</td>\n      <td>1</td>\n      <td>cc_no</td>\n      <td>PUBLISHAHEADOFPRINT</td>\n      <td>pathology</td>\n    </tr>\n  </tbody>\n</table>\n</div>"
     },
     "metadata": {},
     "execution_count": 4
    }
   ],
   "source": [
    "# Checking the dataframe.\n",
    "df_data.head()"
   ]
  },
  {
   "cell_type": "code",
   "execution_count": 5,
   "metadata": {
    "tags": []
   },
   "outputs": [
    {
     "output_type": "stream",
     "name": "stdout",
     "text": [
      "<class 'pandas.core.frame.DataFrame'>\nRangeIndex: 9027 entries, 0 to 9026\nData columns (total 12 columns):\n #   Column           Non-Null Count  Dtype \n---  ------           --------------  ----- \n 0   rel_doi          9027 non-null   object\n 1   rel_title        9027 non-null   object\n 2   rel_date         9027 non-null   object\n 3   rel_site         9027 non-null   object\n 4   rel_link         9027 non-null   object\n 5   rel_abs          9027 non-null   object\n 6   rel_num_authors  9027 non-null   int64 \n 7   rel_authors      9027 non-null   object\n 8   version          9027 non-null   int64 \n 9   license          9020 non-null   object\n 10  type             9027 non-null   object\n 11  category         9027 non-null   object\ndtypes: int64(2), object(10)\nmemory usage: 846.4+ KB\n"
     ]
    }
   ],
   "source": [
    "# Visualizing the information of dataset.\n",
    "df_data.info()"
   ]
  },
  {
   "cell_type": "markdown",
   "metadata": {},
   "source": [
    "## 2. Cleaning and preprocessing the dataframe"
   ]
  },
  {
   "cell_type": "code",
   "execution_count": 6,
   "metadata": {},
   "outputs": [],
   "source": [
    "# Removing unnecessary columns.\n",
    "df_data.drop(axis=1, columns=[\"rel_num_authors\", \"version\", \"license\", \"type\"], inplace=True)"
   ]
  },
  {
   "cell_type": "code",
   "execution_count": 7,
   "metadata": {},
   "outputs": [],
   "source": [
    "# Renaming the columns.\n",
    "columns = {\"rel_title\": \"title\", \"rel_doi\": \"doi\", \"rel_link\": \"id\", \"rel_abs\": \"abstract\",\n",
    "    \"rel_authors\": \"author_affil\", \"rel_date\": \"publication_date\", \"rel_site\": \"source\",\n",
    "    \"category\": \"subject_areas\"}\n",
    "df_data.rename(columns=columns, inplace=True)"
   ]
  },
  {
   "cell_type": "code",
   "execution_count": 8,
   "metadata": {},
   "outputs": [],
   "source": [
    "# Normalizing the feature \"id\".\n",
    "df_data.id = df_data.id.apply(lambda x: x.split(\"/\")[-1])"
   ]
  },
  {
   "cell_type": "code",
   "execution_count": 9,
   "metadata": {},
   "outputs": [],
   "source": [
    "# Normalizing the features \"title\" and \"abstract\".\n",
    "df_data.loc[:, [\"title\", \"abstract\"]] = df_data.loc[:, [\"title\", \"abstract\"]].apply(\n",
    "    lambda x: x.apply(lambda y: re.sub(\"/r/\", \"\", re.sub(\"@PER@CENT@\", \"%\", re.sub(r\"\\^\", \"\",\n",
    "        LatexNodes2Text().latex_to_text(re.sub(r\"\\s+\", \" \", re.sub(\"\\\\\\\\?%\", \"@PER@CENT@\",\n",
    "            re.sub(\"\\\\\\\\\", \"\\n\", re.sub(r\"\\\\href\\{(.+)\\}\\{(.+)\\}\", \"\\g<2> (\\g<1>)\",\n",
    "                y)))).strip())))) if y else None))"
   ]
  },
  {
   "cell_type": "code",
   "execution_count": 10,
   "metadata": {},
   "outputs": [],
   "source": [
    "# Normalizing the feature \"subject_areas\".\n",
    "df_data.subject_areas = df_data.subject_areas.apply(lambda x: tuple([x]) if x else None)"
   ]
  },
  {
   "cell_type": "code",
   "execution_count": 11,
   "metadata": {},
   "outputs": [],
   "source": [
    "# Changing the type of feature \"author_affil\".\n",
    "df_data.author_affil = df_data.author_affil.apply(eval)"
   ]
  },
  {
   "cell_type": "code",
   "execution_count": 12,
   "metadata": {},
   "outputs": [],
   "source": [
    "# Normalizing the feature \"author_affil\".\n",
    "df_data.author_affil = [\n",
    "    [{\"name\": re.sub(r\"\\s+\", \" \", LatexNodes2Text().latex_to_text(\n",
    "                re.sub(r\"^\\\"(.+)\\\"$\", \"\\g<1>\", re.sub(\"^-\\s\", \"\", author[\"author_name\"])))),\n",
    "      \"affiliation\": re.sub(r\"\\s+\", \" \", LatexNodes2Text().latex_to_text(\n",
    "                        re.sub(r\"^\\\"(.+)\\\"$\", \"\\g<1>\", re.sub(\"Affiliation:\", \"\",\n",
    "                            re.sub(r\"[0-9]+\\.\\s\", \"\", author[\"author_inst\"]), flags=re.IGNORECASE))))}\n",
    "     for author in authors] if len(authors) > 0 else None for authors in df_data.author_affil]"
   ]
  },
  {
   "cell_type": "code",
   "execution_count": 13,
   "metadata": {},
   "outputs": [],
   "source": [
    "# Removing the invalid authors and affiliations.\n",
    "invalid_authors = [\"Revision Created\", \"Revision Converted\", \"Newly Submitted Revision\",\n",
    "                   \"Final Decision\"]\n",
    "for idx, authors in df_data.author_affil.iteritems():\n",
    "    if authors:\n",
    "        for author in list(authors):\n",
    "            if author[\"name\"].strip() in invalid_authors:\n",
    "                authors.remove(author)\n",
    "            elif not author[\"affiliation\"] or author[\"affiliation\"].lower().replace(\".\", \"\") == \"none\":\n",
    "                author[\"affiliation\"] = None\n",
    "        df_data.author_affil[idx] = tuple(authors)"
   ]
  },
  {
   "cell_type": "code",
   "execution_count": 14,
   "metadata": {},
   "outputs": [],
   "source": [
    "# Creating the authors' and affiliations' IDs.\n",
    "df_data.author_affil = [tuple([\n",
    "    {\"id\": str(hash(\"{} - {}\".format(author[\"name\"], df_data.source[idx]))) if author[\"name\"] else None,\n",
    "     \"name\": author[\"name\"] if author[\"name\"] else None,\n",
    "     \"affil_id\": str(hash(\"{} - {}\".format(author[\"affiliation\"], df_data.source[idx]))) \\\n",
    "         if author[\"affiliation\"] else None,\n",
    "     \"affiliation\": author[\"affiliation\"] if author[\"affiliation\"] else None, \"country\": None}\n",
    "    for author in authors]) for idx, authors in df_data.author_affil.iteritems()]"
   ]
  },
  {
   "cell_type": "code",
   "execution_count": 15,
   "metadata": {},
   "outputs": [],
   "source": [
    "# Defining the \"None\" value for the \"NaN\" values.\n",
    "df_data.replace({np.nan: None, \"none\": None, \"none.\": None, \"None\": None}, inplace=True)"
   ]
  },
  {
   "cell_type": "code",
   "execution_count": 16,
   "metadata": {},
   "outputs": [],
   "source": [
    "# Removing the duplicated records by features \"title\" and \"doi\".\n",
    "df_data = df_data.sort_values(by=[\"title\", \"publication_date\"]).drop_duplicates([\"title\", \"doi\"], \"last\")"
   ]
  },
  {
   "cell_type": "code",
   "execution_count": 17,
   "metadata": {},
   "outputs": [
    {
     "output_type": "execute_result",
     "data": {
      "text/plain": [
       "                              doi  \\\n",
       "862   10.1101/2020.08.25.20181545   \n",
       "4708    10.1101/2020.05.28.120709   \n",
       "6970  10.1101/2020.04.16.20067884   \n",
       "4202  10.1101/2020.06.04.20122812   \n",
       "2593  10.1101/2020.07.11.20151308   \n",
       "\n",
       "                                                  title publication_date  \\\n",
       "862   \"I walk around like my hands are covered in mu...       2020-08-31   \n",
       "4708  \"Monoclonal-type\" plastic antibodies for SARS-...       2020-05-28   \n",
       "6970  \"No test is better than a bad test\": Impact of...       2020-04-22   \n",
       "4202  'Drawing on Wisdom to Cope with Adversity:' A ...       2020-06-07   \n",
       "2593  'Trained immunity' from Mycobacterium spp. exp...       2020-07-14   \n",
       "\n",
       "       source                   id  \\\n",
       "862   medRxiv  2020.08.25.20181545   \n",
       "4708  bioRxiv    2020.05.28.120709   \n",
       "6970  medRxiv  2020.04.16.20067884   \n",
       "4202  medRxiv  2020.06.04.20122812   \n",
       "2593  medRxiv  2020.07.11.20151308   \n",
       "\n",
       "                                               abstract  \\\n",
       "862   Objectives: To investigate how and why Canadia...   \n",
       "4708  Summary of the ideaOur idea is focused on the ...   \n",
       "6970  Testing is viewed as a critical aspect of any ...   \n",
       "4202  Background: Mental health has become one of th...   \n",
       "2593  Protective variables for COVID-19 are unknown....   \n",
       "\n",
       "                                           author_affil  \\\n",
       "862   ({'id': '-4223852819809795845', 'name': 'Robyn...   \n",
       "4708  ({'id': '4304627819863036756', 'name': 'France...   \n",
       "6970  ({'id': '-1190320489506440084', 'name': 'Nicho...   \n",
       "4202  ({'id': '6026351697434995649', 'name': 'Jose M...   \n",
       "2593  ({'id': '-655212003565356990', 'name': 'Samer ...   \n",
       "\n",
       "                              subject_areas  \n",
       "862             (public and global health,)  \n",
       "4708                   (synthetic biology,)  \n",
       "6970                        (epidemiology,)  \n",
       "4202  (psychiatry and clinical psychology,)  \n",
       "2593                 (infectious diseases,)  "
      ],
      "text/html": "<div>\n<style scoped>\n    .dataframe tbody tr th:only-of-type {\n        vertical-align: middle;\n    }\n\n    .dataframe tbody tr th {\n        vertical-align: top;\n    }\n\n    .dataframe thead th {\n        text-align: right;\n    }\n</style>\n<table border=\"1\" class=\"dataframe\">\n  <thead>\n    <tr style=\"text-align: right;\">\n      <th></th>\n      <th>doi</th>\n      <th>title</th>\n      <th>publication_date</th>\n      <th>source</th>\n      <th>id</th>\n      <th>abstract</th>\n      <th>author_affil</th>\n      <th>subject_areas</th>\n    </tr>\n  </thead>\n  <tbody>\n    <tr>\n      <th>862</th>\n      <td>10.1101/2020.08.25.20181545</td>\n      <td>\"I walk around like my hands are covered in mu...</td>\n      <td>2020-08-31</td>\n      <td>medRxiv</td>\n      <td>2020.08.25.20181545</td>\n      <td>Objectives: To investigate how and why Canadia...</td>\n      <td>({'id': '-4223852819809795845', 'name': 'Robyn...</td>\n      <td>(public and global health,)</td>\n    </tr>\n    <tr>\n      <th>4708</th>\n      <td>10.1101/2020.05.28.120709</td>\n      <td>\"Monoclonal-type\" plastic antibodies for SARS-...</td>\n      <td>2020-05-28</td>\n      <td>bioRxiv</td>\n      <td>2020.05.28.120709</td>\n      <td>Summary of the ideaOur idea is focused on the ...</td>\n      <td>({'id': '4304627819863036756', 'name': 'France...</td>\n      <td>(synthetic biology,)</td>\n    </tr>\n    <tr>\n      <th>6970</th>\n      <td>10.1101/2020.04.16.20067884</td>\n      <td>\"No test is better than a bad test\": Impact of...</td>\n      <td>2020-04-22</td>\n      <td>medRxiv</td>\n      <td>2020.04.16.20067884</td>\n      <td>Testing is viewed as a critical aspect of any ...</td>\n      <td>({'id': '-1190320489506440084', 'name': 'Nicho...</td>\n      <td>(epidemiology,)</td>\n    </tr>\n    <tr>\n      <th>4202</th>\n      <td>10.1101/2020.06.04.20122812</td>\n      <td>'Drawing on Wisdom to Cope with Adversity:' A ...</td>\n      <td>2020-06-07</td>\n      <td>medRxiv</td>\n      <td>2020.06.04.20122812</td>\n      <td>Background: Mental health has become one of th...</td>\n      <td>({'id': '6026351697434995649', 'name': 'Jose M...</td>\n      <td>(psychiatry and clinical psychology,)</td>\n    </tr>\n    <tr>\n      <th>2593</th>\n      <td>10.1101/2020.07.11.20151308</td>\n      <td>'Trained immunity' from Mycobacterium spp. exp...</td>\n      <td>2020-07-14</td>\n      <td>medRxiv</td>\n      <td>2020.07.11.20151308</td>\n      <td>Protective variables for COVID-19 are unknown....</td>\n      <td>({'id': '-655212003565356990', 'name': 'Samer ...</td>\n      <td>(infectious diseases,)</td>\n    </tr>\n  </tbody>\n</table>\n</div>"
     },
     "metadata": {},
     "execution_count": 17
    }
   ],
   "source": [
    "# Checking the result.\n",
    "df_data.head()"
   ]
  },
  {
   "cell_type": "code",
   "execution_count": 18,
   "metadata": {
    "tags": []
   },
   "outputs": [
    {
     "output_type": "stream",
     "name": "stdout",
     "text": [
      "<class 'pandas.core.frame.DataFrame'>\nInt64Index: 9027 entries, 862 to 2144\nData columns (total 8 columns):\n #   Column            Non-Null Count  Dtype \n---  ------            --------------  ----- \n 0   doi               9027 non-null   object\n 1   title             9027 non-null   object\n 2   publication_date  9027 non-null   object\n 3   source            9027 non-null   object\n 4   id                9027 non-null   object\n 5   abstract          9023 non-null   object\n 6   author_affil      9027 non-null   object\n 7   subject_areas     9027 non-null   object\ndtypes: object(8)\nmemory usage: 634.7+ KB\n"
     ]
    }
   ],
   "source": [
    "# Visualizing the information of dataset.\n",
    "df_data.info()"
   ]
  },
  {
   "cell_type": "markdown",
   "metadata": {},
   "source": [
    "## 3. Saving the dataframe"
   ]
  },
  {
   "cell_type": "code",
   "execution_count": 19,
   "metadata": {},
   "outputs": [],
   "source": [
    "# Exporting the data to CSV file.\n",
    "df_data.to_csv(\"../../data/prepared/biorxiv_covid_19.csv\", index=False, quoting=csv.QUOTE_ALL)"
   ]
  }
 ],
 "metadata": {
  "kernelspec": {
   "name": "Python 3.8.5 64-bit ('estudos': conda)",
   "display_name": "Python 3.8.5 64-bit ('estudos': conda)",
   "metadata": {
    "interpreter": {
     "hash": "f36571e8ac200d0f57344c8319ea980e2f95eb6f7827d62a556f36e3662bc811"
    }
   }
  },
  "language_info": {
   "codemirror_mode": {
    "name": "ipython",
    "version": 3
   },
   "file_extension": ".py",
   "mimetype": "text/x-python",
   "name": "python",
   "nbconvert_exporter": "python",
   "pygments_lexer": "ipython3",
   "version": "3.8.5-final"
  }
 },
 "nbformat": 4,
 "nbformat_minor": 2
}