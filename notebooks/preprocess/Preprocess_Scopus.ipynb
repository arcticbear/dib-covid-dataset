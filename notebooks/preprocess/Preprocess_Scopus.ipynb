{
 "cells": [
  {
   "cell_type": "markdown",
   "metadata": {},
   "source": [
    "# Cleaning and Preprocessing the Scopus publications related to COVID-19"
   ]
  },
  {
   "cell_type": "markdown",
   "metadata": {},
   "source": [
    "For collecting the Scopus publications related to COVID-19, we used the \"pybliometrics\" library. It is avaliable on [https://pypi.org/project/pybliometrics/]."
   ]
  },
  {
   "cell_type": "code",
   "execution_count": 1,
   "metadata": {},
   "outputs": [],
   "source": [
    "# Importing the required libraries.\n",
    "import re, csv, pandas as pd, numpy as np\n",
    "from pylatexenc.latex2text import LatexNodes2Text"
   ]
  },
  {
   "cell_type": "markdown",
   "metadata": {},
   "source": [
    "## 1. Generating the dataframe from the raw data"
   ]
  },
  {
   "cell_type": "code",
   "execution_count": 2,
   "metadata": {},
   "outputs": [],
   "source": [
    "# Creating a dataframe from the raw data.\n",
    "df_data = pd.read_csv(\"../../data/raw/scopus_raw.csv\", header=0,\n",
    "    dtype={\"id\": \"str\", \"eid\": \"str\", \"pii\": \"str\", \"pubmed_id\": \"str\"})"
   ]
  },
  {
   "cell_type": "code",
   "execution_count": 3,
   "metadata": {},
   "outputs": [
    {
     "output_type": "execute_result",
     "data": {
      "text/plain": [
       "            id                            doi                 eid  \\\n",
       "0  85089569262     10.1109/LCSYS.2020.3009912  2-s2.0-85089569262   \n",
       "1  85089977035      10.1007/s11783-020-1328-8  2-s2.0-85089977035   \n",
       "2  85090582917  10.1016/j.tourman.2020.104180  2-s2.0-85090582917   \n",
       "3  85090053297     10.1016/j.eswa.2020.113909  2-s2.0-85090053297   \n",
       "4  85089501876      10.1016/j.jes.2020.07.029  2-s2.0-85089501876   \n",
       "\n",
       "                 pii pubmed_id  \\\n",
       "0                NaN       NaN   \n",
       "1                NaN       NaN   \n",
       "2  S0261517720301060       NaN   \n",
       "3  S0957417420307041       NaN   \n",
       "4  S1001074220303405       NaN   \n",
       "\n",
       "                                               title  \\\n",
       "0  Can the COVID-19 Epidemic Be Controlled on the...   \n",
       "1            Can we migrate COVID-19 spreading risk?   \n",
       "2  Beyond fragmentary: A proposed measure for tra...   \n",
       "3  Coronavirus disease (COVID-19) detection in Ch...   \n",
       "4  Changes in air pollution during COVID-19 lockd...   \n",
       "\n",
       "                                            abstract  \\\n",
       "0  © 2017 IEEE.This letter studies if and to whic...   \n",
       "1  © 2020, Higher Education Press.It is well reco...   \n",
       "2  © 2020The travel medicine literature points to...   \n",
       "3  © 2020 Elsevier LtdNovel coronavirus disease (...   \n",
       "4  © 2020The COVID-19 pandemic has escalated into...   \n",
       "\n",
       "                                         description publication_date  \\\n",
       "0  © 2017 IEEE.This letter studies if and to whic...       2021-07-01   \n",
       "1  © 2020, Higher Education Press.It is well reco...       2021-06-01   \n",
       "2  © 2020The travel medicine literature points to...       2021-04-01   \n",
       "3  © 2020 Elsevier LtdNovel coronavirus disease (...       2021-03-01   \n",
       "4  © 2020The COVID-19 pandemic has escalated into...       2021-03-01   \n",
       "\n",
       "   citation_num  ...                                       vehicle_name  \\\n",
       "0           0.0  ...                       IEEE Control Systems Letters   \n",
       "1           0.0  ...  Frontiers of Environmental Science and Enginee...   \n",
       "2           0.0  ...                                 Tourism Management   \n",
       "3           0.0  ...                   Expert Systems with Applications   \n",
       "4           0.0  ...          Journal of Environmental Sciences (China)   \n",
       "\n",
       "  vehicle_address title_edition  \\\n",
       "0             NaN           NaN   \n",
       "1             NaN           NaN   \n",
       "2             NaN           NaN   \n",
       "3             NaN           NaN   \n",
       "4             NaN           NaN   \n",
       "\n",
       "                                           publisher  \\\n",
       "0  Institute of Electrical and Electronics Engine...   \n",
       "1                             Higher Education Press   \n",
       "2                                       Elsevier Ltd   \n",
       "3                                       Elsevier Ltd   \n",
       "4                        Chinese Academy of Sciences   \n",
       "\n",
       "                                        affiliations  \\\n",
       "0  ({'id': '60023256', 'affiliation': 'Politecnic...   \n",
       "1  ({'id': '60009254', 'affiliation': 'Purdue Uni...   \n",
       "2  ({'id': '60071895', 'affiliation': 'University...   \n",
       "3  ({'id': '60104578', 'affiliation': 'National I...   \n",
       "4  ({'id': '60105170', 'affiliation': 'Universida...   \n",
       "\n",
       "                                       subject_areas  \\\n",
       "0  ('Control and Systems Engineering', 'Control a...   \n",
       "1                   ('Environmental Science (all)',)   \n",
       "2  ('Development', 'Transportation', 'Tourism, Le...   \n",
       "3  ('Engineering (all)', 'Computer Science Applic...   \n",
       "4  ('Environmental Engineering', 'Environmental C...   \n",
       "\n",
       "                                             authors  \\\n",
       "0  ({'id': '7004188711', 'name': 'Francesco Casel...   \n",
       "1   ({'id': '57198483948', 'name': 'Qingyan Chen'},)   \n",
       "2  ({'id': '56411989300', 'name': 'Charles Atanga...   \n",
       "3  ({'id': '57169926900', 'name': 'Tej Bahadur Ch...   \n",
       "4  ({'id': '57210425621', 'name': 'Álvaro Briz-Re...   \n",
       "\n",
       "                                        author_affil ref_count  \\\n",
       "0  ({'id': '7004188711', 'name': 'Francesco Casel...      27.0   \n",
       "1  ({'id': '57198483948', 'name': 'Qingyan Chen',...      10.0   \n",
       "2  ({'id': '56411989300', 'name': 'Charles Atanga...     118.0   \n",
       "3  ({'id': '57169926900', 'name': 'Tej Bahadur Ch...      66.0   \n",
       "4  ({'id': '57210425621', 'name': 'Álvaro Briz-Re...      67.0   \n",
       "\n",
       "                                          references  \n",
       "0  ({'id': '85081266700', 'title': 'Characteristi...  \n",
       "1  ({'id': '85082406580', 'title': 'Turbulent gas...  \n",
       "2  ({'id': '84925321551', 'title': \"Backpackers' ...  \n",
       "3  ({'id': '85090055343', 'title': None, 'doi': N...  \n",
       "4  ({'id': '85060059158', 'title': 'Impact of air...  \n",
       "\n",
       "[5 rows x 29 columns]"
      ],
      "text/html": "<div>\n<style scoped>\n    .dataframe tbody tr th:only-of-type {\n        vertical-align: middle;\n    }\n\n    .dataframe tbody tr th {\n        vertical-align: top;\n    }\n\n    .dataframe thead th {\n        text-align: right;\n    }\n</style>\n<table border=\"1\" class=\"dataframe\">\n  <thead>\n    <tr style=\"text-align: right;\">\n      <th></th>\n      <th>id</th>\n      <th>doi</th>\n      <th>eid</th>\n      <th>pii</th>\n      <th>pubmed_id</th>\n      <th>title</th>\n      <th>abstract</th>\n      <th>description</th>\n      <th>publication_date</th>\n      <th>citation_num</th>\n      <th>...</th>\n      <th>vehicle_name</th>\n      <th>vehicle_address</th>\n      <th>title_edition</th>\n      <th>publisher</th>\n      <th>affiliations</th>\n      <th>subject_areas</th>\n      <th>authors</th>\n      <th>author_affil</th>\n      <th>ref_count</th>\n      <th>references</th>\n    </tr>\n  </thead>\n  <tbody>\n    <tr>\n      <th>0</th>\n      <td>85089569262</td>\n      <td>10.1109/LCSYS.2020.3009912</td>\n      <td>2-s2.0-85089569262</td>\n      <td>NaN</td>\n      <td>NaN</td>\n      <td>Can the COVID-19 Epidemic Be Controlled on the...</td>\n      <td>© 2017 IEEE.This letter studies if and to whic...</td>\n      <td>© 2017 IEEE.This letter studies if and to whic...</td>\n      <td>2021-07-01</td>\n      <td>0.0</td>\n      <td>...</td>\n      <td>IEEE Control Systems Letters</td>\n      <td>NaN</td>\n      <td>NaN</td>\n      <td>Institute of Electrical and Electronics Engine...</td>\n      <td>({'id': '60023256', 'affiliation': 'Politecnic...</td>\n      <td>('Control and Systems Engineering', 'Control a...</td>\n      <td>({'id': '7004188711', 'name': 'Francesco Casel...</td>\n      <td>({'id': '7004188711', 'name': 'Francesco Casel...</td>\n      <td>27.0</td>\n      <td>({'id': '85081266700', 'title': 'Characteristi...</td>\n    </tr>\n    <tr>\n      <th>1</th>\n      <td>85089977035</td>\n      <td>10.1007/s11783-020-1328-8</td>\n      <td>2-s2.0-85089977035</td>\n      <td>NaN</td>\n      <td>NaN</td>\n      <td>Can we migrate COVID-19 spreading risk?</td>\n      <td>© 2020, Higher Education Press.It is well reco...</td>\n      <td>© 2020, Higher Education Press.It is well reco...</td>\n      <td>2021-06-01</td>\n      <td>0.0</td>\n      <td>...</td>\n      <td>Frontiers of Environmental Science and Enginee...</td>\n      <td>NaN</td>\n      <td>NaN</td>\n      <td>Higher Education Press</td>\n      <td>({'id': '60009254', 'affiliation': 'Purdue Uni...</td>\n      <td>('Environmental Science (all)',)</td>\n      <td>({'id': '57198483948', 'name': 'Qingyan Chen'},)</td>\n      <td>({'id': '57198483948', 'name': 'Qingyan Chen',...</td>\n      <td>10.0</td>\n      <td>({'id': '85082406580', 'title': 'Turbulent gas...</td>\n    </tr>\n    <tr>\n      <th>2</th>\n      <td>85090582917</td>\n      <td>10.1016/j.tourman.2020.104180</td>\n      <td>2-s2.0-85090582917</td>\n      <td>S0261517720301060</td>\n      <td>NaN</td>\n      <td>Beyond fragmentary: A proposed measure for tra...</td>\n      <td>© 2020The travel medicine literature points to...</td>\n      <td>© 2020The travel medicine literature points to...</td>\n      <td>2021-04-01</td>\n      <td>0.0</td>\n      <td>...</td>\n      <td>Tourism Management</td>\n      <td>NaN</td>\n      <td>NaN</td>\n      <td>Elsevier Ltd</td>\n      <td>({'id': '60071895', 'affiliation': 'University...</td>\n      <td>('Development', 'Transportation', 'Tourism, Le...</td>\n      <td>({'id': '56411989300', 'name': 'Charles Atanga...</td>\n      <td>({'id': '56411989300', 'name': 'Charles Atanga...</td>\n      <td>118.0</td>\n      <td>({'id': '84925321551', 'title': \"Backpackers' ...</td>\n    </tr>\n    <tr>\n      <th>3</th>\n      <td>85090053297</td>\n      <td>10.1016/j.eswa.2020.113909</td>\n      <td>2-s2.0-85090053297</td>\n      <td>S0957417420307041</td>\n      <td>NaN</td>\n      <td>Coronavirus disease (COVID-19) detection in Ch...</td>\n      <td>© 2020 Elsevier LtdNovel coronavirus disease (...</td>\n      <td>© 2020 Elsevier LtdNovel coronavirus disease (...</td>\n      <td>2021-03-01</td>\n      <td>0.0</td>\n      <td>...</td>\n      <td>Expert Systems with Applications</td>\n      <td>NaN</td>\n      <td>NaN</td>\n      <td>Elsevier Ltd</td>\n      <td>({'id': '60104578', 'affiliation': 'National I...</td>\n      <td>('Engineering (all)', 'Computer Science Applic...</td>\n      <td>({'id': '57169926900', 'name': 'Tej Bahadur Ch...</td>\n      <td>({'id': '57169926900', 'name': 'Tej Bahadur Ch...</td>\n      <td>66.0</td>\n      <td>({'id': '85090055343', 'title': None, 'doi': N...</td>\n    </tr>\n    <tr>\n      <th>4</th>\n      <td>85089501876</td>\n      <td>10.1016/j.jes.2020.07.029</td>\n      <td>2-s2.0-85089501876</td>\n      <td>S1001074220303405</td>\n      <td>NaN</td>\n      <td>Changes in air pollution during COVID-19 lockd...</td>\n      <td>© 2020The COVID-19 pandemic has escalated into...</td>\n      <td>© 2020The COVID-19 pandemic has escalated into...</td>\n      <td>2021-03-01</td>\n      <td>0.0</td>\n      <td>...</td>\n      <td>Journal of Environmental Sciences (China)</td>\n      <td>NaN</td>\n      <td>NaN</td>\n      <td>Chinese Academy of Sciences</td>\n      <td>({'id': '60105170', 'affiliation': 'Universida...</td>\n      <td>('Environmental Engineering', 'Environmental C...</td>\n      <td>({'id': '57210425621', 'name': 'Álvaro Briz-Re...</td>\n      <td>({'id': '57210425621', 'name': 'Álvaro Briz-Re...</td>\n      <td>67.0</td>\n      <td>({'id': '85060059158', 'title': 'Impact of air...</td>\n    </tr>\n  </tbody>\n</table>\n<p>5 rows × 29 columns</p>\n</div>"
     },
     "metadata": {},
     "execution_count": 3
    }
   ],
   "source": [
    "# Checking the dataframe.\n",
    "df_data.head()"
   ]
  },
  {
   "cell_type": "code",
   "execution_count": 4,
   "metadata": {
    "tags": []
   },
   "outputs": [
    {
     "output_type": "stream",
     "name": "stdout",
     "text": [
      "<class 'pandas.core.frame.DataFrame'>\nRangeIndex: 53331 entries, 0 to 53330\nData columns (total 29 columns):\n #   Column            Non-Null Count  Dtype  \n---  ------            --------------  -----  \n 0   id                53331 non-null  object \n 1   doi               51796 non-null  object \n 2   eid               53328 non-null  object \n 3   pii               15890 non-null  object \n 4   pubmed_id         35058 non-null  object \n 5   title             53328 non-null  object \n 6   abstract          30202 non-null  object \n 7   description       30202 non-null  object \n 8   publication_date  53328 non-null  object \n 9   citation_num      53328 non-null  float64\n 10  language          53044 non-null  object \n 11  production_type   53328 non-null  object \n 12  source_type       53328 non-null  object \n 13  auth_keywords     28021 non-null  object \n 14  index_terms       24011 non-null  object \n 15  issn              53238 non-null  object \n 16  isbn              142 non-null    object \n 17  conf_location     0 non-null      float64\n 18  conference_name   158 non-null    object \n 19  vehicle_name      53328 non-null  object \n 20  vehicle_address   0 non-null      float64\n 21  title_edition     157 non-null    object \n 22  publisher         53324 non-null  object \n 23  affiliations      49428 non-null  object \n 24  subject_areas     53265 non-null  object \n 25  authors           52589 non-null  object \n 26  author_affil      52659 non-null  object \n 27  ref_count         44586 non-null  float64\n 28  references        44580 non-null  object \ndtypes: float64(4), object(25)\nmemory usage: 11.8+ MB\n"
     ]
    }
   ],
   "source": [
    "# Visualizing the information of dataset.\n",
    "df_data.info()"
   ]
  },
  {
   "cell_type": "markdown",
   "metadata": {},
   "source": [
    "## 2. Cleaning and preprocessing the dataframe"
   ]
  },
  {
   "cell_type": "code",
   "execution_count": 5,
   "metadata": {},
   "outputs": [],
   "source": [
    "# Defining the function \"clean_text\" to clean and preprocess any text.\n",
    "def clean_text(text, has_latex=False):\n",
    "    if text:\n",
    "        text = re.sub(r\"\\s+\", \" \", re.sub(r\"\\ufeff\\.?\", \"\", re.sub(\n",
    "            r\"\\\\\\\\(\\’\\s)?\", \"\", str(text)))).replace(\"\\u200b\", \"\").replace(\"\\ue001\", \"\").replace(\n",
    "            \"\\ue061\", \"\").replace(\"\\u202f\", \"\").replace(\"\\u2060\", \"\").replace(\"\\u200f\", \"\").replace(\n",
    "            \"\\u200e\", \"\").replace(\"\\u202c\", \"\").replace(\"&#x2013;\", \"-\").replace(\"&quot\", \"\\\"\\\"\").replace(\n",
    "            \"\\u200c\", \"\").replace(\"\\\\u0019\", \"\").replace(\"\\\\s\", \"s\").strip()\n",
    "        if has_latex:\n",
    "            text = LatexNodes2Text().latex_to_text(re.sub(\"\\\\?%\", \"@PER@CENT@\", text)).replace(\"@PER@CENT@\", \"%\")\n",
    "        text = re.sub(r\"\\s+\", \" \", re.sub(r\"\\-{2,}\", \"-\", re.sub(r\"\\s?\\xad(\\s|\\-)?\", \"-\", text))).replace(\n",
    "            \"\\\\\", \"\").replace(\"\\\\%\", \"%\").replace(\"()\", \"\").replace(\"[]\", \"\").strip()\n",
    "        return text\n",
    "    else:\n",
    "        return None"
   ]
  },
  {
   "cell_type": "code",
   "execution_count": 6,
   "metadata": {},
   "outputs": [],
   "source": [
    "# Removing the invalid articles.\n",
    "df_data = df_data.loc[df_data.id.notnull() & df_data.eid.notnull()]"
   ]
  },
  {
   "cell_type": "code",
   "execution_count": 7,
   "metadata": {},
   "outputs": [],
   "source": [
    "# Defining the \"None\" value for the \"NaN\" values.\n",
    "df_data.replace({np.nan: None}, inplace=True)"
   ]
  },
  {
   "cell_type": "code",
   "execution_count": 8,
   "metadata": {},
   "outputs": [],
   "source": [
    "# Defining the \"zero\" value for the articles without numbers of citation and references.\n",
    "df_data.citation_num.loc[df_data.citation_num.isnull()] = 0\n",
    "df_data.ref_count.loc[df_data.ref_count.isnull()] = 0"
   ]
  },
  {
   "cell_type": "code",
   "execution_count": 9,
   "metadata": {},
   "outputs": [],
   "source": [
    "# Normalizing the feature \"abstract\".\n",
    "df_data.abstract.loc[df_data.abstract.isnull() & df_data.description.notnull()] = df_data.description.loc[\n",
    "    df_data.abstract.isnull() & df_data.description.notnull()]\n",
    "df_data.abstract.loc[df_data.abstract.notnull()] = df_data.abstract.loc[df_data.abstract.notnull()].apply(\n",
    "    lambda x: clean_text(x, True))"
   ]
  },
  {
   "cell_type": "code",
   "execution_count": 10,
   "metadata": {},
   "outputs": [],
   "source": [
    "# Normalizing the feature \"vehicle_name\".\n",
    "df_data.vehicle_name.loc[df_data.conference_name.notnull() & df_data.vehicle_name.notnull()] = df_data.conference_name.loc[df_data.conference_name.notnull() & df_data.vehicle_name.notnull()]\n",
    "df_data.vehicle_name.loc[df_data.vehicle_name.notnull()] = df_data.vehicle_name.loc[\n",
    "    df_data.vehicle_name.notnull()].apply(clean_text)"
   ]
  },
  {
   "cell_type": "code",
   "execution_count": 11,
   "metadata": {},
   "outputs": [],
   "source": [
    "# Normalizing the feature \"title\".\n",
    "df_data.title.loc[df_data.title.notnull()] = df_data.title.loc[df_data.title.notnull()].apply(clean_text)"
   ]
  },
  {
   "cell_type": "code",
   "execution_count": 12,
   "metadata": {},
   "outputs": [],
   "source": [
    "# Removing unnecessary columns.\n",
    "columns_drop = [\"eid\", \"pii\", \"description\", \"isbn\", \"conf_location\", \"conference_name\",\n",
    "    \"vehicle_address\", \"title_edition\"]\n",
    "df_data.drop(axis=1, columns=columns_drop, inplace=True)"
   ]
  },
  {
   "cell_type": "code",
   "execution_count": 13,
   "metadata": {},
   "outputs": [],
   "source": [
    "# Changing the type of some features.\n",
    "df_data.loc[:, [\"citation_num\", \"ref_count\"]] = df_data.loc[\n",
    "    :, [\"citation_num\", \"ref_count\"]].astype(\"int\")\n",
    "df_data.auth_keywords.loc[df_data.auth_keywords.notnull()] = df_data.auth_keywords.loc[\n",
    "    df_data.auth_keywords.notnull()].apply(eval)\n",
    "df_data.index_terms.loc[df_data.index_terms.notnull()] = df_data.index_terms.loc[\n",
    "    df_data.index_terms.notnull()].apply(eval)\n",
    "df_data.affiliations.loc[df_data.affiliations.notnull()] = df_data.affiliations.loc[\n",
    "    df_data.affiliations.notnull()].apply(eval)\n",
    "df_data.subject_areas.loc[df_data.subject_areas.notnull()] = df_data.subject_areas.loc[\n",
    "    df_data.subject_areas.notnull()].apply(eval)\n",
    "df_data.authors.loc[df_data.authors.notnull()] = df_data.authors.loc[df_data.authors.notnull()].apply(eval)\n",
    "df_data.author_affil.loc[df_data.author_affil.notnull()] = df_data.author_affil.loc[\n",
    "    df_data.author_affil.notnull()].apply(eval)\n",
    "df_data.references.loc[df_data.references.notnull()] = df_data.references.loc[\n",
    "    df_data.references.notnull()].apply(eval)\n",
    "df_data.publication_date = pd.to_datetime(df_data.publication_date)"
   ]
  },
  {
   "cell_type": "code",
   "execution_count": 14,
   "metadata": {},
   "outputs": [],
   "source": [
    "# Normalizing the itens contained in the features \"auth_keywords\" and \"index_terms\".\n",
    "df_data.auth_keywords.loc[df_data.auth_keywords.notnull()] = df_data.auth_keywords.loc[\n",
    "    df_data.auth_keywords.notnull()].apply(lambda x: tuple([clean_text(item) for item in x]))\n",
    "df_data.index_terms.loc[df_data.index_terms.notnull()] = df_data.index_terms.loc[\n",
    "    df_data.index_terms.notnull()].apply(lambda x: tuple([clean_text(item) for item in x]))"
   ]
  },
  {
   "cell_type": "code",
   "execution_count": 15,
   "metadata": {
    "tags": []
   },
   "outputs": [
    {
     "output_type": "stream",
     "name": "stdout",
     "text": [
      "auth_keywords: 0\n",
      "index_terms: 0\n",
      "subject_areas: 0\n"
     ]
    }
   ],
   "source": [
    "# Checking there are invalid values in the features \"auth_keywords\", \"index_terms\" and \"subject_areas\".\n",
    "for column in [\"auth_keywords\", \"index_terms\", \"subject_areas\"]:\n",
    "    count = df_data.loc[df_data[column].notnull(), column][\n",
    "                [np.any([item == None or item.lower() == \"none\" for item in items])\n",
    "                 for items in df_data.loc[df_data[column].notnull(), column]]].size\n",
    "    print(\"{}: {}\".format(column, count))"
   ]
  },
  {
   "cell_type": "code",
   "execution_count": 16,
   "metadata": {},
   "outputs": [],
   "source": [
    "# Removing the invalid values in the features \"auth_keywords\", \"index_terms\" and \"subject_areas\".\n",
    "for column in [\"auth_keywords\", \"index_terms\", \"subject_areas\"]:\n",
    "    df_data.loc[df_data[column].notnull(), column] = [\n",
    "        tuple([item for item in items if item])\n",
    "        for items in df_data.loc[df_data[column].notnull(), column]]\n",
    "    df_data.loc[df_data[column].notnull(), column] = df_data.loc[\n",
    "        df_data[column].notnull(), column].apply(lambda x: x if len(x) > 0 else None)"
   ]
  },
  {
   "cell_type": "code",
   "execution_count": 17,
   "metadata": {},
   "outputs": [],
   "source": [
    "# Normalizing the content contained in the features \"authors\", \"affiliations\" and \"author_affil\".\n",
    "df_data.affiliations.loc[df_data.affiliations.notnull()] = df_data.affiliations.loc[\n",
    "    df_data.affiliations.notnull()].apply(lambda x: tuple([{\"id\": item[\"id\"],\n",
    "        \"affiliation\": clean_text(item[\"affiliation\"]), \"country\": item[\"country\"]}\n",
    "        for item in x if item[\"id\"]]))\n",
    "df_data.author_affil.loc[df_data.author_affil.notnull()] = df_data.author_affil.loc[\n",
    "    df_data.author_affil.notnull()].apply(lambda x: tuple(\n",
    "        [{\"id\": item[\"id\"], \"name\": clean_text(item[\"name\"]), \"affil_id\": item[\"affil_id\"],\n",
    "          \"affiliation\": clean_text(item[\"affiliation\"]), \"country\": item[\"country\"]}\n",
    "         for item in x if item[\"id\"] or item[\"name\"] or item[\"affil_id\"] or \\\n",
    "             item[\"affiliation\"] or item[\"country\"]]))\n",
    "df_data.authors.loc[df_data.authors.notnull()] = df_data.authors.loc[\n",
    "    df_data.authors.notnull()].apply(lambda x: tuple(\n",
    "        [{\"id\": item[\"id\"], \"name\": clean_text(item[\"name\"])} for item in x if item[\"id\"]]))"
   ]
  },
  {
   "cell_type": "code",
   "execution_count": 18,
   "metadata": {},
   "outputs": [],
   "source": [
    "# Creating the log file with invalid authors' Scopus ID (there is a Scopus ID, but there is not a name).\n",
    "ids_authors = set([author[\"id\"] for authors in df_data.authors.loc[df_data.authors.notnull()]\n",
    "    for author in authors if author[\"id\"] and not author[\"name\"]])\n",
    "ids_authors = ids_authors.union(set([author[\"id\"] for authors in df_data.author_affil.loc[\n",
    "        df_data.authors.isnull() & df_data.author_affil.notnull()]\n",
    "    for author in authors if author[\"id\"] and not author[\"name\"]]))\n",
    "with open(\"ids_invalids.txt\", \"w\") as file:\n",
    "    file.writelines([\"{}\\n\".format(id_au) for id_au in ids_authors])"
   ]
  },
  {
   "cell_type": "code",
   "execution_count": 19,
   "metadata": {},
   "outputs": [],
   "source": [
    "# Removing the authors without their complete name.\n",
    "df_data.authors.loc[df_data.authors.notnull()] = df_data.authors.loc[\n",
    "    df_data.authors.notnull()].apply(lambda x: tuple([item for item in x if item[\"name\"]]))\n",
    "df_data.author_affil.loc[df_data.author_affil.notnull()] = df_data.author_affil.loc[\n",
    "    df_data.author_affil.notnull()].apply(lambda x: tuple([item for item in x\n",
    "        if item[\"name\"] or item[\"affil_id\"] or item[\"affiliation\"] or item[\"country\"]]))"
   ]
  },
  {
   "cell_type": "code",
   "execution_count": 20,
   "metadata": {},
   "outputs": [],
   "source": [
    "# Removing the invalid values in the features \"authors\", \"affiliations\" and \"author_affil\".\n",
    "for column in [\"authors\", \"affiliations\", \"author_affil\"]:\n",
    "    df_data.loc[df_data[column].notnull(), column] = df_data.loc[\n",
    "        df_data[column].notnull(), column].apply(lambda x: x if len(x) > 0 else None)"
   ]
  },
  {
   "cell_type": "code",
   "execution_count": 21,
   "metadata": {},
   "outputs": [],
   "source": [
    "# Creating the affiliations' and authors' IDs for those that have not a ID.\n",
    "df_data.author_affil.loc[df_data.author_affil.notnull()] = df_data.author_affil.loc[\n",
    "    df_data.author_affil.notnull()].apply(lambda x: tuple([{\n",
    "        \"id\": item[\"id\"] if item[\"name\"] else None,\n",
    "        \"name\": item[\"name\"],\n",
    "        \"affil_id\": item[\"affil_id\"] if item[\"affil_id\"] and item[\"affiliation\"] else \\\n",
    "            str(hash(\"{} - {}\".format(item[\"affiliation\"], \"Scopus\"))) \\\n",
    "                if item[\"affiliation\"] else None,\n",
    "        \"affiliation\": item[\"affiliation\"], \"country\": item[\"country\"]}\n",
    "    for item in x]))"
   ]
  },
  {
   "cell_type": "code",
   "execution_count": 22,
   "metadata": {},
   "outputs": [],
   "source": [
    "# Removing the duplicated records by features \"title\" and \"doi\".\n",
    "df_data = pd.concat([df_data[df_data.title.isnull() | df_data.doi.isnull()],\n",
    "    df_data[df_data.title.notnull() & df_data.doi.notnull()].sort_values(\n",
    "        by=[\"title\", \"citation_num\", \"publication_date\"]).drop_duplicates(\n",
    "            [\"title\", \"doi\"], \"last\")], ignore_index=True)"
   ]
  },
  {
   "cell_type": "code",
   "execution_count": 23,
   "metadata": {},
   "outputs": [],
   "source": [
    "# Normalizing the feature \"references\".\n",
    "df_data.references.loc[df_data.references.notnull()] = df_data.references.loc[\n",
    "    df_data.references.notnull()].apply(lambda x: tuple(\n",
    "        [{\"id\": ref[\"id\"], \"title\": clean_text(ref[\"title\"], True),\n",
    "          \"doi\": clean_text(ref[\"doi\"]), \"authors\": clean_text(ref[\"authors\"], True)}\n",
    "         for ref in x]))"
   ]
  },
  {
   "cell_type": "code",
   "execution_count": 24,
   "metadata": {},
   "outputs": [
    {
     "output_type": "execute_result",
     "data": {
      "text/plain": [
       "            id   doi pubmed_id  \\\n",
       "0  85090092938  None      None   \n",
       "1  85090051630  None      None   \n",
       "2  85090760353  None      None   \n",
       "3  85082677914  None      None   \n",
       "4  85090891903  None      None   \n",
       "\n",
       "                                               title  \\\n",
       "0  12th International Conference on Intelligent N...   \n",
       "1  23rd International Conference on Network-Based...   \n",
       "2          Open educational resources in Canada 2020   \n",
       "3  Industry reacts to coronavirus outbreak: Nonwo...   \n",
       "4  Proceedings of the 6th International Conferenc...   \n",
       "\n",
       "                                            abstract publication_date  \\\n",
       "0  The proceedings contain 48 papers. The special...       2021-01-01   \n",
       "1  The proceedings contain 61 papers. The special...       2021-01-01   \n",
       "2  © 2020, Canadian Network for Innovation in Edu...       2020-12-01   \n",
       "3                                               None       2020-12-01   \n",
       "4  The proceedings contain 105 papers. The topics...       2020-09-14   \n",
       "\n",
       "  citation_num language        production_type source_type  ... index_terms  \\\n",
       "0            0      eng            Book Series           k  ...        None   \n",
       "1            0      eng            Book Series           k  ...        None   \n",
       "2            0      eng                Journal           j  ...        None   \n",
       "3            0      eng          Trade Journal           d  ...        None   \n",
       "4            0      eng  Conference Proceeding           p  ...        None   \n",
       "\n",
       "                issn                                       vehicle_name  \\\n",
       "0  21945365 21945357  12th International Conference on Intelligent N...   \n",
       "1  21945365 21945357  23rd International Conference on Network-Based...   \n",
       "2           14996685        Canadian Journal of Learning and Technology   \n",
       "3           01634429                                 Nonwovens Industry   \n",
       "4               None  6th International Conference on Engineering an...   \n",
       "\n",
       "                                      publisher  \\\n",
       "0                                      Springer   \n",
       "1                                      Springer   \n",
       "2  Canadian Network for Innovation in Education   \n",
       "3                      Rodman Publications Inc.   \n",
       "4           Association for Computing Machinery   \n",
       "\n",
       "                                        affiliations  \\\n",
       "0                                               None   \n",
       "1                                               None   \n",
       "2  ({'id': '60018510', 'affiliation': 'Athabasca ...   \n",
       "3                                               None   \n",
       "4                                               None   \n",
       "\n",
       "                                       subject_areas  \\\n",
       "0  (Control and Systems Engineering, Computer Sci...   \n",
       "1  (Control and Systems Engineering, Computer Sci...   \n",
       "2  (Education, Computer Science Applications, Man...   \n",
       "3  (Business and International Management, Materi...   \n",
       "4  (Computer Networks and Communications, Compute...   \n",
       "\n",
       "                                           authors  \\\n",
       "0                                             None   \n",
       "1                                             None   \n",
       "2  ({'id': '6507436970', 'name': 'Rory McGreal'},)   \n",
       "3   ({'id': '57193877330', 'name': 'Tara Olivo'},)   \n",
       "4                                             None   \n",
       "\n",
       "                                        author_affil ref_count  \\\n",
       "0                                               None         0   \n",
       "1                                               None         0   \n",
       "2  ({'id': '6507436970', 'name': 'Rory McGreal', ...        25   \n",
       "3  ({'id': '57193877330', 'name': 'Tara Olivo', '...         0   \n",
       "4                                               None         0   \n",
       "\n",
       "                                          references  \n",
       "0                                               None  \n",
       "1                                               None  \n",
       "2  ({'id': '85090794360', 'title': None, 'doi': N...  \n",
       "3                                               None  \n",
       "4                                               None  \n",
       "\n",
       "[5 rows x 21 columns]"
      ],
      "text/html": "<div>\n<style scoped>\n    .dataframe tbody tr th:only-of-type {\n        vertical-align: middle;\n    }\n\n    .dataframe tbody tr th {\n        vertical-align: top;\n    }\n\n    .dataframe thead th {\n        text-align: right;\n    }\n</style>\n<table border=\"1\" class=\"dataframe\">\n  <thead>\n    <tr style=\"text-align: right;\">\n      <th></th>\n      <th>id</th>\n      <th>doi</th>\n      <th>pubmed_id</th>\n      <th>title</th>\n      <th>abstract</th>\n      <th>publication_date</th>\n      <th>citation_num</th>\n      <th>language</th>\n      <th>production_type</th>\n      <th>source_type</th>\n      <th>...</th>\n      <th>index_terms</th>\n      <th>issn</th>\n      <th>vehicle_name</th>\n      <th>publisher</th>\n      <th>affiliations</th>\n      <th>subject_areas</th>\n      <th>authors</th>\n      <th>author_affil</th>\n      <th>ref_count</th>\n      <th>references</th>\n    </tr>\n  </thead>\n  <tbody>\n    <tr>\n      <th>0</th>\n      <td>85090092938</td>\n      <td>None</td>\n      <td>None</td>\n      <td>12th International Conference on Intelligent N...</td>\n      <td>The proceedings contain 48 papers. The special...</td>\n      <td>2021-01-01</td>\n      <td>0</td>\n      <td>eng</td>\n      <td>Book Series</td>\n      <td>k</td>\n      <td>...</td>\n      <td>None</td>\n      <td>21945365 21945357</td>\n      <td>12th International Conference on Intelligent N...</td>\n      <td>Springer</td>\n      <td>None</td>\n      <td>(Control and Systems Engineering, Computer Sci...</td>\n      <td>None</td>\n      <td>None</td>\n      <td>0</td>\n      <td>None</td>\n    </tr>\n    <tr>\n      <th>1</th>\n      <td>85090051630</td>\n      <td>None</td>\n      <td>None</td>\n      <td>23rd International Conference on Network-Based...</td>\n      <td>The proceedings contain 61 papers. The special...</td>\n      <td>2021-01-01</td>\n      <td>0</td>\n      <td>eng</td>\n      <td>Book Series</td>\n      <td>k</td>\n      <td>...</td>\n      <td>None</td>\n      <td>21945365 21945357</td>\n      <td>23rd International Conference on Network-Based...</td>\n      <td>Springer</td>\n      <td>None</td>\n      <td>(Control and Systems Engineering, Computer Sci...</td>\n      <td>None</td>\n      <td>None</td>\n      <td>0</td>\n      <td>None</td>\n    </tr>\n    <tr>\n      <th>2</th>\n      <td>85090760353</td>\n      <td>None</td>\n      <td>None</td>\n      <td>Open educational resources in Canada 2020</td>\n      <td>© 2020, Canadian Network for Innovation in Edu...</td>\n      <td>2020-12-01</td>\n      <td>0</td>\n      <td>eng</td>\n      <td>Journal</td>\n      <td>j</td>\n      <td>...</td>\n      <td>None</td>\n      <td>14996685</td>\n      <td>Canadian Journal of Learning and Technology</td>\n      <td>Canadian Network for Innovation in Education</td>\n      <td>({'id': '60018510', 'affiliation': 'Athabasca ...</td>\n      <td>(Education, Computer Science Applications, Man...</td>\n      <td>({'id': '6507436970', 'name': 'Rory McGreal'},)</td>\n      <td>({'id': '6507436970', 'name': 'Rory McGreal', ...</td>\n      <td>25</td>\n      <td>({'id': '85090794360', 'title': None, 'doi': N...</td>\n    </tr>\n    <tr>\n      <th>3</th>\n      <td>85082677914</td>\n      <td>None</td>\n      <td>None</td>\n      <td>Industry reacts to coronavirus outbreak: Nonwo...</td>\n      <td>None</td>\n      <td>2020-12-01</td>\n      <td>0</td>\n      <td>eng</td>\n      <td>Trade Journal</td>\n      <td>d</td>\n      <td>...</td>\n      <td>None</td>\n      <td>01634429</td>\n      <td>Nonwovens Industry</td>\n      <td>Rodman Publications Inc.</td>\n      <td>None</td>\n      <td>(Business and International Management, Materi...</td>\n      <td>({'id': '57193877330', 'name': 'Tara Olivo'},)</td>\n      <td>({'id': '57193877330', 'name': 'Tara Olivo', '...</td>\n      <td>0</td>\n      <td>None</td>\n    </tr>\n    <tr>\n      <th>4</th>\n      <td>85090891903</td>\n      <td>None</td>\n      <td>None</td>\n      <td>Proceedings of the 6th International Conferenc...</td>\n      <td>The proceedings contain 105 papers. The topics...</td>\n      <td>2020-09-14</td>\n      <td>0</td>\n      <td>eng</td>\n      <td>Conference Proceeding</td>\n      <td>p</td>\n      <td>...</td>\n      <td>None</td>\n      <td>None</td>\n      <td>6th International Conference on Engineering an...</td>\n      <td>Association for Computing Machinery</td>\n      <td>None</td>\n      <td>(Computer Networks and Communications, Compute...</td>\n      <td>None</td>\n      <td>None</td>\n      <td>0</td>\n      <td>None</td>\n    </tr>\n  </tbody>\n</table>\n<p>5 rows × 21 columns</p>\n</div>"
     },
     "metadata": {},
     "execution_count": 24
    }
   ],
   "source": [
    "# Checking the result.\n",
    "df_data.head()"
   ]
  },
  {
   "cell_type": "code",
   "execution_count": 25,
   "metadata": {
    "tags": []
   },
   "outputs": [
    {
     "output_type": "stream",
     "name": "stdout",
     "text": [
      "<class 'pandas.core.frame.DataFrame'>\nRangeIndex: 53266 entries, 0 to 53265\nData columns (total 21 columns):\n #   Column            Non-Null Count  Dtype         \n---  ------            --------------  -----         \n 0   id                53266 non-null  object        \n 1   doi               51734 non-null  object        \n 2   pubmed_id         35006 non-null  object        \n 3   title             53266 non-null  object        \n 4   abstract          30189 non-null  object        \n 5   publication_date  53266 non-null  datetime64[ns]\n 6   citation_num      53266 non-null  object        \n 7   language          52982 non-null  object        \n 8   production_type   53266 non-null  object        \n 9   source_type       53266 non-null  object        \n 10  auth_keywords     28011 non-null  object        \n 11  index_terms       23975 non-null  object        \n 12  issn              53176 non-null  object        \n 13  vehicle_name      53266 non-null  object        \n 14  publisher         53262 non-null  object        \n 15  affiliations      49380 non-null  object        \n 16  subject_areas     53203 non-null  object        \n 17  authors           52412 non-null  object        \n 18  author_affil      52445 non-null  object        \n 19  ref_count         53266 non-null  object        \n 20  references        44564 non-null  object        \ndtypes: datetime64[ns](1), object(20)\nmemory usage: 8.5+ MB\n"
     ]
    }
   ],
   "source": [
    "# Visualizing the information of dataset.\n",
    "df_data.info()"
   ]
  },
  {
   "cell_type": "markdown",
   "metadata": {},
   "source": [
    "## 3. Saving the dataframe"
   ]
  },
  {
   "cell_type": "code",
   "execution_count": 26,
   "metadata": {},
   "outputs": [],
   "source": [
    "# Exporting the data to CSV file.\n",
    "df_data.to_csv(\"../../data/prepared/scopus_covid_19.csv\", index=False, quoting=csv.QUOTE_ALL)"
   ]
  }
 ],
 "metadata": {
  "kernelspec": {
   "name": "Python 3.8.5 64-bit ('estudos': conda)",
   "display_name": "Python 3.8.5 64-bit ('estudos': conda)",
   "metadata": {
    "interpreter": {
     "hash": "f36571e8ac200d0f57344c8319ea980e2f95eb6f7827d62a556f36e3662bc811"
    }
   }
  },
  "language_info": {
   "codemirror_mode": {
    "name": "ipython",
    "version": 3
   },
   "file_extension": ".py",
   "mimetype": "text/x-python",
   "name": "python",
   "nbconvert_exporter": "python",
   "pygments_lexer": "ipython3",
   "version": "3.8.5-final"
  }
 },
 "nbformat": 4,
 "nbformat_minor": 4
}